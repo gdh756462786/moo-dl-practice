{
 "cells": [
  {
   "cell_type": "code",
   "execution_count": 1,
   "metadata": {
    "collapsed": true
   },
   "outputs": [],
   "source": [
    "import tensorflow as tf\n",
    "import numpy as np\n",
    "tf.set_random_seed(777)"
   ]
  },
  {
   "cell_type": "code",
   "execution_count": 2,
   "metadata": {
    "collapsed": true
   },
   "outputs": [],
   "source": [
    "# set data\n",
    "x_data = [[0, 0],\n",
    "          [0, 1],\n",
    "          [1, 0],\n",
    "          [1, 1]]\n",
    "y_data = [[0],\n",
    "          [1],\n",
    "          [1],\n",
    "          [0]]\n",
    "\n",
    "x_data = np.array(x_data, dtype=np.float32)\n",
    "y_data = np.array(y_data, dtype=np.float32)"
   ]
  },
  {
   "cell_type": "code",
   "execution_count": 3,
   "metadata": {
    "collapsed": true
   },
   "outputs": [],
   "source": [
    "X = tf.placeholder(tf.float32, [None, 2])\n",
    "Y = tf.placeholder(tf.float32, [None, 1])"
   ]
  },
  {
   "cell_type": "code",
   "execution_count": 4,
   "metadata": {
    "collapsed": true
   },
   "outputs": [],
   "source": [
    "W1 = tf.Variable(tf.random_normal([2, 2]), name='weight1')\n",
    "b1 = tf.Variable(tf.random_normal([2]), name='bias1')\n",
    "l1 = tf.sigmoid(tf.matmul(X, W1) + b1)"
   ]
  },
  {
   "cell_type": "code",
   "execution_count": 5,
   "metadata": {
    "collapsed": true
   },
   "outputs": [],
   "source": [
    "W2 = tf.Variable(tf.random_normal([2, 1]), name='weight2')\n",
    "b2 = tf.Variable(tf.random_normal([1]), name='bias2')\n",
    "Y_pred = tf.sigmoid(tf.matmul(l1, W2) + b2)"
   ]
  },
  {
   "cell_type": "code",
   "execution_count": 6,
   "metadata": {
    "collapsed": true
   },
   "outputs": [],
   "source": [
    "# cost/loss function\n",
    "cost = -tf.reduce_mean(Y * tf.log(Y_pred) + (1 - Y) * tf.log(1 - Y_pred))"
   ]
  },
  {
   "cell_type": "markdown",
   "metadata": {},
   "source": [
    "## Backpropagation"
   ]
  },
  {
   "cell_type": "code",
   "execution_count": 7,
   "metadata": {
    "collapsed": true
   },
   "outputs": [],
   "source": [
    "# Network\n",
    "#          p1     a1           l1     p2     a2           l2 (y_pred)\n",
    "# X -> (*) -> (+) -> (sigmoid) -> (*) -> (+) -> (sigmoid) -> (loss)\n",
    "#       ^      ^                   ^      ^\n",
    "#       |      |                   |      |\n",
    "#       W1     b1                  W2     b2\n",
    "\n",
    "# Loss derivative\n",
    "d_Y_pred = (Y_pred - Y) / (Y_pred * (1.0 - Y_pred) + 1e-7)"
   ]
  },
  {
   "cell_type": "code",
   "execution_count": 8,
   "metadata": {
    "collapsed": true
   },
   "outputs": [],
   "source": [
    "# Layer 2\n",
    "d_sigma2 = Y_pred * (1 - Y_pred)\n",
    "d_a2 = d_Y_pred * d_sigma2\n",
    "d_p2 = d_a2\n",
    "d_b2 = d_a2\n",
    "d_W2 = tf.matmul(tf.transpose(l1), d_p2)"
   ]
  },
  {
   "cell_type": "code",
   "execution_count": 9,
   "metadata": {
    "collapsed": true
   },
   "outputs": [],
   "source": [
    "# Mean\n",
    "d_b2_mean = tf.reduce_mean(d_b2, axis=[0])\n",
    "d_W2_mean = d_W2 / tf.cast(tf.shape(l1)[0], dtype=tf.float32)"
   ]
  },
  {
   "cell_type": "code",
   "execution_count": 10,
   "metadata": {
    "collapsed": true
   },
   "outputs": [],
   "source": [
    "# Layer 1\n",
    "d_l1 = tf.matmul(d_p2, tf.transpose(W2))\n",
    "d_sigma1 = l1 * (1 - l1)\n",
    "d_a1 = d_l1 * d_sigma1\n",
    "d_b1 = d_a1\n",
    "d_p1 = d_a1\n",
    "d_W1 = tf.matmul(tf.transpose(X), d_a1)"
   ]
  },
  {
   "cell_type": "code",
   "execution_count": 11,
   "metadata": {
    "collapsed": true
   },
   "outputs": [],
   "source": [
    "# Mean\n",
    "d_W1_mean = d_W1 / tf.cast(tf.shape(X)[0], dtype=tf.float32)\n",
    "d_b1_mean = tf.reduce_mean(d_b1, axis=[0])"
   ]
  },
  {
   "cell_type": "code",
   "execution_count": 12,
   "metadata": {},
   "outputs": [],
   "source": [
    "# Weight update\n",
    "learning_rate = 0.1\n",
    "step = [\n",
    "  tf.assign(W2, W2 - learning_rate * d_W2_mean),\n",
    "  tf.assign(b2, b2 - learning_rate * d_b2_mean),\n",
    "  tf.assign(W1, W1 - learning_rate * d_W1_mean),\n",
    "  tf.assign(b1, b1 - learning_rate * d_b1_mean)\n",
    "]"
   ]
  },
  {
   "cell_type": "code",
   "execution_count": 13,
   "metadata": {
    "collapsed": true
   },
   "outputs": [],
   "source": [
    "# Accuracy computation\n",
    "# True if hypothesis > 0.5 else False\n",
    "predicted = tf.cast(Y_pred > 0.5, dtype=tf.float32)\n",
    "accuracy = tf.reduce_mean(tf.cast(tf.equal(predicted, Y), dtype=tf.float32))"
   ]
  },
  {
   "cell_type": "code",
   "execution_count": 14,
   "metadata": {},
   "outputs": [
    {
     "name": "stdout",
     "output_type": "stream",
     "text": [
      "shape 4\n",
      "0 [0.75390214, array([[ 0.147971  , -0.05841584],\n",
      "       [ 0.09894869, -0.06082734]], dtype=float32)] [array([[ 0.79886746,  0.68011874],\n",
      "       [-1.21986341, -0.30361032]], dtype=float32), array([[ 1.37522972],\n",
      "       [-0.78823853]], dtype=float32)]\n",
      "1000 [0.67122912, array([[-0.05335814, -0.00569674],\n",
      "       [ 0.04508685,  0.00137657]], dtype=float32)] [array([[ 1.15745568,  0.70470017],\n",
      "       [-1.85447919, -0.15281098]], dtype=float32), array([[ 1.38862789],\n",
      "       [-0.87442583]], dtype=float32)]\n",
      "2000 [0.53393614, array([[-0.07984745, -0.06233264],\n",
      "       [ 0.06753156,  0.05506042]], dtype=float32)] [array([[ 3.05309558,  1.38850737],\n",
      "       [-3.45586419, -0.65311229]], dtype=float32), array([[ 3.28347206],\n",
      "       [-1.56185806]], dtype=float32)]\n",
      "3000 [0.1978671, array([[-0.04035231, -0.07028952],\n",
      "       [ 0.03509892,  0.0806966 ]], dtype=float32)] [array([[ 4.6234231 ,  3.50294638],\n",
      "       [-4.75216198, -3.03614283]], dtype=float32), array([[ 5.56490231],\n",
      "       [-4.34472084]], dtype=float32)]\n",
      "4000 [0.077653423, array([[-0.01725494, -0.02849094],\n",
      "       [ 0.01704494,  0.03009176]], dtype=float32)] [array([[ 5.28239059,  4.63240814],\n",
      "       [-5.36364698, -4.27421188]], dtype=float32), array([[ 7.05859852],\n",
      "       [-6.29910421]], dtype=float32)]\n",
      "5000 [0.045360915, array([[-0.01010362, -0.01578625],\n",
      "       [ 0.01045562,  0.01638075]], dtype=float32)] [array([[ 5.61031961,  5.15950966],\n",
      "       [-5.6957922 , -4.82549572]], dtype=float32), array([[ 7.97181368],\n",
      "       [-7.34885931]], dtype=float32)]\n",
      "6000 [0.031536598, array([[-0.00697176, -0.01049934],\n",
      "       [ 0.00735181,  0.01082727]], dtype=float32)] [array([[ 5.81935644,  5.48017502],\n",
      "       [-5.91430473, -5.15713692]], dtype=float32), array([[ 8.6103344 ],\n",
      "       [-8.04423428]], dtype=float32)]\n",
      "7000 [0.0240176, array([[-0.00526278, -0.00772191],\n",
      "       [ 0.00559879,  0.00793795]], dtype=float32)] [array([[ 5.97044516,  5.70476055],\n",
      "       [-6.07438135, -5.38835859]], dtype=float32), array([[ 9.09747696],\n",
      "       [-8.56066608]], dtype=float32)]\n",
      "8000 [0.01933164, array([[-0.00419976, -0.00604283],\n",
      "       [ 0.00448796,  0.00619927]], dtype=float32)] [array([[ 6.08780527,  5.87527418],\n",
      "       [-6.19953156, -5.56346226]], dtype=float32), array([[ 9.49004269],\n",
      "       [-8.97038078]], dtype=float32)]\n",
      "9000 [0.016145606, array([[-0.00347961, -0.00493036],\n",
      "       [ 0.00372718,  0.0050505 ]], dtype=float32)] [array([[ 6.18327522,  6.01158762],\n",
      "       [-6.30168295, -5.70319891]], dtype=float32), array([[ 9.81827354],\n",
      "       [-9.30953121]], dtype=float32)]\n",
      "10000 [0.013844866, array([[-0.00296172, -0.00414467],\n",
      "       [ 0.0031764 ,  0.00424056]], dtype=float32)] [array([[ 6.26346922,  6.12450838],\n",
      "       [-6.38764143, -5.81880474]], dtype=float32), array([[ 10.10003185],\n",
      "       [ -9.59865379]], dtype=float32)]\n",
      "\n",
      "Hypothesis:  [[ 0.01338224]\n",
      " [ 0.98166382]\n",
      " [ 0.98809403]\n",
      " [ 0.01135807]] \n",
      "Correct:  [[ 0.]\n",
      " [ 1.]\n",
      " [ 1.]\n",
      " [ 0.]] \n",
      "Accuracy:  1.0\n"
     ]
    }
   ],
   "source": [
    "# Launch graph\n",
    "with tf.Session() as sess:\n",
    "    # Initialize TensorFlow variables\n",
    "    sess.run(tf.global_variables_initializer())\n",
    "\n",
    "    print(\"shape\", sess.run(tf.shape(X)[0], feed_dict={X: x_data}))\n",
    "\n",
    "\n",
    "    for i in range(10001):\n",
    "        sess.run([step, cost], feed_dict={X: x_data, Y: y_data})\n",
    "        if i % 1000 == 0:\n",
    "            print(i, sess.run([cost, d_W1], feed_dict={\n",
    "                  X: x_data, Y: y_data}), sess.run([W1, W2]))\n",
    "\n",
    "    # Accuracy report\n",
    "    h, c, a = sess.run([Y_pred, predicted, accuracy],\n",
    "                       feed_dict={X: x_data, Y: y_data})\n",
    "    print(\"\\nHypothesis: \", h, \"\\nCorrect: \", c, \"\\nAccuracy: \", a)"
   ]
  }
 ],
 "metadata": {
  "kernelspec": {
   "display_name": "Python 3",
   "language": "python",
   "name": "python3"
  },
  "language_info": {
   "codemirror_mode": {
    "name": "ipython",
    "version": 3
   },
   "file_extension": ".py",
   "mimetype": "text/x-python",
   "name": "python",
   "nbconvert_exporter": "python",
   "pygments_lexer": "ipython3",
   "version": "3.5.3"
  }
 },
 "nbformat": 4,
 "nbformat_minor": 2
}
