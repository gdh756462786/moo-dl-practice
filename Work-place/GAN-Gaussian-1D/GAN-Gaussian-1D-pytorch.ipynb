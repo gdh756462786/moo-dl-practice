{
 "cells": [
  {
   "cell_type": "code",
   "execution_count": 1,
   "metadata": {
    "collapsed": true
   },
   "outputs": [],
   "source": [
    "import torch\n",
    "import numpy as np\n",
    "import matplotlib.pyplot as plt\n",
    "%matplotlib inline"
   ]
  },
  {
   "cell_type": "code",
   "execution_count": 2,
   "metadata": {},
   "outputs": [
    {
     "name": "stdout",
     "output_type": "stream",
     "text": [
      "torch.Size([128, 30])\n"
     ]
    }
   ],
   "source": [
    "m = torch.nn.Linear(20, 30)\n",
    "input = torch.autograd.Variable(torch.randn(128, 20))\n",
    "output = m(input)\n",
    "print(output.size())"
   ]
  },
  {
   "cell_type": "code",
   "execution_count": 3,
   "metadata": {
    "collapsed": true
   },
   "outputs": [],
   "source": [
    "# parameters\n",
    "mu, sigma = -2., 1.5\n",
    "data_range = 5\n",
    "\n",
    "input_size = 1\n",
    "z_size = 1\n",
    "hidden_size = 32\n",
    "\n",
    "learning_rate = 0.03\n",
    "n_epochs = 500\n",
    "M = 1000 # batch size"
   ]
  },
  {
   "cell_type": "code",
   "execution_count": 4,
   "metadata": {
    "collapsed": true
   },
   "outputs": [],
   "source": [
    "class DataDistribution(object):\n",
    "    def __init__(self, data_range, mu, sigma):\n",
    "        self.mu = mu\n",
    "        self.sigma = sigma\n",
    "        self.data_range = data_range\n",
    "\n",
    "    def sample(self, N):\n",
    "        samples = np.random.normal(self.mu, self.sigma, N)\n",
    "#         min_s = np.min(samples)\n",
    "#         max_s = np.max(samples)\n",
    "#         samples = (samples - min_s) / (max_s - min_s)\n",
    "        min_s = -self.data_range\n",
    "        max_s = self.data_range\n",
    "        samples = (samples - min_s) / (max_s - min_s)\n",
    "        samples = samples * 2 - 1\n",
    "        return samples\n",
    "    \n",
    "    def sample_raw(self, N):\n",
    "        samples = np.random.normal(self.mu, self.sigma, N)\n",
    "        return samples"
   ]
  },
  {
   "cell_type": "code",
   "execution_count": 5,
   "metadata": {
    "collapsed": true
   },
   "outputs": [],
   "source": [
    "class GeneratorDistribution(object):\n",
    "    def __init__(self, range):\n",
    "        self.range = range\n",
    "\n",
    "    def sample(self, N):\n",
    "        return np.linspace(-self.range, self.range, N) + np.random.random(N) * 0.01\n",
    "        #return np.random.uniform(-1, 1, N)"
   ]
  },
  {
   "cell_type": "code",
   "execution_count": 6,
   "metadata": {
    "collapsed": true
   },
   "outputs": [],
   "source": [
    "class Generator(torch.nn.Module):\n",
    "    def __init__(self, input_size, hidden_size, output_size):\n",
    "        super().__init__()\n",
    "        self.layer1 = torch.nn.Linear(input_size, hidden_size)\n",
    "        self.layer2 = torch.nn.Linear(hidden_size, output_size)\n",
    "        \n",
    "    def forward(self, x):\n",
    "        layer = torch.nn.functional.leaky_relu(self.layer1(x))\n",
    "        return torch.nn.functional.tanh(self.layer2(layer))"
   ]
  },
  {
   "cell_type": "code",
   "execution_count": 7,
   "metadata": {
    "collapsed": true
   },
   "outputs": [],
   "source": [
    "class Discriminator(torch.nn.Module):\n",
    "    def __init__(self, input_size, hidden_size, output_size):\n",
    "        super().__init__()\n",
    "        self.layer1 = torch.nn.Linear(input_size, hidden_size)\n",
    "        self.layer2 = torch.nn.Linear(hidden_size, output_size)\n",
    "        \n",
    "    def forward(self, x):\n",
    "        layer = torch.nn.functional.leaky_relu(self.layer1(x))\n",
    "        return torch.nn.functional.sigmoid(self.layer2(layer))"
   ]
  },
  {
   "cell_type": "code",
   "execution_count": 8,
   "metadata": {
    "collapsed": true
   },
   "outputs": [],
   "source": [
    "def test_samples(D, G, d_data, g_data, sample_range, batch_size, num_points=10000, num_bins=100):\n",
    "    # decision boundary\n",
    "    xs = np.linspace(-1, 1, num_points)\n",
    "    db = np.zeros((num_points, 1))\n",
    "    for i in range(num_points // batch_size):\n",
    "        curr_loc = batch_size * i\n",
    "        next_loc = batch_size * (i + 1)\n",
    "        x_ = xs[curr_loc:next_loc]\n",
    "        x_ = torch.Tensor(np.reshape(x_, [batch_size, 1]))\n",
    "        x_ = torch.autograd.Variable(x_)\n",
    "        \n",
    "        db[curr_loc:next_loc] = D(x_).data.numpy()\n",
    "\n",
    "    # data distribution\n",
    "    bins = np.linspace(-sample_range, sample_range, num_bins)\n",
    "    d = d_data.sample_raw(num_points)\n",
    "    pd, _ = np.histogram(d, bins=bins, density=True)\n",
    "\n",
    "    # generated samples\n",
    "    zs = g_data.sample(num_points)\n",
    "    #zs = np.linspace(-sample_range, sample_range, num_points)\n",
    "    g = np.zeros((num_points, 1))\n",
    "    for i in range(num_points // batch_size):\n",
    "        curr_loc = batch_size * i\n",
    "        next_loc = batch_size * (i + 1)\n",
    "        \n",
    "        z_ = zs[curr_loc:next_loc]\n",
    "        z_ = torch.Tensor(np.reshape(z_, [batch_size, 1]))\n",
    "        z_ = torch.autograd.Variable(z_)\n",
    "        g_raw_out = G(z_).data.numpy()\n",
    "        g[curr_loc:next_loc] = g_raw_out * sample_range\n",
    "    pg, _ = np.histogram(g, bins=bins, density=True)\n",
    "\n",
    "    return db, pd, pg"
   ]
  },
  {
   "cell_type": "code",
   "execution_count": 9,
   "metadata": {
    "collapsed": true
   },
   "outputs": [],
   "source": [
    "def plot_distributions(samps, sample_range):\n",
    "    db, pd, pg = samps\n",
    "    db_x = np.linspace(-sample_range, sample_range, len(db))\n",
    "    p_x = np.linspace(-sample_range, sample_range, len(pd))\n",
    "    f, ax = plt.subplots(1)\n",
    "    ax.plot(db_x, db, label='decision boundary')\n",
    "    ax.set_ylim(0, 1)\n",
    "    ax.set_xlim(-sample_range, sample_range)\n",
    "    plt.plot(p_x, pd, label='real data')\n",
    "    plt.plot(p_x, pg, label='generated data')\n",
    "    plt.title('1D Generative Adversarial Network')\n",
    "    plt.xlabel('Data values')\n",
    "    plt.ylabel('Probability density')\n",
    "    plt.legend()\n",
    "    plt.show()"
   ]
  },
  {
   "cell_type": "code",
   "execution_count": 10,
   "metadata": {
    "collapsed": true
   },
   "outputs": [],
   "source": [
    "data = DataDistribution(data_range, mu, sigma)\n",
    "gen = GeneratorDistribution(data_range)"
   ]
  },
  {
   "cell_type": "code",
   "execution_count": 11,
   "metadata": {
    "collapsed": true
   },
   "outputs": [],
   "source": [
    "G = Generator(input_size=z_size, hidden_size=hidden_size, output_size=1)\n",
    "D = Discriminator(input_size=input_size, hidden_size=hidden_size, output_size=1)"
   ]
  },
  {
   "cell_type": "code",
   "execution_count": 12,
   "metadata": {
    "collapsed": true
   },
   "outputs": [],
   "source": [
    "# coefficients used for computing running averages \n",
    "# of gradient and its square (default: (0.9, 0.999))\n",
    "optim_betas = (0.9, 0.999)\n",
    "d_optimizer = torch.optim.Adam(D.parameters(), lr=learning_rate, betas=optim_betas)\n",
    "g_optimizer = torch.optim.Adam(G.parameters(), lr=learning_rate, betas=optim_betas)\n",
    "\n",
    "# Binary cross entropy\n",
    "criterion = torch.nn.BCELoss()"
   ]
  },
  {
   "cell_type": "code",
   "execution_count": 13,
   "metadata": {
    "scrolled": false
   },
   "outputs": [
    {
     "name": "stdout",
     "output_type": "stream",
     "text": [
      "0: D: [ 0.66468269]/[ 0.67299587] G: [ 0.80284667]\n",
      "100: D: [ 0.4016721]/[ 0.27022386] G: [ 1.55773485]\n",
      "200: D: [ 0.7262969]/[ 0.67800832] G: [ 0.70535219]\n",
      "300: D: [ 0.66323805]/[ 0.74253327] G: [ 0.64592254]\n",
      "400: D: [ 0.69746304]/[ 0.69561177] G: [ 0.68943381]\n",
      "d_real_error size: torch.Size([1]), d_fake_error: torch.Size([1]), g_error: torch.Size([1])\n"
     ]
    }
   ],
   "source": [
    "d_losses = []\n",
    "g_losses = []\n",
    "for e in range(n_epochs):\n",
    "    # 1. Train D on real+fake\n",
    "    D.zero_grad()\n",
    "    \n",
    "    #  1A: Train D on real\n",
    "    x_ = data.sample(M)\n",
    "    x_ = torch.Tensor(np.reshape(x_, [M, input_size]))\n",
    "    labels_x_ = torch.ones([M, input_size])\n",
    "    d_real_data = torch.autograd.Variable(x_)\n",
    "    d_real_decision = D(d_real_data)\n",
    "    d_real_error = criterion(d_real_decision, torch.autograd.Variable(labels_x_)) \n",
    "    d_real_error.backward() # compute/store gradients, but don't change params\n",
    "    \n",
    "    #  1B: Train D on fake\n",
    "    z1_ = gen.sample(M)\n",
    "    z1_ = torch.Tensor(np.reshape(z1_, [M, z_size]))\n",
    "    labels_z1_ = torch.zeros([M, input_size])\n",
    "    d_gen_input = torch.autograd.Variable(z1_)\n",
    "    d_fake_data = G(d_gen_input).detach()  # detach to avoid training G on these labels\n",
    "    d_fake_decision = D(d_fake_data)\n",
    "    d_fake_error = criterion(d_fake_decision, torch.autograd.Variable(labels_z1_))\n",
    "    d_fake_error.backward()\n",
    "    d_optimizer.step()     # Only optimizes D's parameters; changes based on stored gradients from backward()\n",
    "    \n",
    "    \n",
    "    # 2. Train G on D's response (but DO NOT train D on these labels)\n",
    "    G.zero_grad()\n",
    "    z2_ = gen.sample(M)\n",
    "    z2_ = torch.Tensor(np.reshape(z2_, [M, z_size]))\n",
    "    labels_z2_ = torch.ones([M, z_size])\n",
    "    gen_input = torch.autograd.Variable(z2_)\n",
    "    g_fake_data = G(gen_input)\n",
    "    dg_fake_decision = D(g_fake_data)\n",
    "    g_error = criterion(dg_fake_decision, torch.autograd.Variable(labels_z2_))\n",
    "    g_error.backward()\n",
    "    g_optimizer.step()\n",
    "    \n",
    "    # Save losses to view after training\n",
    "    d_losses.append(d_real_error[0].data.numpy())\n",
    "    g_losses.append(g_error[0].data.numpy())\n",
    "        \n",
    "    if e % 100 == 0:\n",
    "        print('{}: D: {}/{} G: {}'.format(e, d_real_error[0].data.numpy(), \n",
    "                                          d_fake_error[0].data.numpy(), \n",
    "                                          g_error[0].data.numpy()))\n",
    "    \n",
    "    if e == n_epochs-1:\n",
    "        samps = test_samples(D, G, data, gen, data_range, M)\n",
    "        \n",
    "        print('d_real_error size: {}, d_fake_error: {}, g_error: {}'.format(d_real_error.size(),\n",
    "                                                                            d_fake_error.size(),\n",
    "                                                                            g_error.size()))"
   ]
  },
  {
   "cell_type": "code",
   "execution_count": 14,
   "metadata": {},
   "outputs": [
    {
     "data": {
      "text/plain": [
       "<matplotlib.legend.Legend at 0x7f1f58296940>"
      ]
     },
     "execution_count": 14,
     "metadata": {},
     "output_type": "execute_result"
    },
    {
     "data": {
      "image/png": "[encoded data removed]",
      "text/plain": [
       "<matplotlib.figure.Figure at 0x7f1f5e79ab70>"
      ]
     },
     "metadata": {},
     "output_type": "display_data"
    }
   ],
   "source": [
    "fig, ax = plt.subplots()\n",
    "d_losses = np.array(d_losses)\n",
    "g_losses = np.array(g_losses)\n",
    "plt.plot(d_losses, label='Discriminator')\n",
    "plt.plot(g_losses, label='Generator')\n",
    "plt.title(\"Training Losses\")\n",
    "plt.legend()"
   ]
  },
  {
   "cell_type": "code",
   "execution_count": 15,
   "metadata": {},
   "outputs": [
    {
     "data": {
      "image/png": "[encoded data removed]",
      "text/plain": [
       "<matplotlib.figure.Figure at 0x7f1f5822b3c8>"
      ]
     },
     "metadata": {},
     "output_type": "display_data"
    }
   ],
   "source": [
    "plot_distributions(samps, data_range)"
   ]
  }
 ],
 "metadata": {
  "kernelspec": {
   "display_name": "Python 3",
   "language": "python",
   "name": "python3"
  },
  "language_info": {
   "codemirror_mode": {
    "name": "ipython",
    "version": 3
   },
   "file_extension": ".py",
   "mimetype": "text/x-python",
   "name": "python",
   "nbconvert_exporter": "python",
   "pygments_lexer": "ipython3",
   "version": "3.5.3"
  }
 },
 "nbformat": 4,
 "nbformat_minor": 2
}
