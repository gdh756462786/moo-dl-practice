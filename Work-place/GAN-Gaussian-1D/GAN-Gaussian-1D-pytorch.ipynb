{
 "cells": [
  {
   "cell_type": "code",
   "execution_count": 1,
   "metadata": {
    "collapsed": true
   },
   "outputs": [],
   "source": [
    "import torch\n",
    "import numpy as np\n",
    "import matplotlib.pyplot as plt\n",
    "%matplotlib inline"
   ]
  },
  {
   "cell_type": "code",
   "execution_count": 2,
   "metadata": {
    "collapsed": true
   },
   "outputs": [],
   "source": [
    "# parameters\n",
    "mu, sigma = 2.0, 1.0\n",
    "data_range = 5\n",
    "\n",
    "input_size = 1\n",
    "z_size = 1\n",
    "hidden_size = 16\n",
    "smooth = 0.1\n",
    "\n",
    "learning_rate = 0.03\n",
    "n_epochs_pre = 1000\n",
    "n_epochs = 3000\n",
    "M = 150 # batch size\n",
    "\n",
    "# dtype = torch.FloatTensor\n",
    "# dtype = torch.cuda.FloatTensor # Uncomment this to run on GPU"
   ]
  },
  {
   "cell_type": "code",
   "execution_count": 3,
   "metadata": {
    "collapsed": true
   },
   "outputs": [],
   "source": [
    "# from: https://github.com/torch/TH/pull/4/commits/0bf1bbf3975a752675677a03b73b8b485640e3c5\n",
    "def truncated_normal(size, mean=0.0, stddev=1.0):\n",
    "    a, b = 0.0, (1.0 - np.exp(-2.0))\n",
    "    x = np.random.rand(size)\n",
    "    y = (np.random.rand(size) * (b - a)) + a\n",
    "    rho = np.sqrt(-2.0 * np.log(1.0 - y))\n",
    "    ret = rho * np.cos(2.0 * np.pi * x) * stddev + mean\n",
    "    return ret.astype(np.float32)"
   ]
  },
  {
   "cell_type": "code",
   "execution_count": 4,
   "metadata": {},
   "outputs": [
    {
     "data": {
      "image/png": "[encoded data removed]",
      "text/plain": [
       "<matplotlib.figure.Figure at 0x7f9aafadcd68>"
      ]
     },
     "metadata": {},
     "output_type": "display_data"
    }
   ],
   "source": [
    "test_tn_samples = truncated_normal(10000, stddev=2.0)\n",
    "plt.hist(test_tn_samples, bins=100)\n",
    "plt.show()"
   ]
  },
  {
   "cell_type": "code",
   "execution_count": 5,
   "metadata": {
    "collapsed": true
   },
   "outputs": [],
   "source": [
    "class DataDistribution(object):\n",
    "    def __init__(self, mu, sigma):\n",
    "        self.mu = mu\n",
    "        self.sigma = sigma\n",
    "\n",
    "    def sample(self, N):\n",
    "        return np.random.normal(self.mu, self.sigma, N)"
   ]
  },
  {
   "cell_type": "code",
   "execution_count": 6,
   "metadata": {
    "collapsed": true
   },
   "outputs": [],
   "source": [
    "class GeneratorDistribution(object):\n",
    "    def __init__(self, range):\n",
    "        self.range = range\n",
    "\n",
    "    def sample(self, N):\n",
    "        return np.linspace(-self.range, self.range, N) + np.random.random(N) * 0.01"
   ]
  },
  {
   "cell_type": "code",
   "execution_count": 7,
   "metadata": {
    "collapsed": true
   },
   "outputs": [],
   "source": [
    "# weight initialization: https://discuss.pytorch.org/t/weight-initilzation/157\n",
    "def weight_init(m, stddev=2.0):\n",
    "    classname = m.__class__.__name__\n",
    "    if isinstance(m, torch.nn.Linear):\n",
    "        # set weights\n",
    "        size_0 = m.weight.data.size()[0]\n",
    "        size_1 = m.weight.data.size()[1]\n",
    "        w_np = truncated_normal(size_0 * size_1, stddev=stddev)\n",
    "        w_np = np.reshape(w_np, [size_0, size_1])\n",
    "        m.weight.data = torch.from_numpy(w_np)\n",
    "        \n",
    "        # set bias\n",
    "        m.bias.data.fill_(0)"
   ]
  },
  {
   "cell_type": "code",
   "execution_count": 8,
   "metadata": {
    "collapsed": true
   },
   "outputs": [],
   "source": [
    "class Generator(torch.nn.Module):\n",
    "    def __init__(self, input_size, hidden_size, output_size):\n",
    "        super().__init__()\n",
    "        # fully connected layers\n",
    "        self.layer1 = torch.nn.Linear(input_size, hidden_size)\n",
    "        self.layer2 = torch.nn.Linear(hidden_size, output_size)        \n",
    "        \n",
    "        # initialize weight with truncated normal\n",
    "        for m in self.modules():\n",
    "            weight_init(m, stddev=2.0)\n",
    "\n",
    "    def forward(self, x):\n",
    "        layer = torch.nn.functional.leaky_relu(self.layer1(x))\n",
    "        return self.layer2(layer)"
   ]
  },
  {
   "cell_type": "code",
   "execution_count": 9,
   "metadata": {
    "collapsed": true
   },
   "outputs": [],
   "source": [
    "class Discriminator(torch.nn.Module):\n",
    "    def __init__(self, input_size, hidden_size, output_size):\n",
    "        super().__init__()\n",
    "        # fully connected layers\n",
    "        self.layer1 = torch.nn.Linear(input_size, hidden_size)\n",
    "        self.layer2 = torch.nn.Linear(hidden_size, output_size)        \n",
    "        \n",
    "        # initialize weight with truncated normal(variance scaling)\n",
    "        stddev = np.sqrt(1.3 * 2.0 / 1.0)\n",
    "        #stddev = 2\n",
    "        for m in self.modules():\n",
    "            weight_init(m, stddev)\n",
    "        \n",
    "    def forward(self, x):\n",
    "        layer = torch.nn.functional.leaky_relu(self.layer1(x))\n",
    "        return torch.nn.functional.sigmoid(self.layer2(layer))"
   ]
  },
  {
   "cell_type": "code",
   "execution_count": 10,
   "metadata": {
    "collapsed": true
   },
   "outputs": [],
   "source": [
    "def test_samples(D, G, d_data, g_data, sample_range, batch_size, num_points=10000, num_bins=100):\n",
    "    # 1. decision boundary\n",
    "    xs = np.linspace(-sample_range, sample_range, num_points)\n",
    "    db = np.zeros((num_points, 1))\n",
    "    for i in range(num_points // batch_size):\n",
    "        curr_loc = batch_size * i\n",
    "        next_loc = batch_size * (i + 1)\n",
    "        x_ = xs[curr_loc:next_loc]\n",
    "        x_ = torch.Tensor(np.reshape(x_, [batch_size, 1]))\n",
    "        x_ = torch.autograd.Variable(x_)\n",
    "        \n",
    "        db[curr_loc:next_loc] = D(x_).data.numpy()\n",
    "\n",
    "    # data distribution\n",
    "    bins = np.linspace(-sample_range, sample_range, num_bins)\n",
    "    d = d_data.sample(num_points)\n",
    "    pd, _ = np.histogram(d, bins=bins, density=True)\n",
    "    \n",
    "    if G is not None:\n",
    "        # generated samples\n",
    "        zs = g_data.sample(num_points)\n",
    "        g = np.zeros((num_points, 1))\n",
    "        for i in range(num_points // batch_size):\n",
    "            curr_loc = batch_size * i\n",
    "            next_loc = batch_size * (i + 1)\n",
    "\n",
    "            z_ = zs[curr_loc:next_loc]\n",
    "            z_ = torch.Tensor(np.reshape(z_, [batch_size, 1]))\n",
    "            z_ = torch.autograd.Variable(z_)\n",
    "            g_raw_out = G(z_).data.numpy()\n",
    "            g[curr_loc:next_loc] = g_raw_out * sample_range\n",
    "        pg, _ = np.histogram(g, bins=bins, density=True)\n",
    "    else:\n",
    "        pg = None\n",
    "    \n",
    "    return db, pd, pg"
   ]
  },
  {
   "cell_type": "code",
   "execution_count": 11,
   "metadata": {
    "collapsed": true
   },
   "outputs": [],
   "source": [
    "def plot_distributions(samps, sample_range, title='1D Generative Adversarial Network'):\n",
    "    db, pd, pg = samps\n",
    "    db_x = np.linspace(-sample_range, sample_range, len(db))\n",
    "    p_x = np.linspace(-sample_range, sample_range, len(pd))\n",
    "    f, ax = plt.subplots(1)\n",
    "    ax.plot(db_x, db, label='decision boundary')\n",
    "    ax.set_ylim(0, 1)\n",
    "    ax.set_xlim(-sample_range, sample_range)\n",
    "    plt.plot(p_x, pd, label='real data')\n",
    "    if pg is not None:\n",
    "        plt.plot(p_x, pg, label='generated data')\n",
    "    plt.title(title)\n",
    "    plt.xlabel('Data values')\n",
    "    plt.ylabel('Probability density')\n",
    "    plt.legend()\n",
    "    plt.show()"
   ]
  },
  {
   "cell_type": "markdown",
   "metadata": {},
   "source": [
    "# Prepare data distributions"
   ]
  },
  {
   "cell_type": "code",
   "execution_count": 12,
   "metadata": {
    "collapsed": true
   },
   "outputs": [],
   "source": [
    "data = DataDistribution(mu, sigma)\n",
    "gen = GeneratorDistribution(data_range)"
   ]
  },
  {
   "cell_type": "markdown",
   "metadata": {},
   "source": [
    "# Prepare Models"
   ]
  },
  {
   "cell_type": "code",
   "execution_count": 13,
   "metadata": {
    "collapsed": true
   },
   "outputs": [],
   "source": [
    "G = Generator(input_size=z_size, hidden_size=hidden_size, output_size=1)\n",
    "D = Discriminator(input_size=input_size, hidden_size=hidden_size, output_size=1)\n",
    "\n",
    "# coefficients used for computing running averages \n",
    "# of gradient and its square (default: (0.9, 0.999))\n",
    "# optim_betas = (0.9, 0.999)\n",
    "# d_optimizer = torch.optim.Adam(D.parameters(), lr=learning_rate, betas=optim_betas)\n",
    "# g_optimizer = torch.optim.Adam(G.parameters(), lr=learning_rate, betas=optim_betas)\n",
    "\n",
    "#d_optimizer = torch.optim.SGD(D.parameters(), lr=learning_rate)\n",
    "#g_optimizer = torch.optim.SGD(G.parameters(), lr=learning_rate)\n",
    "\n",
    "# Binary cross entropy\n",
    "criterion = torch.nn.BCELoss()"
   ]
  },
  {
   "cell_type": "markdown",
   "metadata": {},
   "source": [
    "# Pre-training session"
   ]
  },
  {
   "cell_type": "code",
   "execution_count": 14,
   "metadata": {
    "collapsed": true
   },
   "outputs": [],
   "source": [
    "pre_losses = []\n",
    "for e in range(n_epochs_pre):    \n",
    "    N = 1000\n",
    "    d = data.sample(N)\n",
    "    n_bins = 100\n",
    "    histc, edges = np.histogram(d, bins=n_bins, density=True)\n",
    "\n",
    "    # Estimated pdf is used as labels after normalization\n",
    "    max_histc = np.max(histc)\n",
    "    min_histc = np.min(histc)\n",
    "    y_ = (histc - min_histc) / (max_histc - min_histc)\n",
    "    x_ = edges[1:]\n",
    "\n",
    "    x_ = torch.Tensor(np.reshape(x_, [n_bins, input_size]))\n",
    "    y_ = torch.Tensor(np.reshape(y_, [n_bins, input_size]))\n",
    "    x_ = torch.autograd.Variable(x_)\n",
    "    y_ = torch.autograd.Variable(y_)\n",
    "    \n",
    "    d_pre_decision = D(x_)\n",
    "    d_pre_loss = criterion(d_pre_decision, y_)\n",
    "    \n",
    "    '''\n",
    "    Before the backward pass, use the optimizer object to zero all of the\n",
    "    gradients for the variables it will update (which are the learnable weights\n",
    "    of the model)\n",
    "    '''\n",
    "    D.zero_grad()\n",
    "    d_pre_loss.backward()\n",
    "    #pre_optimizer.step()\n",
    "    \n",
    "    # update weights with graident descent\n",
    "    #for param in Pre_trainer.parameters():\n",
    "    for param in D.parameters():\n",
    "        param.data -= learning_rate * param.grad.data\n",
    "    \n",
    "    # Save losses to view after training\n",
    "    pre_losses.append(d_pre_loss[0].data.numpy())\n",
    "    \n",
    "    # at last step\n",
    "    if e == n_epochs_pre-1:\n",
    "        #samps = test_samples(Pre_trainer, None, data, gen, data_range, M)\n",
    "        samps = test_samples(D, None, data, gen, data_range, M)"
   ]
  },
  {
   "cell_type": "code",
   "execution_count": 15,
   "metadata": {},
   "outputs": [
    {
     "data": {
      "text/plain": [
       "<matplotlib.legend.Legend at 0x7f9aad780a58>"
      ]
     },
     "execution_count": 15,
     "metadata": {},
     "output_type": "execute_result"
    },
    {
     "data": {
      "image/png": "[encoded data removed]",
      "text/plain": [
       "<matplotlib.figure.Figure at 0x7f9aad7809b0>"
      ]
     },
     "metadata": {},
     "output_type": "display_data"
    }
   ],
   "source": [
    "fig, ax = plt.subplots()\n",
    "pre_losses = np.array(pre_losses)\n",
    "plt.plot(pre_losses, label='Pre-train loss')\n",
    "plt.legend()"
   ]
  },
  {
   "cell_type": "code",
   "execution_count": 16,
   "metadata": {},
   "outputs": [
    {
     "data": {
      "image/png": "[encoded data removed]",
      "text/plain": [
       "<matplotlib.figure.Figure at 0x7f9aad7a1f98>"
      ]
     },
     "metadata": {},
     "output_type": "display_data"
    }
   ],
   "source": [
    "plot_distributions(samps, data_range)"
   ]
  },
  {
   "cell_type": "markdown",
   "metadata": {},
   "source": [
    "# Actual training"
   ]
  },
  {
   "cell_type": "code",
   "execution_count": 17,
   "metadata": {
    "scrolled": false
   },
   "outputs": [
    {
     "name": "stdout",
     "output_type": "stream",
     "text": [
      "0: D: [ 0.82871395] G: [ 23.13459015]\n",
      "100: D: [ 1.74860811] G: [ 3.37263298]\n",
      "200: D: [ 1.52677369] G: [ 0.58628219]\n",
      "300: D: [ 1.43490887] G: [ 0.63241422]\n",
      "400: D: [ 1.40403867] G: [ 0.97420448]\n",
      "500: D: [ 1.3842802] G: [ 0.76970571]\n",
      "600: D: [ 1.37706017] G: [ 0.84450233]\n",
      "700: D: [ 1.37972534] G: [ 0.82875204]\n",
      "800: D: [ 1.38554668] G: [ 0.88499421]\n",
      "900: D: [ 1.37465346] G: [ 0.77212548]\n",
      "1000: D: [ 1.36839938] G: [ 0.71881503]\n",
      "1100: D: [ 1.42805624] G: [ 1.01849258]\n",
      "1200: D: [ 1.38016951] G: [ 0.87377667]\n",
      "1300: D: [ 1.37675977] G: [ 0.88797718]\n",
      "1400: D: [ 1.37468398] G: [ 0.72381955]\n",
      "1500: D: [ 1.37884831] G: [ 0.84020299]\n",
      "1600: D: [ 1.37643933] G: [ 0.80542421]\n",
      "1700: D: [ 1.38116121] G: [ 0.86476296]\n",
      "1800: D: [ 1.3756907] G: [ 0.82530886]\n",
      "1900: D: [ 1.37763548] G: [ 0.74133253]\n",
      "2000: D: [ 1.3881017] G: [ 0.74142355]\n",
      "2100: D: [ 1.38507414] G: [ 0.74192035]\n",
      "2200: D: [ 1.38313496] G: [ 0.88277763]\n",
      "2300: D: [ 1.3759253] G: [ 0.84128046]\n",
      "2400: D: [ 1.36842728] G: [ 0.78529799]\n",
      "2500: D: [ 1.37728715] G: [ 0.7704941]\n",
      "2600: D: [ 1.37953615] G: [ 0.84386373]\n",
      "2700: D: [ 1.38026047] G: [ 0.7258718]\n",
      "2800: D: [ 1.37562966] G: [ 0.80734825]\n",
      "2900: D: [ 1.37814891] G: [ 0.77999932]\n"
     ]
    }
   ],
   "source": [
    "d_losses = []\n",
    "g_losses = []\n",
    "for e in range(n_epochs):\n",
    "    # 1. Train D on real+fake    \n",
    "    # 1A: Train D on real\n",
    "    x_ = data.sample(M)\n",
    "    x_ = torch.Tensor(np.reshape(x_, [M, input_size]))\n",
    "    y_real_ = torch.ones([M, input_size]) * (1 - smooth)\n",
    "    y_fake_ = torch.zeros([M, input_size])\n",
    "    \n",
    "    x_ = torch.autograd.Variable(x_)\n",
    "    y_real_ = torch.autograd.Variable(y_real_)\n",
    "    y_fake_ = torch.autograd.Variable(y_fake_)\n",
    "    \n",
    "    d_real_decision = D(x_)\n",
    "    d_real_loss = criterion(d_real_decision, y_real_)\n",
    "    \n",
    "    #  1B: Train D on fake\n",
    "    z1_ = gen.sample(M)\n",
    "    z1_ = torch.Tensor(np.reshape(z1_, [M, z_size]))\n",
    "    \n",
    "    z1_ = torch.autograd.Variable(z1_)\n",
    "    d_fake_data = G(z1_)\n",
    "    \n",
    "    d_fake_decision = D(d_fake_data)\n",
    "    d_fake_loss = criterion(d_fake_decision, y_fake_)\n",
    "    d_loss = d_real_loss + d_fake_loss\n",
    "    \n",
    "    '''\n",
    "    Before the backward pass, use the optimizer object to zero all of the\n",
    "    gradients for the variables it will update (which are the learnable weights\n",
    "    of the model)\n",
    "    '''\n",
    "    D.zero_grad()\n",
    "    d_loss.backward()\n",
    "    #d_optimizer.step()     # Only optimizes D's parameters; changes based on stored gradients from backward()\n",
    "    # update weights with graident descent\n",
    "    for param in D.parameters():\n",
    "        param.data -= learning_rate * param.grad.data\n",
    "    \n",
    "    \n",
    "    # 2. Train G on D's response (but DO NOT train D on these labels)    \n",
    "    # z2_ = gen.sample(M)\n",
    "    # z2_ = torch.Tensor(np.reshape(z2_, [M, z_size]))\n",
    "    y_ = torch.ones([M, z_size])\n",
    "    \n",
    "    # z2_ = torch.autograd.Variable(z2_)\n",
    "    y_ = torch.autograd.Variable(y_)\n",
    "    \n",
    "    g_fake_data = G(z1_)\n",
    "    dg_fake_decision = D(g_fake_data)\n",
    "    g_loss = criterion(dg_fake_decision, y_)\n",
    "    \n",
    "    \n",
    "    '''\n",
    "    Before the backward pass, use the optimizer object to zero all of the\n",
    "    gradients for the variables it will update (which are the learnable weights\n",
    "    of the model)\n",
    "    '''\n",
    "    G.zero_grad()\n",
    "    g_loss.backward()\n",
    "    #g_optimizer.step()\n",
    "    # update weights with graident descent\n",
    "    for param in G.parameters():\n",
    "        param.data -= learning_rate * param.grad.data\n",
    "    \n",
    "    # Save losses to view after training\n",
    "    d_losses.append(d_loss[0].data.numpy())\n",
    "    g_losses.append(g_loss[0].data.numpy())\n",
    "        \n",
    "    if e % 100 == 0:\n",
    "        print('{}: D: {} G: {}'.format(e, d_loss[0].data.numpy(), g_loss[0].data.numpy()))\n",
    "    \n",
    "    if e == n_epochs-1:\n",
    "        samps = test_samples(D, G, data, gen, data_range, M)"
   ]
  },
  {
   "cell_type": "code",
   "execution_count": 18,
   "metadata": {},
   "outputs": [
    {
     "data": {
      "text/plain": [
       "<matplotlib.legend.Legend at 0x7f9aa01a3ba8>"
      ]
     },
     "execution_count": 18,
     "metadata": {},
     "output_type": "execute_result"
    },
    {
     "data": {
      "image/png": "[encoded data removed]",
      "text/plain": [
       "<matplotlib.figure.Figure at 0x7f9aa0f12470>"
      ]
     },
     "metadata": {},
     "output_type": "display_data"
    }
   ],
   "source": [
    "fig, ax = plt.subplots()\n",
    "d_losses = np.array(d_losses)\n",
    "g_losses = np.array(g_losses)\n",
    "plt.plot(d_losses, label='Discriminator')\n",
    "plt.plot(g_losses, label='Generator')\n",
    "plt.title(\"Training Losses\")\n",
    "plt.legend()"
   ]
  },
  {
   "cell_type": "code",
   "execution_count": 19,
   "metadata": {},
   "outputs": [
    {
     "data": {
      "image/png": "[encoded data removed]",
      "text/plain": [
       "<matplotlib.figure.Figure at 0x7f9aad7668d0>"
      ]
     },
     "metadata": {},
     "output_type": "display_data"
    }
   ],
   "source": [
    "plot_distributions(samps, data_range)"
   ]
  }
 ],
 "metadata": {
  "kernelspec": {
   "display_name": "Python 3",
   "language": "python",
   "name": "python3"
  },
  "language_info": {
   "codemirror_mode": {
    "name": "ipython",
    "version": 3
   },
   "file_extension": ".py",
   "mimetype": "text/x-python",
   "name": "python",
   "nbconvert_exporter": "python",
   "pygments_lexer": "ipython3",
   "version": "3.5.3"
  }
 },
 "nbformat": 4,
 "nbformat_minor": 2
}
