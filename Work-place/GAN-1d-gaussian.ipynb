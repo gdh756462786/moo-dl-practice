{
 "cells": [
  {
   "cell_type": "code",
   "execution_count": 1,
   "metadata": {},
   "outputs": [],
   "source": [
    "# prapare packages\n",
    "import numpy as np\n",
    "import tensorflow as tf\n",
    "import matplotlib.pyplot as plt\n",
    "%matplotlib inline"
   ]
  },
  {
   "cell_type": "markdown",
   "metadata": {},
   "source": [
    "# Prepare data distributions"
   ]
  },
  {
   "cell_type": "code",
   "execution_count": 2,
   "metadata": {
    "collapsed": true
   },
   "outputs": [],
   "source": [
    "# true data distribution: p_d(x)\n",
    "class DataDistribution(object):\n",
    "    def __init__(self, mu, sigma):\n",
    "        self.mu = mu\n",
    "        self.sigma = sigma\n",
    "    \n",
    "    def sample(self, N):\n",
    "        samples = np.random.normal(self.mu, self.sigma, N)\n",
    "        #samples.sort()\n",
    "        return samples"
   ]
  },
  {
   "cell_type": "code",
   "execution_count": 3,
   "metadata": {
    "collapsed": true
   },
   "outputs": [],
   "source": [
    "# p_z(z)\n",
    "class NoiseDistribution(object):\n",
    "    def __init__(self, range):\n",
    "        self.range = range\n",
    "\n",
    "    # equally spaced samples + noise\n",
    "    def sample(self, N):\n",
    "        offset = np.random.random(N) * (float(self.range) / N)\n",
    "        samples = np.linspace(-self.range, self.range, N) + offset\n",
    "        return samples"
   ]
  },
  {
   "cell_type": "markdown",
   "metadata": {},
   "source": [
    "# Define layers to train"
   ]
  },
  {
   "cell_type": "code",
   "execution_count": 4,
   "metadata": {
    "collapsed": true
   },
   "outputs": [],
   "source": [
    "# define network layer that we will use for discriminator - D\n",
    "def discriminator_layer(inputs, n_hidden=32):\n",
    "    w_initializer = tf.truncated_normal_initializer(stddev=0.01)\n",
    "    \n",
    "    # 1st layer\n",
    "    w0 = tf.get_variable(\"w0\", [inputs.get_shape()[1], n_hidden], initializer=w_initializer)\n",
    "    b0 = tf.get_variable(\"b0\", [n_hidden], initializer=tf.constant_initializer(0.0))\n",
    "    l0 = tf.nn.relu(tf.matmul(inputs, w0) + b0)\n",
    "    \n",
    "    # 2nd layer\n",
    "    w1 = tf.get_variable(\"w1\", [n_hidden, n_hidden], initializer=w_initializer)\n",
    "    b1 = tf.get_variable(\"b1\", [n_hidden], initializer=tf.constant_initializer(0.0))\n",
    "    l1 = tf.nn.relu(tf.matmul(l0, w1) + b1)\n",
    "    \n",
    "    # output layer\n",
    "    w2 = tf.get_variable(\"w2\", [n_hidden, 1], initializer=w_initializer)\n",
    "    b2 = tf.get_variable(\"b2\", [1], initializer=tf.constant_initializer(0.0))\n",
    "    lo = tf.matmul(l1, w2) + b2\n",
    "    \n",
    "    return lo"
   ]
  },
  {
   "cell_type": "code",
   "execution_count": 5,
   "metadata": {
    "collapsed": true
   },
   "outputs": [],
   "source": [
    "# define network layer that we will use for generator - G\n",
    "def generator_layer(inputs, n_hidden=32):\n",
    "    w_initializer = tf.truncated_normal_initializer(stddev=0.01)\n",
    "    \n",
    "    # 1st layer\n",
    "    w0 = tf.get_variable(\"w0\", [inputs.get_shape()[1], n_hidden], initializer=w_initializer)\n",
    "    b0 = tf.get_variable(\"b0\", [n_hidden], initializer=tf.constant_initializer(0.0))\n",
    "    l0 = tf.nn.relu(tf.matmul(inputs, w0) + b0)\n",
    "    \n",
    "    # 2nd layer\n",
    "    w1 = tf.get_variable(\"w1\", [n_hidden, n_hidden], initializer=w_initializer)\n",
    "    b1 = tf.get_variable(\"b1\", [n_hidden], initializer=tf.constant_initializer(0.0))\n",
    "    l1 = tf.nn.relu(tf.matmul(l0, w1) + b1)\n",
    "    \n",
    "    # output layer\n",
    "    w2 = tf.get_variable(\"w2\", [n_hidden, 1], initializer=w_initializer)\n",
    "    b2 = tf.get_variable(\"b2\", [1], initializer=tf.constant_initializer(0.0))\n",
    "    lo = tf.sigmoid( tf.matmul(l1, w2) + b2 )\n",
    "    \n",
    "    return lo"
   ]
  },
  {
   "cell_type": "code",
   "execution_count": 6,
   "metadata": {
    "collapsed": true
   },
   "outputs": [],
   "source": [
    "def optimizer(loss, var_list, num_decay_steps=400, initial_learning_rate=0.03):\n",
    "    decay = 0.95\n",
    "    batch = tf.Variable(0)\n",
    "    learning_rate = tf.train.exponential_decay(\n",
    "        initial_learning_rate,\n",
    "        batch,\n",
    "        num_decay_steps,\n",
    "        decay,\n",
    "        staircase=True\n",
    "    )\n",
    "    optimizer = tf.train.GradientDescentOptimizer(learning_rate).minimize(\n",
    "        loss,\n",
    "        global_step=batch,\n",
    "        var_list=var_list\n",
    "    )\n",
    "    return optimizer"
   ]
  },
  {
   "cell_type": "markdown",
   "metadata": {},
   "source": [
    "# The parameters"
   ]
  },
  {
   "cell_type": "code",
   "execution_count": 7,
   "metadata": {
    "collapsed": true
   },
   "outputs": [],
   "source": [
    "# number of samples to draw\n",
    "N = 1000\n",
    "\n",
    "# number of bins when computing histogram\n",
    "n_bins = N//10\n",
    "\n",
    "# mu & sigma for nomal distribution\n",
    "mu, sigma = 0, 1"
   ]
  },
  {
   "cell_type": "markdown",
   "metadata": {},
   "source": [
    "# Take a look at sample distribution a bit"
   ]
  },
  {
   "cell_type": "code",
   "execution_count": 8,
   "metadata": {
    "scrolled": false
   },
   "outputs": [
    {
     "data": {
      "image/png": "[encoded data removed]",
      "text/plain": [
       "<matplotlib.figure.Figure at 0x1a053d00ac8>"
      ]
     },
     "metadata": {},
     "output_type": "display_data"
    }
   ],
   "source": [
    "# the probability distribution(gaussian) for discriminator D's input\n",
    "# draw N sample of p_d\n",
    "p_d = DataDistribution(mu, sigma)\n",
    "p_d_sample = p_d.sample(N)\n",
    "plot_hist, _, __ = plt.hist(p_d_sample, bins=n_bins, normed=True)"
   ]
  },
  {
   "cell_type": "code",
   "execution_count": 9,
   "metadata": {
    "scrolled": true
   },
   "outputs": [
    {
     "data": {
      "image/png": "[encoded data removed]",
      "text/plain": [
       "<matplotlib.figure.Figure at 0x1a054e99390>"
      ]
     },
     "metadata": {},
     "output_type": "display_data"
    }
   ],
   "source": [
    "# the probability distribution(uniform) for generator G's input\n",
    "data_range = 5\n",
    "p_z = NoiseDistribution(data_range)\n",
    "p_z_sample = p_z.sample(N)\n",
    "plot_hist, _, __ = plt.hist(p_z_sample, bins=n_bins, normed=True)"
   ]
  },
  {
   "cell_type": "markdown",
   "metadata": {},
   "source": [
    "# Build network"
   ]
  },
  {
   "cell_type": "code",
   "execution_count": 10,
   "metadata": {
    "collapsed": true
   },
   "outputs": [],
   "source": [
    "learning_rate = 0.01"
   ]
  },
  {
   "cell_type": "markdown",
   "metadata": {},
   "source": [
    "### Pre-training"
   ]
  },
  {
   "cell_type": "code",
   "execution_count": 11,
   "metadata": {},
   "outputs": [],
   "source": [
    "# pre training graph\n",
    "with tf.variable_scope('D-pre'):\n",
    "    inputs_pre = tf.placeholder(tf.float32, shape=[None, 1], name='inputs')\n",
    "    targets_pre = tf.placeholder(tf.float32, shape=[None, 1], name='targets')\n",
    "    D_pre = discriminator_layer(inputs_pre)\n",
    "    \n",
    "    # loss\n",
    "    loss_pre = tf.reduce_mean(tf.square(D_pre - targets_pre))\n",
    "    \n",
    "    # optimizer\n",
    "    t_vars = tf.trainable_variables()\n",
    "    optimizer_pre = optimizer(loss_pre, t_vars, 400, learning_rate)"
   ]
  },
  {
   "cell_type": "markdown",
   "metadata": {},
   "source": [
    "### Generator"
   ]
  },
  {
   "cell_type": "code",
   "execution_count": 12,
   "metadata": {
    "collapsed": true
   },
   "outputs": [],
   "source": [
    "with tf.variable_scope('G'):\n",
    "    z = tf.placeholder(tf.float32, shape=[None, 1], name='inputs')\n",
    "    G = generator_layer(z)"
   ]
  },
  {
   "cell_type": "markdown",
   "metadata": {},
   "source": [
    "### Discriminator"
   ]
  },
  {
   "cell_type": "code",
   "execution_count": 13,
   "metadata": {
    "collapsed": true
   },
   "outputs": [],
   "source": [
    "with tf.variable_scope('D') as scope:\n",
    "    x = tf.placeholder(tf.float32, shape=[None, 1], name='inputs')\n",
    "    D_real = discriminator_layer(x)\n",
    "    scope.reuse_variables()\n",
    "    D_fake = discriminator_layer(G)"
   ]
  },
  {
   "cell_type": "code",
   "execution_count": 14,
   "metadata": {
    "collapsed": true
   },
   "outputs": [],
   "source": [
    "eps = 1e-2  # to prevent log(0) case\n",
    "loss_G = tf.reduce_mean(-tf.log(D_fake + eps))\n",
    "loss_D = tf.reduce_mean(-tf.log(D_real + eps) - tf.log(1 - D_fake + eps))\n",
    "\n",
    "params_G = tf.get_collection(tf.GraphKeys.TRAINABLE_VARIABLES, scope='G')\n",
    "params_D = tf.get_collection(tf.GraphKeys.TRAINABLE_VARIABLES, scope='D')\n",
    "\n",
    "optimizer_G = optimizer(loss_G, params_G, 400, learning_rate * 0.5)\n",
    "optimizer_D = optimizer(loss_D, params_D, 400, learning_rate)"
   ]
  },
  {
   "cell_type": "markdown",
   "metadata": {},
   "source": [
    "# Pre-train decision surface\n",
    "* If decider is reasonably accurate to start, we get much faster convergence."
   ]
  },
  {
   "cell_type": "code",
   "execution_count": 15,
   "metadata": {
    "collapsed": true
   },
   "outputs": [],
   "source": [
    "n_pre_train = 1000"
   ]
  },
  {
   "cell_type": "code",
   "execution_count": 16,
   "metadata": {
    "collapsed": true
   },
   "outputs": [],
   "source": [
    "# normalize data distribution\n",
    "def normalize_data(hist_density, edges):\n",
    "    x = edges[1:]\n",
    "    \n",
    "    # will make [0 ~ 1]\n",
    "    max_hist = np.max(hist_density)\n",
    "    min_hist = np.min(hist_density)\n",
    "    normed_y = (hist_density - min_hist) / (max_hist - min_hist)\n",
    "    \n",
    "    return x, normed_y"
   ]
  },
  {
   "cell_type": "code",
   "execution_count": 17,
   "metadata": {
    "collapsed": true
   },
   "outputs": [],
   "source": [
    "# open session and initialize all variables\n",
    "sess = tf.InteractiveSession()\n",
    "tf.global_variables_initializer().run()"
   ]
  },
  {
   "cell_type": "code",
   "execution_count": 18,
   "metadata": {},
   "outputs": [
    {
     "name": "stdout",
     "output_type": "stream",
     "text": [
      "pre-training :  0/1000, cost: 0.1709\n",
      "pre-training :  10/1000, cost: 0.1396\n",
      "pre-training :  20/1000, cost: 0.1087\n",
      "pre-training :  30/1000, cost: 0.0985\n",
      "pre-training :  40/1000, cost: 0.0780\n",
      "pre-training :  50/1000, cost: 0.0996\n",
      "pre-training :  60/1000, cost: 0.0982\n",
      "pre-training :  70/1000, cost: 0.1034\n",
      "pre-training :  80/1000, cost: 0.0898\n",
      "pre-training :  90/1000, cost: 0.0782\n",
      "pre-training :  100/1000, cost: 0.0827\n",
      "pre-training :  110/1000, cost: 0.0649\n",
      "pre-training :  120/1000, cost: 0.0820\n",
      "pre-training :  130/1000, cost: 0.0974\n",
      "pre-training :  140/1000, cost: 0.1006\n",
      "pre-training :  150/1000, cost: 0.0795\n",
      "pre-training :  160/1000, cost: 0.0859\n",
      "pre-training :  170/1000, cost: 0.0936\n",
      "pre-training :  180/1000, cost: 0.0828\n",
      "pre-training :  190/1000, cost: 0.0886\n",
      "pre-training :  200/1000, cost: 0.0611\n",
      "pre-training :  210/1000, cost: 0.0740\n",
      "pre-training :  220/1000, cost: 0.0782\n",
      "pre-training :  230/1000, cost: 0.0714\n",
      "pre-training :  240/1000, cost: 0.0947\n",
      "pre-training :  250/1000, cost: 0.0895\n",
      "pre-training :  260/1000, cost: 0.0617\n",
      "pre-training :  270/1000, cost: 0.0829\n",
      "pre-training :  280/1000, cost: 0.0663\n",
      "pre-training :  290/1000, cost: 0.0615\n",
      "pre-training :  300/1000, cost: 0.0633\n",
      "pre-training :  310/1000, cost: 0.0715\n",
      "pre-training :  320/1000, cost: 0.0991\n",
      "pre-training :  330/1000, cost: 0.0809\n",
      "pre-training :  340/1000, cost: 0.1073\n",
      "pre-training :  350/1000, cost: 0.0855\n",
      "pre-training :  360/1000, cost: 0.0957\n",
      "pre-training :  370/1000, cost: 0.0662\n",
      "pre-training :  380/1000, cost: 0.0637\n",
      "pre-training :  390/1000, cost: 0.0803\n",
      "pre-training :  400/1000, cost: 0.0852\n",
      "pre-training :  410/1000, cost: 0.0878\n",
      "pre-training :  420/1000, cost: 0.0718\n",
      "pre-training :  430/1000, cost: 0.0732\n",
      "pre-training :  440/1000, cost: 0.0959\n",
      "pre-training :  450/1000, cost: 0.0765\n",
      "pre-training :  460/1000, cost: 0.0560\n",
      "pre-training :  470/1000, cost: 0.0791\n",
      "pre-training :  480/1000, cost: 0.0664\n",
      "pre-training :  490/1000, cost: 0.0874\n",
      "pre-training :  500/1000, cost: 0.0703\n",
      "pre-training :  510/1000, cost: 0.0944\n",
      "pre-training :  520/1000, cost: 0.0617\n",
      "pre-training :  530/1000, cost: 0.0857\n",
      "pre-training :  540/1000, cost: 0.0614\n",
      "pre-training :  550/1000, cost: 0.0644\n",
      "pre-training :  560/1000, cost: 0.0822\n",
      "pre-training :  570/1000, cost: 0.0801\n",
      "pre-training :  580/1000, cost: 0.0884\n",
      "pre-training :  590/1000, cost: 0.0883\n",
      "pre-training :  600/1000, cost: 0.0773\n",
      "pre-training :  610/1000, cost: 0.0812\n",
      "pre-training :  620/1000, cost: 0.0583\n",
      "pre-training :  630/1000, cost: 0.0653\n",
      "pre-training :  640/1000, cost: 0.0810\n",
      "pre-training :  650/1000, cost: 0.0815\n",
      "pre-training :  660/1000, cost: 0.0758\n",
      "pre-training :  670/1000, cost: 0.0572\n",
      "pre-training :  680/1000, cost: 0.0779\n",
      "pre-training :  690/1000, cost: 0.0551\n",
      "pre-training :  700/1000, cost: 0.0712\n",
      "pre-training :  710/1000, cost: 0.0700\n",
      "pre-training :  720/1000, cost: 0.0785\n",
      "pre-training :  730/1000, cost: 0.0923\n",
      "pre-training :  740/1000, cost: 0.0773\n",
      "pre-training :  750/1000, cost: 0.0770\n",
      "pre-training :  760/1000, cost: 0.0911\n",
      "pre-training :  770/1000, cost: 0.0733\n",
      "pre-training :  780/1000, cost: 0.0695\n",
      "pre-training :  790/1000, cost: 0.0818\n",
      "pre-training :  800/1000, cost: 0.0782\n",
      "pre-training :  810/1000, cost: 0.0927\n",
      "pre-training :  820/1000, cost: 0.0764\n",
      "pre-training :  830/1000, cost: 0.0791\n",
      "pre-training :  840/1000, cost: 0.0741\n",
      "pre-training :  850/1000, cost: 0.1026\n",
      "pre-training :  860/1000, cost: 0.0800\n",
      "pre-training :  870/1000, cost: 0.0647\n",
      "pre-training :  880/1000, cost: 0.0868\n",
      "pre-training :  890/1000, cost: 0.1051\n",
      "pre-training :  900/1000, cost: 0.0945\n",
      "pre-training :  910/1000, cost: 0.0769\n",
      "pre-training :  920/1000, cost: 0.0975\n",
      "pre-training :  930/1000, cost: 0.0825\n",
      "pre-training :  940/1000, cost: 0.0801\n",
      "pre-training :  950/1000, cost: 0.0928\n",
      "pre-training :  960/1000, cost: 0.0588\n",
      "pre-training :  970/1000, cost: 0.0746\n",
      "pre-training :  980/1000, cost: 0.0671\n",
      "pre-training :  990/1000, cost: 0.0662\n",
      "pre-training finished!\n"
     ]
    }
   ],
   "source": [
    "# pre-training discriminator\n",
    "for i in range(n_pre_train):\n",
    "    drawn_samples = p_d.sample(N)\n",
    "    hist_density, edges = np.histogram(drawn_samples, bins=n_bins, density=True)\n",
    "    x, y = normalize_data(hist_density, edges)\n",
    "\n",
    "    # Execute one training step\n",
    "    fd = {inputs_pre: np.reshape(x, (n_bins, 1)), \n",
    "          targets_pre: np.reshape(y, (n_bins, 1))}\n",
    "    loss_out, _ = sess.run([loss_pre, optimizer_pre], feed_dict=fd)\n",
    "    \n",
    "    if i % 10 == 0:\n",
    "        print('pre-training :  {}/{}, cost: {:.4f}'.format(i, n_pre_train, loss_out))\n",
    "print('pre-training finished!')"
   ]
  },
  {
   "cell_type": "code",
   "execution_count": 19,
   "metadata": {
    "collapsed": true
   },
   "outputs": [],
   "source": [
    "# store pre-trained variables\n",
    "params_pre = tf.get_collection(tf.GraphKeys.TRAINABLE_VARIABLES, scope='D-pre')\n",
    "weights_D_pre = sess.run(params_pre)"
   ]
  },
  {
   "cell_type": "markdown",
   "metadata": {},
   "source": [
    "### Time to train"
   ]
  },
  {
   "cell_type": "code",
   "execution_count": 20,
   "metadata": {
    "collapsed": true
   },
   "outputs": [],
   "source": [
    "n_train = 3000\n",
    "\n",
    "# batch size\n",
    "M = 150"
   ]
  },
  {
   "cell_type": "code",
   "execution_count": 24,
   "metadata": {},
   "outputs": [
    {
     "name": "stdout",
     "output_type": "stream",
     "text": [
      "13\n",
      "6\n",
      "7\n"
     ]
    },
    {
     "ename": "IndexError",
     "evalue": "list index out of range",
     "output_type": "error",
     "traceback": [
      "\u001b[1;31m---------------------------------------------------------------------------\u001b[0m",
      "\u001b[1;31mIndexError\u001b[0m                                Traceback (most recent call last)",
      "\u001b[1;32m<ipython-input-24-091648e011d4>\u001b[0m in \u001b[0;36m<module>\u001b[1;34m()\u001b[0m\n\u001b[0;32m      5\u001b[0m \u001b[0mprint\u001b[0m\u001b[1;33m(\u001b[0m\u001b[0mlen\u001b[0m\u001b[1;33m(\u001b[0m\u001b[0mweights_D_pre\u001b[0m\u001b[1;33m)\u001b[0m\u001b[1;33m)\u001b[0m\u001b[1;33m\u001b[0m\u001b[0m\n\u001b[0;32m      6\u001b[0m \u001b[1;32mfor\u001b[0m \u001b[0mi\u001b[0m\u001b[1;33m,\u001b[0m \u001b[0mv\u001b[0m \u001b[1;32min\u001b[0m \u001b[0menumerate\u001b[0m\u001b[1;33m(\u001b[0m\u001b[0mparams_D\u001b[0m\u001b[1;33m)\u001b[0m\u001b[1;33m:\u001b[0m\u001b[1;33m\u001b[0m\u001b[0m\n\u001b[1;32m----> 7\u001b[1;33m     \u001b[0msess\u001b[0m\u001b[1;33m.\u001b[0m\u001b[0mrun\u001b[0m\u001b[1;33m(\u001b[0m\u001b[0mv\u001b[0m\u001b[1;33m.\u001b[0m\u001b[0massign\u001b[0m\u001b[1;33m(\u001b[0m\u001b[0mweights_D_pre\u001b[0m\u001b[1;33m[\u001b[0m\u001b[0mi\u001b[0m\u001b[1;33m]\u001b[0m\u001b[1;33m)\u001b[0m\u001b[1;33m)\u001b[0m\u001b[1;33m\u001b[0m\u001b[0m\n\u001b[0m",
      "\u001b[1;31mIndexError\u001b[0m: list index out of range"
     ]
    }
   ],
   "source": [
    "# copy weights from pre-training over to new D network\n",
    "tf.global_variables_initializer().run()\n",
    "print(len(params_D))\n",
    "print(len(params_G))\n",
    "print(len(weights_D_pre))\n",
    "for i, v in enumerate(params_D):\n",
    "    sess.run(v.assign(weights_D_pre[i]))"
   ]
  },
  {
   "cell_type": "code",
   "execution_count": null,
   "metadata": {
    "collapsed": true
   },
   "outputs": [],
   "source": [
    "# training-loop\n",
    "for i in range(n_train):\n",
    "    np.random.seed(np.random.randint(0, n_train))\n",
    "\n",
    "    # update discriminator\n",
    "    x_ = p_d.sample(M)\n",
    "    z_ = p_z.sample(M)\n",
    "    \n",
    "    fd_D = {x: np.reshape(x_, (M, 1)), z: np.reshape(z_, (M, 1))}\n",
    "    loss_out_D, _ = sess.run([loss_D, optimizer_D], feed_dict=fd_D)\n",
    "\n",
    "    # update generator\n",
    "    z_ = p_z.sample(M)\n",
    "    fd_G = {z: np.reshape(z_, (B, 1))}\n",
    "    loss_out_G, _ = sess.run([loss_G, optimizer_G], feed_dict=fd_G)\n",
    "\n",
    "    if i % 10 == 0:\n",
    "        print('[{}/{}]: loss_d : {:.3f}, loss_g : {.3f}'.format(i, n_train, loss_out_D, loss_out_G))"
   ]
  }
 ],
 "metadata": {
  "kernelspec": {
   "display_name": "Python 3",
   "language": "python",
   "name": "python3"
  },
  "language_info": {
   "codemirror_mode": {
    "name": "ipython",
    "version": 3
   },
   "file_extension": ".py",
   "mimetype": "text/x-python",
   "name": "python",
   "nbconvert_exporter": "python",
   "pygments_lexer": "ipython3",
   "version": "3.5.3"
  }
 },
 "nbformat": 4,
 "nbformat_minor": 2
}
