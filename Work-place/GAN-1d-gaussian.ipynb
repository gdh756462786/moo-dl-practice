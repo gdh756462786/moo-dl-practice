{
 "cells": [
  {
   "cell_type": "code",
   "execution_count": 3,
   "metadata": {
    "collapsed": true
   },
   "outputs": [],
   "source": [
    "# prapare packages\n",
    "import numpy as np\n",
    "import tensorflow as tf\n",
    "import matplotlib as plt"
   ]
  },
  {
   "cell_type": "code",
   "execution_count": 4,
   "metadata": {
    "collapsed": true
   },
   "outputs": [],
   "source": [
    "# True data distribution for discriminator\n",
    "# p_d(x)\n",
    "class DataDistribution(object):\n",
    "    # in: mu, sigma\n",
    "    def __init__(self, mu, sigma):\n",
    "        self.mu = mu\n",
    "        self.sigma = sigma\n",
    "    \n",
    "    # returns N samples of sorted normal N ~ (mu, sigma)\n",
    "    def sample(self, N):\n",
    "        samples = np.random.normal(self.mu, self.sigma)\n",
    "        samples.sort()\n",
    "        return samples"
   ]
  },
  {
   "cell_type": "code",
   "execution_count": 5,
   "metadata": {
    "collapsed": true
   },
   "outputs": [],
   "source": [
    "# p_z(z)\n",
    "# generator distribution\n",
    "class NoiseDistribution(object):\n",
    "    def __init__(self, range):\n",
    "        self.range = range\n",
    "    \n",
    "    def sample(self, N):\n",
    "        offset = np.random.random(N) * (float(self.range) / N)\n",
    "        samples = np.linspace(-self.range, self.range, N) + offset\n",
    "        return samples"
   ]
  },
  {
   "cell_type": "code",
   "execution_count": 6,
   "metadata": {
    "collapsed": true
   },
   "outputs": [],
   "source": [
    "def generator_layer(x, n_hidden):\n",
    "    '''\n",
    "    x: \n",
    "    '''\n",
    "    input_shape = x.get_shape()\n",
    "    w_initializer = tf.contrib.truncated_normal_initializer(stddev=0.01)\n",
    "    b_initializer = tf.constant_initializer(0.0)\n",
    "    \n",
    "    "
   ]
  },
  {
   "cell_type": "code",
   "execution_count": 7,
   "metadata": {
    "collapsed": true
   },
   "outputs": [],
   "source": [
    "def discriminator_layer(x, n_hidden):\n",
    "    '''\n",
    "    x: input gaussian sample\n",
    "    n_hidden: number of hidden units\n",
    "    '''\n",
    "    input_shape = x.get_shape()\n",
    "    w_initializer = tf.contrib.variance_scaling_initializer()\n",
    "    b_initializer = tf.constant_initializer(0.0)    \n",
    "    \n",
    "    # 1st hidden layer\n",
    "    w0 = tf.get_variable('w0', [input_shape[1], n_hidden], initializer=w_initializer)\n",
    "    b0 = tf.get_variable('b0', [n_hidden], initializer=b_initializer)\n",
    "    h0 = tf.nn.relu(tf.matmul(x, w0) + b0)\n",
    "    \n",
    "    # output layer\n",
    "    w1 = tf.get_variable('w1', [n_hidden, 1], initializer=w_initializer)\n",
    "    b1 = tf.get_variable('b1', [1], initializer=b_initializer)\n",
    "    out = tf.sigmoid(tf.matmul(h0, w1) + b1)\n",
    "    \n",
    "    return out"
   ]
  },
  {
   "cell_type": "code",
   "execution_count": null,
   "metadata": {
    "collapsed": true
   },
   "outputs": [],
   "source": []
  }
 ],
 "metadata": {
  "kernelspec": {
   "display_name": "Python 3",
   "language": "python",
   "name": "python3"
  },
  "language_info": {
   "codemirror_mode": {
    "name": "ipython",
    "version": 3
   },
   "file_extension": ".py",
   "mimetype": "text/x-python",
   "name": "python",
   "nbconvert_exporter": "python",
   "pygments_lexer": "ipython3",
   "version": "3.5.3"
  }
 },
 "nbformat": 4,
 "nbformat_minor": 2
}
