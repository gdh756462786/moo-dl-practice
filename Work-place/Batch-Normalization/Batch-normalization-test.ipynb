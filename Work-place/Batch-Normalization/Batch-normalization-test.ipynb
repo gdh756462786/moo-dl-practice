{
 "cells": [
  {
   "cell_type": "code",
   "execution_count": 1,
   "metadata": {
    "collapsed": true
   },
   "outputs": [],
   "source": [
    "import numpy as np\n",
    "import tensorflow as tf\n",
    "import matplotlib.pyplot as plt\n",
    "%matplotlib inline"
   ]
  },
  {
   "cell_type": "markdown",
   "metadata": {},
   "source": [
    "# Datasets"
   ]
  },
  {
   "cell_type": "code",
   "execution_count": 2,
   "metadata": {
    "scrolled": true
   },
   "outputs": [
    {
     "name": "stdout",
     "output_type": "stream",
     "text": [
      "Extracting ../Data_sets/MNIST_data\\train-images-idx3-ubyte.gz\n",
      "Extracting ../Data_sets/MNIST_data\\train-labels-idx1-ubyte.gz\n",
      "Extracting ../Data_sets/MNIST_data\\t10k-images-idx3-ubyte.gz\n",
      "Extracting ../Data_sets/MNIST_data\\t10k-labels-idx1-ubyte.gz\n"
     ]
    }
   ],
   "source": [
    "# get data sets\n",
    "from tensorflow.examples.tutorials.mnist import input_data\n",
    "mnist = input_data.read_data_sets('../Data_sets/MNIST_data', one_hot=True)"
   ]
  },
  {
   "cell_type": "markdown",
   "metadata": {},
   "source": [
    "# Build weight & bias initializer by name"
   ]
  },
  {
   "cell_type": "code",
   "execution_count": 3,
   "metadata": {},
   "outputs": [],
   "source": [
    "def get_initial_weights_bias_by_name(name):\n",
    "    mean = 0.0\n",
    "    stddev = 0.1\n",
    "    dtype = tf.float32\n",
    "    if name == 'normal':\n",
    "        w_init = tf.random_normal_initializer(mean=mean, stddev=stddev, dtype=dtype)\n",
    "    elif name == 'truncated':\n",
    "        w_init = tf.truncated_normal_initializer(mean=mean, stddev=stddev, dtype=dtype)\n",
    "    elif name == 'xavier':\n",
    "        #w_init = tf.contrib.layers.variance_scaling_initializer(factor=1.0, mode='FAN_AVG', uniform=True, dtype=dtype)\n",
    "        w_init = tf.contrib.layers.xavier_initializer(uniform=True, dtype=dtype)\n",
    "    elif name == 'he':\n",
    "        w_init = tf.contrib.layers.variance_scaling_initializer(factor=2.0, mode='FAN_IN', uniform=False, dtype=dtype)\n",
    "    \n",
    "    b_init = tf.zeros_initializer(dtype=dtype)\n",
    "    return w_init, b_init"
   ]
  },
  {
   "cell_type": "markdown",
   "metadata": {},
   "source": [
    "# Model builder functions"
   ]
  },
  {
   "cell_type": "code",
   "execution_count": 4,
   "metadata": {
    "collapsed": true
   },
   "outputs": [],
   "source": [
    "def model_inputs(n_input, n_output):\n",
    "    with tf.name_scope('placeholders'):\n",
    "        inputs = tf.placeholder(tf.float32, shape=[None, n_input], name='inputs')\n",
    "        labels = tf.placeholder(tf.float32, shape=[None, n_output], name='labels')\n",
    "    \n",
    "    return inputs, labels"
   ]
  },
  {
   "cell_type": "code",
   "execution_count": 5,
   "metadata": {
    "collapsed": true
   },
   "outputs": [],
   "source": [
    "def mlp_with_batch_norm(inputs, n_hidden, n_output, param_init_type, is_training=True):\n",
    "    with tf.variable_scope('with_batch_norm'):\n",
    "        # get weights & bias\n",
    "        w_init, b_init = get_initial_weights_bias_by_name(param_init_type)\n",
    "        h1 = tf.layers.dense(inputs=inputs, units=n_hidden, activation=None, kernel_initializer=w_init, bias_initializer=b_init)\n",
    "        h1 = tf.layers.batch_normalization(inputs=h1, training=is_training)\n",
    "        h1 = tf.nn.relu(h1)\n",
    "\n",
    "        h2 = tf.layers.dense(inputs=h1, units=n_hidden, activation=None, kernel_initializer=w_init, bias_initializer=b_init)\n",
    "        h2 = tf.layers.batch_normalization(inputs=h2, training=is_training)\n",
    "        h2 = tf.nn.relu(h2)\n",
    "\n",
    "        logits = tf.layers.dense(inputs=h2, units=n_output, activation=None, kernel_initializer=w_init, bias_initializer=b_init)\n",
    "    \n",
    "    return logits  "
   ]
  },
  {
   "cell_type": "code",
   "execution_count": 6,
   "metadata": {
    "collapsed": true
   },
   "outputs": [],
   "source": [
    "def mlp_without_batch_norm(inputs, n_hidden, n_output, param_init_type, is_training=True):\n",
    "    with tf.variable_scope('without_batch_norm'):\n",
    "        # get weights & bias\n",
    "        w_init, b_init = get_initial_weights_bias_by_name(param_init_type)\n",
    "        h1 = tf.layers.dense(inputs=inputs, units=n_hidden, activation=tf.nn.relu, kernel_initializer=w_init, bias_initializer=b_init)\n",
    "        h2 = tf.layers.dense(inputs=h1, units=n_hidden, activation=tf.nn.relu, kernel_initializer=w_init, bias_initializer=b_init)\n",
    "        logits = tf.layers.dense(inputs=h2, units=n_output, activation=None, kernel_initializer=w_init, bias_initializer=b_init)\n",
    "    \n",
    "    return logits"
   ]
  },
  {
   "cell_type": "code",
   "execution_count": 7,
   "metadata": {
    "collapsed": true
   },
   "outputs": [],
   "source": [
    "def model_loss_acc(inputs, labels, n_hidden, n_output, param_init_type='normal', use_batch_norm=False):\n",
    "    if use_batch_norm:\n",
    "        logits = mlp_with_batch_norm(inputs, n_hidden, n_output, param_init_type, is_training=True)\n",
    "    else:\n",
    "        logits = mlp_without_batch_norm(inputs, n_hidden, n_output, param_init_type, is_training=True)\n",
    "    \n",
    "    with tf.name_scope('cost'):\n",
    "        # compute loss\n",
    "        loss = tf.reduce_mean( tf.nn.softmax_cross_entropy_with_logits(logits=logits, labels=labels), name='loss' )\n",
    "        tf.summary.scalar(name='loss', tensor=loss)\n",
    "    \n",
    "    with tf.name_scope('predictions'):\n",
    "        # compute accuracy\n",
    "        correct_prediction = tf.equal(tf.argmax(logits, 1), tf.argmax(labels, 1))\n",
    "        acc = tf.reduce_mean( tf.cast(correct_prediction, tf.float32), name='accuracy' )\n",
    "        tf.summary.scalar(name='accuracy', tensor=acc)\n",
    "    \n",
    "    return loss, acc"
   ]
  },
  {
   "cell_type": "code",
   "execution_count": 8,
   "metadata": {
    "collapsed": true
   },
   "outputs": [],
   "source": [
    "def model_opt(loss, learning_rate, use_batch_norm=False):\n",
    "    with tf.name_scope('train'):\n",
    "        if use_batch_norm:\n",
    "            # take care of batch norm\n",
    "            with tf.control_dependencies(tf.get_collection(tf.GraphKeys.UPDATE_OPS)):\n",
    "                opt = tf.train.AdamOptimizer(learning_rate=learning_rate).minimize(loss)\n",
    "        else:\n",
    "            opt = tf.train.AdamOptimizer(learning_rate=learning_rate).minimize(loss)\n",
    "    \n",
    "    return opt"
   ]
  },
  {
   "cell_type": "code",
   "execution_count": 9,
   "metadata": {
    "collapsed": true
   },
   "outputs": [],
   "source": [
    "class TestNet:\n",
    "    def __init__(self, n_input, n_output, n_hidden, learning_rate, param_init_type, use_batch_norm):\n",
    "        tf.reset_default_graph()\n",
    "        \n",
    "        self.inputs, self.labels = model_inputs(n_input, n_output)\n",
    "        self.loss, self.acc = model_loss_acc(self.inputs, self.labels, n_hidden, n_output, param_init_type, use_batch_norm)\n",
    "        self.optimizer = model_opt(self.loss, learning_rate, use_batch_norm)\n",
    "        self.merged_summary = tf.summary.merge_all()"
   ]
  },
  {
   "cell_type": "code",
   "execution_count": 10,
   "metadata": {
    "collapsed": true
   },
   "outputs": [],
   "source": [
    "def train(net, epochs, batch_size, print_every, training_name):\n",
    "    losses = []\n",
    "    accrucacies = []\n",
    "    steps = 0\n",
    "    \n",
    "    with tf.Session() as sess:\n",
    "        sess.run(tf.global_variables_initializer())\n",
    "        train_writer = tf.summary.FileWriter('./logs/' + training_name, sess.graph)\n",
    "        \n",
    "        for e in range(epochs):\n",
    "            for ii in range(mnist.train.num_examples//batch_size):\n",
    "                steps += 1\n",
    "                \n",
    "                # get input data\n",
    "                batch_x, batch_y = mnist.train.next_batch(batch_size)\n",
    "                \n",
    "                # run optimizer\n",
    "                _, train_loss, train_acc, summary = sess.run([net.optimizer, net.loss, net.acc, net.merged_summary], \n",
    "                                                             feed_dict={net.inputs: batch_x, net.labels: batch_y})\n",
    "                \n",
    "                train_writer.add_summary(summary, steps)\n",
    "                \n",
    "                # for saving results\n",
    "                losses.append(train_loss)\n",
    "                accrucacies.append(train_acc)\n",
    "                \n",
    "                # print\n",
    "                if steps % print_every == 0:\n",
    "                    print(\"Epoch {}/{}...\".format(e+1, epochs), \"Loss: {:.4f}...\".format(train_loss), \"Acc: {:.4f}...\".format(train_acc))\n",
    "    \n",
    "    return losses, accrucacies"
   ]
  },
  {
   "cell_type": "markdown",
   "metadata": {},
   "source": [
    "# Training"
   ]
  },
  {
   "cell_type": "code",
   "execution_count": 11,
   "metadata": {
    "scrolled": false
   },
   "outputs": [],
   "source": [
    "# network params\n",
    "n_input = 784\n",
    "n_hidden = 256\n",
    "n_classes = 10\n",
    "\n",
    "# train params\n",
    "training_epochs = 15\n",
    "batch_size = 100\n",
    "display_step = 1000\n",
    "learning_rate = 0.001"
   ]
  },
  {
   "cell_type": "code",
   "execution_count": 12,
   "metadata": {},
   "outputs": [],
   "source": [
    "# first create dictionary to hold training result\n",
    "results = {\n",
    "    'normal.false': { 'loss': [], 'acc': [] },\n",
    "    'normal.true': { 'loss': [], 'acc': [] },\n",
    "    'truncated.false': { 'loss': [], 'acc': [] },\n",
    "    'truncated.true': { 'loss': [], 'acc': [] },\n",
    "    'xavier.false': { 'loss': [], 'acc': [] },\n",
    "    'xavier.true': { 'loss': [], 'acc': [] },\n",
    "    'he.false': { 'loss': [], 'acc': [] },\n",
    "    'he.true': { 'loss': [], 'acc': [] } }"
   ]
  },
  {
   "cell_type": "code",
   "execution_count": 14,
   "metadata": {},
   "outputs": [
    {
     "name": "stdout",
     "output_type": "stream",
     "text": [
      "[Running]: normal.true!!!\n",
      "Epoch 2/15... Loss: 0.0685... Acc: 0.9800...\n",
      "Epoch 4/15... Loss: 0.0217... Acc: 0.9900...\n",
      "Epoch 6/15... Loss: 0.0058... Acc: 1.0000...\n",
      "Epoch 8/15... Loss: 0.0103... Acc: 0.9900...\n",
      "Epoch 10/15... Loss: 0.0049... Acc: 1.0000...\n",
      "Epoch 11/15... Loss: 0.0313... Acc: 0.9800...\n",
      "Epoch 13/15... Loss: 0.0097... Acc: 1.0000...\n",
      "Epoch 15/15... Loss: 0.0070... Acc: 1.0000...\n",
      "[Running]: normal.false!!!\n",
      "Epoch 2/15... Loss: 0.0707... Acc: 0.9600...\n",
      "Epoch 4/15... Loss: 0.0221... Acc: 0.9900...\n",
      "Epoch 6/15... Loss: 0.0501... Acc: 0.9700...\n",
      "Epoch 8/15... Loss: 0.0066... Acc: 1.0000...\n",
      "Epoch 10/15... Loss: 0.0086... Acc: 1.0000...\n",
      "Epoch 11/15... Loss: 0.0245... Acc: 0.9800...\n",
      "Epoch 13/15... Loss: 0.0189... Acc: 0.9900...\n",
      "Epoch 15/15... Loss: 0.0355... Acc: 0.9900...\n",
      "[Running]: truncated.true!!!\n",
      "Epoch 2/15... Loss: 0.0787... Acc: 0.9800...\n",
      "Epoch 4/15... Loss: 0.0153... Acc: 1.0000...\n",
      "Epoch 6/15... Loss: 0.0224... Acc: 1.0000...\n",
      "Epoch 8/15... Loss: 0.0077... Acc: 1.0000...\n",
      "Epoch 10/15... Loss: 0.0035... Acc: 1.0000...\n",
      "Epoch 11/15... Loss: 0.0015... Acc: 1.0000...\n",
      "Epoch 13/15... Loss: 0.0188... Acc: 0.9900...\n",
      "Epoch 15/15... Loss: 0.0021... Acc: 1.0000...\n",
      "[Running]: truncated.false!!!\n",
      "Epoch 2/15... Loss: 0.1390... Acc: 0.9700...\n",
      "Epoch 4/15... Loss: 0.0245... Acc: 0.9900...\n",
      "Epoch 6/15... Loss: 0.0101... Acc: 0.9900...\n",
      "Epoch 8/15... Loss: 0.0145... Acc: 0.9900...\n",
      "Epoch 10/15... Loss: 0.0238... Acc: 0.9800...\n",
      "Epoch 11/15... Loss: 0.0159... Acc: 0.9900...\n",
      "Epoch 13/15... Loss: 0.0046... Acc: 1.0000...\n",
      "Epoch 15/15... Loss: 0.0023... Acc: 1.0000...\n",
      "[Running]: xavier.true!!!\n",
      "Epoch 2/15... Loss: 0.1054... Acc: 0.9600...\n",
      "Epoch 4/15... Loss: 0.0446... Acc: 0.9700...\n",
      "Epoch 6/15... Loss: 0.0242... Acc: 0.9800...\n",
      "Epoch 8/15... Loss: 0.0045... Acc: 1.0000...\n",
      "Epoch 10/15... Loss: 0.0040... Acc: 1.0000...\n",
      "Epoch 11/15... Loss: 0.0032... Acc: 1.0000...\n",
      "Epoch 13/15... Loss: 0.0118... Acc: 0.9900...\n",
      "Epoch 15/15... Loss: 0.0026... Acc: 1.0000...\n",
      "[Running]: xavier.false!!!\n",
      "Epoch 2/15... Loss: 0.0368... Acc: 0.9800...\n",
      "Epoch 4/15... Loss: 0.0631... Acc: 0.9800...\n",
      "Epoch 6/15... Loss: 0.0150... Acc: 1.0000...\n",
      "Epoch 8/15... Loss: 0.0190... Acc: 0.9900...\n",
      "Epoch 10/15... Loss: 0.0015... Acc: 1.0000...\n",
      "Epoch 11/15... Loss: 0.0132... Acc: 1.0000...\n",
      "Epoch 13/15... Loss: 0.0289... Acc: 0.9900...\n",
      "Epoch 15/15... Loss: 0.0121... Acc: 0.9900...\n",
      "[Running]: he.true!!!\n",
      "Epoch 2/15... Loss: 0.0710... Acc: 0.9700...\n",
      "Epoch 4/15... Loss: 0.0183... Acc: 0.9900...\n",
      "Epoch 6/15... Loss: 0.0482... Acc: 0.9800...\n",
      "Epoch 8/15... Loss: 0.0028... Acc: 1.0000...\n",
      "Epoch 10/15... Loss: 0.0034... Acc: 1.0000...\n",
      "Epoch 11/15... Loss: 0.0011... Acc: 1.0000...\n",
      "Epoch 13/15... Loss: 0.0016... Acc: 1.0000...\n",
      "Epoch 15/15... Loss: 0.0063... Acc: 1.0000...\n",
      "[Running]: he.false!!!\n",
      "Epoch 2/15... Loss: 0.0641... Acc: 0.9800...\n",
      "Epoch 4/15... Loss: 0.0237... Acc: 0.9900...\n",
      "Epoch 6/15... Loss: 0.0554... Acc: 0.9800...\n",
      "Epoch 8/15... Loss: 0.0014... Acc: 1.0000...\n",
      "Epoch 10/15... Loss: 0.0038... Acc: 1.0000...\n",
      "Epoch 11/15... Loss: 0.0441... Acc: 0.9900...\n",
      "Epoch 13/15... Loss: 0.0376... Acc: 0.9900...\n",
      "Epoch 15/15... Loss: 0.0017... Acc: 1.0000...\n"
     ]
    }
   ],
   "source": [
    "# train on every test settings\n",
    "param_init_list = ['normal', 'truncated', 'xavier', 'he']\n",
    "use_batch_norm_list = [True, False]\n",
    "\n",
    "for init_name in param_init_list:\n",
    "    for use_BN in use_batch_norm_list:\n",
    "        # create dictionary key\n",
    "        result_dict_key = init_name + '.' + str(use_BN).lower()\n",
    "        print('[Running]: {}!!!'.format(result_dict_key))\n",
    "        \n",
    "        # create network\n",
    "        net = TestNet(n_input, n_classes, n_hidden, learning_rate, init_name, use_BN)\n",
    "        \n",
    "        # save trainint result\n",
    "        results[result_dict_key]['loss'], results[result_dict_key]['acc'] = train(net, training_epochs, batch_size, display_step, result_dict_key)"
   ]
  },
  {
   "cell_type": "code",
   "execution_count": 15,
   "metadata": {},
   "outputs": [
    {
     "name": "stdout",
     "output_type": "stream",
     "text": [
      "name: truncated.true, loss: 8250, acc: 8250\n",
      "name: normal.false, loss: 8250, acc: 8250\n",
      "name: he.true, loss: 8250, acc: 8250\n",
      "name: normal.true, loss: 8250, acc: 8250\n",
      "name: he.false, loss: 8250, acc: 8250\n",
      "name: truncated.false, loss: 8250, acc: 8250\n",
      "name: xavier.true, loss: 8250, acc: 8250\n",
      "name: xavier.false, loss: 8250, acc: 8250\n"
     ]
    }
   ],
   "source": [
    "for k, v in results.items():\n",
    "    if isinstance(v, dict):\n",
    "        print('name: {}, loss: {}, acc: {}'.format(k, len(v['loss']), len(v['acc'])))"
   ]
  },
  {
   "cell_type": "code",
   "execution_count": 16,
   "metadata": {},
   "outputs": [
    {
     "data": {
      "text/plain": [
       "<matplotlib.legend.Legend at 0x258f7fc5e80>"
      ]
     },
     "execution_count": 16,
     "metadata": {},
     "output_type": "execute_result"
    },
    {
     "data": {
      "image/png": "[encoded data removed]",
      "text/plain": [
       "<matplotlib.figure.Figure at 0x258f6ee79e8>"
      ]
     },
     "metadata": {},
     "output_type": "display_data"
    }
   ],
   "source": [
    "fig, ax = plt.subplots()\n",
    "for k, v in results.items():\n",
    "    if isinstance(v, dict):\n",
    "        losses = np.array(v['loss'])\n",
    "        plt.plot(losses, label=k)\n",
    "plt.title(\"Training Losses\")\n",
    "plt.legend()"
   ]
  },
  {
   "cell_type": "code",
   "execution_count": 17,
   "metadata": {},
   "outputs": [
    {
     "data": {
      "text/plain": [
       "<matplotlib.legend.Legend at 0x258f8132fd0>"
      ]
     },
     "execution_count": 17,
     "metadata": {},
     "output_type": "execute_result"
    },
    {
     "data": {
      "image/png": "[encoded data removed]",
      "text/plain": [
       "<matplotlib.figure.Figure at 0x258f6f3d4e0>"
      ]
     },
     "metadata": {},
     "output_type": "display_data"
    }
   ],
   "source": [
    "fig, ax = plt.subplots()\n",
    "for k, v in results.items():\n",
    "    if isinstance(v, dict):\n",
    "        accuracy = np.array(v['acc'])\n",
    "        plt.plot(accuracy, label=k)\n",
    "plt.title(\"Training Accuracies\")\n",
    "plt.legend()"
   ]
  }
 ],
 "metadata": {
  "kernelspec": {
   "display_name": "Python 3",
   "language": "python",
   "name": "python3"
  },
  "language_info": {
   "codemirror_mode": {
    "name": "ipython",
    "version": 3
   },
   "file_extension": ".py",
   "mimetype": "text/x-python",
   "name": "python",
   "nbconvert_exporter": "python",
   "pygments_lexer": "ipython3",
   "version": "3.5.3"
  }
 },
 "nbformat": 4,
 "nbformat_minor": 2
}
