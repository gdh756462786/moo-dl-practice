{
 "cells": [
  {
   "cell_type": "code",
   "execution_count": 1,
   "metadata": {
    "collapsed": true
   },
   "outputs": [],
   "source": [
    "import numpy as np\n",
    "import tensorflow as tf\n",
    "import matplotlib.pyplot as plt\n",
    "# from scipy.stats import norm\n",
    "%matplotlib inline"
   ]
  },
  {
   "cell_type": "markdown",
   "metadata": {},
   "source": [
    "# Data generators"
   ]
  },
  {
   "cell_type": "code",
   "execution_count": 2,
   "metadata": {
    "collapsed": true
   },
   "outputs": [],
   "source": [
    "class DataDistribution(object):\n",
    "    def __init__(self, mu, sigma):\n",
    "        self.mu = mu\n",
    "        self.sigma = sigma\n",
    "    \n",
    "    def sample(self, N):\n",
    "        return np.random.normal(self.mu, self.sigma, N)"
   ]
  },
  {
   "cell_type": "code",
   "execution_count": 3,
   "metadata": {
    "collapsed": true
   },
   "outputs": [],
   "source": [
    "class GeneratorDistribution(object):\n",
    "    def __init__(self, range):\n",
    "        self.range = range\n",
    "\n",
    "    def sample(self, N):\n",
    "        return np.linspace(-self.range, self.range, N) + np.random.random(N) * 0.01"
   ]
  },
  {
   "cell_type": "markdown",
   "metadata": {},
   "source": [
    "# Model"
   ]
  },
  {
   "cell_type": "code",
   "execution_count": 4,
   "metadata": {
    "collapsed": true
   },
   "outputs": [],
   "source": [
    "def model_inputs(real_dim, z_dim):\n",
    "    inputs_real = tf.placeholder(tf.float32, [None, real_dim], name='inputs_real')\n",
    "    inputs_z = tf.placeholder(tf.float32, [None, z_dim], name='inputs_z')\n",
    "    \n",
    "    return inputs_real, inputs_z"
   ]
  },
  {
   "cell_type": "code",
   "execution_count": 5,
   "metadata": {
    "collapsed": true
   },
   "outputs": [],
   "source": [
    "# pre_D(x)\n",
    "def pre_trainer(x, n_hidden=32, reuse=False, alpha=0.01):\n",
    "    with tf.variable_scope('pre', reuse=reuse):\n",
    "        # weight initializer \n",
    "        w_init = tf.contrib.layers.variance_scaling_initializer()\n",
    "        \n",
    "        h1 = tf.layers.dense(x, n_hidden, activation=None, kernel_initializer=w_init)\n",
    "        h1 = tf.maximum(alpha * h1, h1) # leacky ReLU\n",
    "        \n",
    "        # logits and sigmoid output\n",
    "        logits = tf.layers.dense(h1, 1, activation=None)\n",
    "        out = tf.sigmoid(logits)\n",
    "        return out"
   ]
  },
  {
   "cell_type": "code",
   "execution_count": 6,
   "metadata": {
    "collapsed": true
   },
   "outputs": [],
   "source": [
    "# G(z)\n",
    "def generator(z, out_dim=1, n_hidden=32, reuse=False, alpha=0.01):\n",
    "    with tf.variable_scope('generator', reuse=reuse):\n",
    "        # weight initializer \n",
    "        w_init = tf.truncated_normal_initializer(stddev=2)\n",
    "\n",
    "        h1 = tf.layers.dense(z, n_hidden, activation=None, kernel_initializer=w_init)\n",
    "        h1 = tf.maximum(alpha * h1, h1) # leacky ReLU\n",
    "        \n",
    "        # logits and tanh output\n",
    "        logits = tf.layers.dense(h1, out_dim, activation=None, kernel_initializer=w_init)\n",
    "        return logits"
   ]
  },
  {
   "cell_type": "code",
   "execution_count": 7,
   "metadata": {
    "collapsed": true
   },
   "outputs": [],
   "source": [
    "# D(x)\n",
    "def discriminator(x, n_hidden=32, reuse=False, alpha=0.01):\n",
    "    with tf.variable_scope('discriminator', reuse=reuse):\n",
    "        # weight initializer \n",
    "        w_init = tf.contrib.layers.variance_scaling_initializer()\n",
    "        \n",
    "        h1 = tf.layers.dense(x, n_hidden, activation=None, kernel_initializer=w_init)\n",
    "        h1 = tf.maximum(alpha * h1, h1) # leacky ReLU\n",
    "        \n",
    "        # logits and sigmoid output\n",
    "        logits = tf.layers.dense(h1, 1, activation=None)\n",
    "        out = tf.sigmoid(logits)\n",
    "        return out, logits"
   ]
  },
  {
   "cell_type": "code",
   "execution_count": 8,
   "metadata": {
    "collapsed": true
   },
   "outputs": [],
   "source": [
    "def optimizer(loss, var_list, num_decay_steps=400, initial_learning_rate=0.03):\n",
    "    decay = 0.95\n",
    "    batch = tf.Variable(0)\n",
    "    learning_rate = tf.train.exponential_decay(\n",
    "        initial_learning_rate,\n",
    "        batch,\n",
    "        num_decay_steps,\n",
    "        decay,\n",
    "        staircase=True\n",
    "    )\n",
    "    optimizer = tf.train.GradientDescentOptimizer(learning_rate).minimize(\n",
    "    #optimizer = tf.train.AdamOptimizer(learning_rate).minimize(\n",
    "        loss,\n",
    "        global_step=batch,\n",
    "        var_list=var_list\n",
    "    )\n",
    "    return optimizer"
   ]
  },
  {
   "cell_type": "markdown",
   "metadata": {},
   "source": [
    "# Plotting functions"
   ]
  },
  {
   "cell_type": "code",
   "execution_count": 9,
   "metadata": {
    "collapsed": true
   },
   "outputs": [],
   "source": [
    "def test_samples(D, G, inputs_real, inputs_z, session, data, gen, sample_range, batch_size, num_points=10000, num_bins=100):\n",
    "    # 1. decision boundary\n",
    "    xs = np.linspace(-sample_range, sample_range, num_points)\n",
    "    db = np.zeros((num_points, 1))\n",
    "    for i in range(num_points // batch_size):\n",
    "        x_ = xs[batch_size * i:batch_size * (i + 1)]\n",
    "        x_ = np.reshape(x_, [batch_size, 1])\n",
    "        db[batch_size * i:batch_size * (i + 1)] = session.run(D, {inputs_real: x_})\n",
    "    \n",
    "    # bins for computing histogram\n",
    "    bins = np.linspace(-sample_range, sample_range, num_bins)\n",
    "    \n",
    "    # 2. real data distribution\n",
    "    d = data.sample(num_points)\n",
    "    pd, _ = np.histogram(d, bins=bins, density=True)\n",
    "    \n",
    "    if G is not None:        \n",
    "        # 3. generated samples\n",
    "        zs = gen.sample(num_points)\n",
    "        g = np.zeros((num_points, 1))\n",
    "        for i in range(num_points // batch_size):\n",
    "            z_ = zs[batch_size * i:batch_size * (i + 1)]\n",
    "            z_ = np.reshape(z_, [batch_size, 1])\n",
    "            g[batch_size * i:batch_size * (i + 1)] = session.run(G, {inputs_z: z_})\n",
    "        pg, _ = np.histogram(g, bins=bins, density=True)\n",
    "    else:\n",
    "        pg = None\n",
    "    return db, pd, pg"
   ]
  },
  {
   "cell_type": "code",
   "execution_count": 10,
   "metadata": {
    "collapsed": true
   },
   "outputs": [],
   "source": [
    "def plot_distributions(samps, sample_range):\n",
    "    db, pd, pg = samps\n",
    "    db_x = np.linspace(-sample_range, sample_range, len(db))\n",
    "    p_x = np.linspace(-sample_range, sample_range, len(pd))\n",
    "    f, ax = plt.subplots(1)\n",
    "    ax.plot(db_x, db, label='decision boundary')\n",
    "    ax.set_ylim(0, 1)\n",
    "    ax.set_xlim(-sample_range, sample_range)\n",
    "    plt.plot(p_x, pd, label='real data')\n",
    "    if pg is not None:\n",
    "        plt.plot(p_x, pg, label='generated data')\n",
    "    plt.title('1D Generative Adversarial Network')\n",
    "    plt.xlabel('Data values')\n",
    "    plt.ylabel('Probability density')\n",
    "    plt.legend()\n",
    "    plt.show()"
   ]
  },
  {
   "cell_type": "markdown",
   "metadata": {},
   "source": [
    "# Parameters"
   ]
  },
  {
   "cell_type": "code",
   "execution_count": 11,
   "metadata": {
    "collapsed": true
   },
   "outputs": [],
   "source": [
    "# parameters\n",
    "mu, sigma = 1., 1.5\n",
    "data_range = 5\n",
    "\n",
    "input_size = 1 # Size of input\n",
    "z_size = 1     # Size of latent vector to generator\n",
    "n_hidden = 32  # Sizes of hidden layers\n",
    "alpha = 0.01   # Leak factor for leaky ReLU\n",
    "smooth = 0.1   # Smoothing \n",
    "\n",
    "d_learning_rate = 0.03\n",
    "g_learning_rate = 0.03\n",
    "n_initial_trainig_epochs = 1000\n",
    "n_epochs = 3000\n",
    "M = 150 # batch size"
   ]
  },
  {
   "cell_type": "markdown",
   "metadata": {},
   "source": [
    "# Pre-training session"
   ]
  },
  {
   "cell_type": "code",
   "execution_count": 12,
   "metadata": {
    "collapsed": true
   },
   "outputs": [],
   "source": [
    "tf.reset_default_graph()\n",
    "\n",
    "# Create our input placeholders\n",
    "inputs_pre = tf.placeholder(tf.float32, [None, input_size], name='inputs_pre')\n",
    "labels_pre = tf.placeholder(tf.float32, [None, input_size], name='labels_pre')\n",
    "\n",
    "# Build the model\n",
    "d_model_pre = pre_trainer(x=inputs_pre, n_hidden=n_hidden, reuse=False, alpha=alpha)\n",
    "\n",
    "# Calculate losses\n",
    "d_loss_pre = tf.reduce_mean(tf.square(d_model_pre - labels_pre))\n",
    "\n",
    "# optimization\n",
    "t_vars = tf.trainable_variables()\n",
    "pre_vars = [var for var in t_vars if var.name.startswith('pre')]\n",
    "\n",
    "learning_rate = 0.03\n",
    "# pre_train_opt = tf.train.AdamOptimizer(learning_rate).minimize(d_loss_pre, var_list=pre_vars)\n",
    "pre_train_opt = optimizer(d_loss_pre, pre_vars, 400, learning_rate)"
   ]
  },
  {
   "cell_type": "code",
   "execution_count": 13,
   "metadata": {
    "scrolled": true
   },
   "outputs": [
    {
     "name": "stdout",
     "output_type": "stream",
     "text": [
      "Pre-training Epoch 100/1000... Loss: 0.0281...\n",
      "Pre-training Epoch 200/1000... Loss: 0.0377...\n",
      "Pre-training Epoch 300/1000... Loss: 0.0180...\n",
      "Pre-training Epoch 400/1000... Loss: 0.0264...\n",
      "Pre-training Epoch 500/1000... Loss: 0.0156...\n",
      "Pre-training Epoch 600/1000... Loss: 0.0294...\n",
      "Pre-training Epoch 700/1000... Loss: 0.0236...\n",
      "Pre-training Epoch 800/1000... Loss: 0.0197...\n",
      "Pre-training Epoch 900/1000... Loss: 0.0191...\n",
      "Pre-training Epoch 1000/1000... Loss: 0.0141...\n"
     ]
    }
   ],
   "source": [
    "data = DataDistribution(mu, sigma)\n",
    "losses = []\n",
    "with tf.Session() as sess:\n",
    "    sess.run(tf.global_variables_initializer())\n",
    "    \n",
    "    for e in range(n_initial_trainig_epochs):\n",
    "        N = 1000\n",
    "        d = data.sample(N)\n",
    "        n_bins = 100\n",
    "        histc, edges = np.histogram(d, bins=n_bins, density=True)\n",
    "        \n",
    "        # Estimated pdf is used as labels after normalization\n",
    "        max_histc = np.max(histc)\n",
    "        min_histc = np.min(histc)\n",
    "        y_ = (histc - min_histc) / (max_histc - min_histc)\n",
    "        x_ = edges[1:]\n",
    "        \n",
    "        x_ = np.reshape(x_, [n_bins, input_size])\n",
    "        y_ = np.reshape(y_, [n_bins, input_size])\n",
    "        \n",
    "        # Run optimizers\n",
    "        _, train_loss_pre = sess.run([pre_train_opt, d_loss_pre], feed_dict={inputs_pre: x_, labels_pre: y_})\n",
    "        \n",
    "        # Save losses to view after training\n",
    "        losses.append(train_loss_pre)\n",
    "        \n",
    "        if (e+1) % 100 == 0:\n",
    "            print(\"Pre-training Epoch {}/{}...\".format(e+1, n_initial_trainig_epochs), \"Loss: {:.4f}...\".format(train_loss_pre))\n",
    "        \n",
    "        # at last step\n",
    "        if e == n_initial_trainig_epochs-1:\n",
    "            samps = test_samples(d_model_pre, None, inputs_pre, None, sess, data, None, data_range, M)\n",
    "            \n",
    "            # copy the learned weights over into a tmp array\n",
    "            weights_P = sess.run(pre_vars)"
   ]
  },
  {
   "cell_type": "code",
   "execution_count": 14,
   "metadata": {
    "scrolled": false
   },
   "outputs": [
    {
     "data": {
      "text/plain": [
       "<matplotlib.legend.Legend at 0x269ed4f6c88>"
      ]
     },
     "execution_count": 14,
     "metadata": {},
     "output_type": "execute_result"
    },
    {
     "data": {
      "image/png": "[encoded data removed]",
      "text/plain": [
       "<matplotlib.figure.Figure at 0x269f8de2a58>"
      ]
     },
     "metadata": {},
     "output_type": "display_data"
    }
   ],
   "source": [
    "fig, ax = plt.subplots()\n",
    "losses = np.array(losses)\n",
    "plt.plot(losses, label='pre-trained')\n",
    "plt.title(\"Pre-Training Losses\")\n",
    "plt.legend()"
   ]
  },
  {
   "cell_type": "code",
   "execution_count": 15,
   "metadata": {},
   "outputs": [
    {
     "data": {
      "image/png": "[encoded data removed]",
      "text/plain": [
       "<matplotlib.figure.Figure at 0x269f69b10f0>"
      ]
     },
     "metadata": {},
     "output_type": "display_data"
    }
   ],
   "source": [
    "plot_distributions(samps, data_range)"
   ]
  },
  {
   "cell_type": "markdown",
   "metadata": {},
   "source": [
    "# Build Net"
   ]
  },
  {
   "cell_type": "code",
   "execution_count": 16,
   "metadata": {
    "collapsed": true
   },
   "outputs": [],
   "source": [
    "tf.reset_default_graph()\n",
    "\n",
    "# Create our input placeholders\n",
    "inputs_real, inputs_z = model_inputs(real_dim=input_size, z_dim=z_size)\n",
    "\n",
    "# Build the model\n",
    "g_model = generator(z=inputs_z, out_dim=input_size, n_hidden=n_hidden, reuse=False, alpha=alpha)\n",
    "d_model_real, d_logits_real = discriminator(x=inputs_real, n_hidden=n_hidden, reuse=False, alpha=alpha)\n",
    "d_model_fake, d_logits_fake = discriminator(x=g_model, n_hidden=n_hidden, reuse=True, alpha=alpha)"
   ]
  },
  {
   "cell_type": "code",
   "execution_count": 17,
   "metadata": {
    "collapsed": true
   },
   "outputs": [],
   "source": [
    "# Calculate losses\n",
    "# discriminator\n",
    "real_labels = tf.ones_like(d_logits_real) * (1 - smooth)\n",
    "d_loss_real = tf.reduce_mean(tf.nn.sigmoid_cross_entropy_with_logits(logits=d_logits_real, labels=real_labels))\n",
    "\n",
    "fake_labels = tf.zeros_like(d_logits_real)\n",
    "d_loss_fake = tf.reduce_mean(tf.nn.sigmoid_cross_entropy_with_logits(logits=d_logits_fake, labels=fake_labels))\n",
    "\n",
    "# discriminator's loss is sum of real and fake\n",
    "d_loss = d_loss_real + d_loss_fake\n",
    "\n",
    "# generator\n",
    "g_labels = tf.ones_like(d_logits_fake)\n",
    "g_loss = tf.reduce_mean(tf.nn.sigmoid_cross_entropy_with_logits(logits=d_logits_fake, labels=g_labels))"
   ]
  },
  {
   "cell_type": "code",
   "execution_count": 18,
   "metadata": {
    "collapsed": true
   },
   "outputs": [],
   "source": [
    "# optimization\n",
    "# Get the trainable_variables, split into G and D parts\n",
    "t_vars = tf.trainable_variables()\n",
    "g_vars = [var for var in t_vars if var.name.startswith('generator')]\n",
    "d_vars = [var for var in t_vars if var.name.startswith('discriminator')]\n",
    "\n",
    "# d_train_opt = tf.train.AdamOptimizer(d_learning_rate).minimize(d_loss, var_list=d_vars)\n",
    "# g_train_opt = tf.train.AdamOptimizer(g_learning_rate).minimize(g_loss, var_list=g_vars)\n",
    "d_train_opt = optimizer(d_loss, d_vars, 400, d_learning_rate)\n",
    "g_train_opt = optimizer(g_loss, g_vars, 400, g_learning_rate)"
   ]
  },
  {
   "cell_type": "code",
   "execution_count": 19,
   "metadata": {
    "collapsed": true
   },
   "outputs": [],
   "source": [
    "data = DataDistribution(mu, sigma)\n",
    "gen = GeneratorDistribution(data_range)"
   ]
  },
  {
   "cell_type": "code",
   "execution_count": 20,
   "metadata": {
    "scrolled": true
   },
   "outputs": [
    {
     "data": {
      "image/png": "[encoded data removed]",
      "text/plain": [
       "<matplotlib.figure.Figure at 0x26bde744978>"
      ]
     },
     "metadata": {},
     "output_type": "display_data"
    }
   ],
   "source": [
    "# show input real data distribution\n",
    "temp_input = data.sample(5000)\n",
    "plt.hist(temp_input, bins=100, range=[-data_range, data_range], align='mid')\n",
    "plt.show()"
   ]
  },
  {
   "cell_type": "markdown",
   "metadata": {},
   "source": [
    "# Training"
   ]
  },
  {
   "cell_type": "code",
   "execution_count": 21,
   "metadata": {},
   "outputs": [
    {
     "name": "stdout",
     "output_type": "stream",
     "text": [
      "Epoch 100/3000... Discriminator Loss: 1.2829... Generator Loss: 0.7747\n",
      "Epoch 200/3000... Discriminator Loss: 1.0786... Generator Loss: 2.8628\n",
      "Epoch 300/3000... Discriminator Loss: 1.2759... Generator Loss: 3.1046\n",
      "Epoch 400/3000... Discriminator Loss: 1.2769... Generator Loss: 1.8396\n",
      "Epoch 500/3000... Discriminator Loss: 1.7580... Generator Loss: 0.4887\n",
      "Epoch 600/3000... Discriminator Loss: 1.2800... Generator Loss: 0.8326\n",
      "Epoch 700/3000... Discriminator Loss: 1.3046... Generator Loss: 0.8234\n",
      "Epoch 800/3000... Discriminator Loss: 1.3714... Generator Loss: 0.8463\n",
      "Epoch 900/3000... Discriminator Loss: 1.3444... Generator Loss: 0.8008\n",
      "Epoch 1000/3000... Discriminator Loss: 1.3717... Generator Loss: 0.7919\n",
      "Epoch 1100/3000... Discriminator Loss: 1.2804... Generator Loss: 0.8896\n",
      "Epoch 1200/3000... Discriminator Loss: 1.3807... Generator Loss: 0.8126\n",
      "Epoch 1300/3000... Discriminator Loss: 1.3138... Generator Loss: 0.8124\n",
      "Epoch 1400/3000... Discriminator Loss: 1.2776... Generator Loss: 0.8777\n",
      "Epoch 1500/3000... Discriminator Loss: 1.3723... Generator Loss: 0.8183\n",
      "Epoch 1600/3000... Discriminator Loss: 1.3214... Generator Loss: 0.8468\n",
      "Epoch 1700/3000... Discriminator Loss: 1.2737... Generator Loss: 0.8756\n",
      "Epoch 1800/3000... Discriminator Loss: 1.3723... Generator Loss: 0.8208\n",
      "Epoch 1900/3000... Discriminator Loss: 1.3606... Generator Loss: 0.7716\n",
      "Epoch 2000/3000... Discriminator Loss: 1.3747... Generator Loss: 0.7727\n",
      "Epoch 2100/3000... Discriminator Loss: 1.3780... Generator Loss: 0.8416\n",
      "Epoch 2200/3000... Discriminator Loss: 1.3765... Generator Loss: 0.7915\n",
      "Epoch 2300/3000... Discriminator Loss: 1.3770... Generator Loss: 0.8062\n",
      "Epoch 2400/3000... Discriminator Loss: 1.3771... Generator Loss: 0.8114\n",
      "Epoch 2500/3000... Discriminator Loss: 1.3765... Generator Loss: 0.8131\n",
      "Epoch 2600/3000... Discriminator Loss: 1.3752... Generator Loss: 0.8311\n",
      "Epoch 2700/3000... Discriminator Loss: 1.3721... Generator Loss: 0.8182\n",
      "Epoch 2800/3000... Discriminator Loss: 1.3762... Generator Loss: 0.8005\n",
      "Epoch 2900/3000... Discriminator Loss: 1.3743... Generator Loss: 0.7752\n",
      "Epoch 3000/3000... Discriminator Loss: 1.3759... Generator Loss: 0.7994\n"
     ]
    }
   ],
   "source": [
    "losses = []\n",
    "with tf.Session() as sess:\n",
    "    sess.run(tf.global_variables_initializer())\n",
    "    \n",
    "    # copy weights from pre-training over to new D network\n",
    "    for i, v in enumerate(d_vars):\n",
    "        sess.run(v.assign(weights_P[i]))\n",
    "    \n",
    "    for e in range(n_epochs):\n",
    "        x_ = data.sample(M * input_size) # sampled m-batch from p_data\n",
    "        x_ = np.reshape(x_, [M, input_size])\n",
    "        z_ = gen.sample(M * z_size)  # sample m-batch from noise prior\n",
    "        z_ = np.reshape(z_, [M, z_size])\n",
    "        \n",
    "        # Run optimizers\n",
    "        _ = sess.run(d_train_opt, feed_dict={inputs_real: x_, inputs_z: z_})\n",
    "        _ = sess.run(g_train_opt, feed_dict={inputs_z: z_})\n",
    "        \n",
    "        # At the end of each epoch, get the losses and print them out\n",
    "        train_loss_d = sess.run(d_loss, {inputs_real: x_, inputs_z: z_})\n",
    "        train_loss_g = g_loss.eval({inputs_z: z_})\n",
    "        \n",
    "        # Save losses to view after training\n",
    "        losses.append((train_loss_d, train_loss_g))\n",
    "        \n",
    "        if (e+1) % 100 == 0:\n",
    "            print(\"Epoch {}/{}...\".format(e+1, n_epochs),\n",
    "                  \"Discriminator Loss: {:.4f}...\".format(train_loss_d),\n",
    "                  \"Generator Loss: {:.4f}\".format(train_loss_g))\n",
    "        # save last training status for viewing\n",
    "        if e == n_epochs-1:\n",
    "            samps = test_samples(d_model_real, g_model, inputs_real, inputs_z, sess, data, gen, data_range, M)"
   ]
  },
  {
   "cell_type": "markdown",
   "metadata": {},
   "source": [
    "# Losses"
   ]
  },
  {
   "cell_type": "code",
   "execution_count": 22,
   "metadata": {},
   "outputs": [
    {
     "data": {
      "text/plain": [
       "<matplotlib.legend.Legend at 0x26bf083beb8>"
      ]
     },
     "execution_count": 22,
     "metadata": {},
     "output_type": "execute_result"
    },
    {
     "data": {
      "image/png": "[encoded data removed]",
      "text/plain": [
       "<matplotlib.figure.Figure at 0x26bf0645198>"
      ]
     },
     "metadata": {},
     "output_type": "display_data"
    }
   ],
   "source": [
    "fig, ax = plt.subplots()\n",
    "losses = np.array(losses)\n",
    "plt.plot(losses.T[0], label='Discriminator')\n",
    "plt.plot(losses.T[1], label='Generator')\n",
    "plt.title(\"Training Losses\")\n",
    "plt.legend()"
   ]
  },
  {
   "cell_type": "markdown",
   "metadata": {},
   "source": [
    "# Last generated results"
   ]
  },
  {
   "cell_type": "code",
   "execution_count": 23,
   "metadata": {},
   "outputs": [
    {
     "data": {
      "image/png": "[encoded data removed]",
      "text/plain": [
       "<matplotlib.figure.Figure at 0x26bf07fac50>"
      ]
     },
     "metadata": {},
     "output_type": "display_data"
    }
   ],
   "source": [
    "plot_distributions(samps, data_range)"
   ]
  }
 ],
 "metadata": {
  "kernelspec": {
   "display_name": "Python 3",
   "language": "python",
   "name": "python3"
  },
  "language_info": {
   "codemirror_mode": {
    "name": "ipython",
    "version": 3
   },
   "file_extension": ".py",
   "mimetype": "text/x-python",
   "name": "python",
   "nbconvert_exporter": "python",
   "pygments_lexer": "ipython3",
   "version": "3.5.3"
  }
 },
 "nbformat": 4,
 "nbformat_minor": 2
}
