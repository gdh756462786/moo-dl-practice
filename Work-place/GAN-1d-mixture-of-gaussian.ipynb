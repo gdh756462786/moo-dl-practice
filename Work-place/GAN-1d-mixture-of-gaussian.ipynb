{
 "cells": [
  {
   "cell_type": "code",
   "execution_count": 1,
   "metadata": {
    "collapsed": true
   },
   "outputs": [],
   "source": [
    "import numpy as np\n",
    "import tensorflow as tf\n",
    "import matplotlib.pyplot as plt\n",
    "from scipy.stats import norm\n",
    "#from sklearn.mixture import GaussianMixture\n",
    "%matplotlib inline"
   ]
  },
  {
   "cell_type": "code",
   "execution_count": 2,
   "metadata": {
    "collapsed": true
   },
   "outputs": [],
   "source": [
    "# parameters\n",
    "mu1, sigma1, mu2, sigma2 = -2, 1, 2, 1\n",
    "data_range = 5\n",
    "n_hidden = 32\n",
    "learning_rate = 0.03\n",
    "n_initial_trainig_epochs = 3000\n",
    "n_epochs = 20000\n",
    "M = 150 # batch size"
   ]
  },
  {
   "cell_type": "code",
   "execution_count": 3,
   "metadata": {},
   "outputs": [],
   "source": [
    "def create_mog_real(mu1, sigma1, mu2, sigma2, N):\n",
    "    xs = np.linspace(-5, 5, N)\n",
    "    xs1 = np.zeros([N//2], dtype=np.float32)\n",
    "    xs2 = np.zeros([N//2], dtype=np.float32)\n",
    "    index = 0\n",
    "    for i, x in enumerate(xs):\n",
    "        if i % 2 == 0:\n",
    "            xs1[index] = x\n",
    "        else:\n",
    "            xs2[index] = x\n",
    "            index += 1\n",
    "    \n",
    "    ys1 = norm.pdf(xs1, loc=mu1, scale=sigma1)\n",
    "    ys2 = norm.pdf(xs2, loc=mu2, scale=sigma2)\n",
    "    ys = np.concatenate( (ys1, ys2) )\n",
    "    return xs, ys"
   ]
  },
  {
   "cell_type": "code",
   "execution_count": null,
   "metadata": {
    "collapsed": true
   },
   "outputs": [],
   "source": [
    "xs, ys = create_mog_real(mu1, sigma1, mu2, sigma2, 2000)\n",
    "f, ax = plt.subplots(1)\n",
    "ax.plot(xs, ys, label='p_data')"
   ]
  },
  {
   "cell_type": "code",
   "execution_count": 4,
   "metadata": {
    "collapsed": true
   },
   "outputs": [],
   "source": [
    "def create_mog(mu1, sigma1, mu2, sigma2, N):\n",
    "    # draw two gaussian data\n",
    "    half_N = N // 2\n",
    "    samples1 = np.random.normal(mu1, sigma1, half_N)\n",
    "    samples2 = np.random.normal(mu2, sigma2, half_N)\n",
    "    samples = np.concatenate((samples1, samples2))\n",
    "    samples.sort()\n",
    "    \n",
    "    # compute histogram\n",
    "    n_bins = N // 10\n",
    "    histc, edges = np.histogram(samples, bins=n_bins, density=True)\n",
    "    \n",
    "    # Estimated pdf is used as labels after normalization\n",
    "    max_histc = np.max(histc)\n",
    "    min_histc = np.min(histc)\n",
    "    y = (histc - min_histc) / (max_histc - min_histc)\n",
    "    x = edges[1:]\n",
    "    \n",
    "    return x, y"
   ]
  },
  {
   "cell_type": "code",
   "execution_count": 5,
   "metadata": {
    "collapsed": true
   },
   "outputs": [],
   "source": [
    "class DataDistribution(object):\n",
    "    def __init__(self, mu1, sigma1, mu2, sigma2):\n",
    "        self.mu1 = mu1\n",
    "        self.sigma1 = sigma1\n",
    "        self.mu2 = mu2\n",
    "        self.sigma2 = sigma2\n",
    "\n",
    "    def sample(self, N):\n",
    "        half_N = N // 2\n",
    "        samples1 = np.random.normal(self.mu1, self.sigma1, half_N)\n",
    "        samples2 = np.random.normal(self.mu2, self.sigma2, half_N)\n",
    "        samples = np.concatenate((samples1, samples2))\n",
    "        samples.sort()\n",
    "        return samples"
   ]
  },
  {
   "cell_type": "code",
   "execution_count": 6,
   "metadata": {
    "collapsed": true
   },
   "outputs": [],
   "source": [
    "class GeneratorDistribution(object):\n",
    "    def __init__(self, range):\n",
    "        self.range = range\n",
    "\n",
    "    def sample(self, N):\n",
    "        return np.linspace(-self.range, self.range, N) + np.random.random(N) * 0.01"
   ]
  },
  {
   "cell_type": "code",
   "execution_count": 7,
   "metadata": {
    "collapsed": true
   },
   "outputs": [],
   "source": [
    "# G(z)\n",
    "def generator(x, n_hidden=32):\n",
    "\n",
    "    # initializers\n",
    "    w_init = tf.truncated_normal_initializer(stddev=2)\n",
    "    b_init = tf.constant_initializer(0.)\n",
    "\n",
    "    # 1st hidden layer\n",
    "    w0 = tf.get_variable('w0', [x.get_shape()[1], n_hidden], initializer=w_init)\n",
    "    b0 = tf.get_variable('b0', [n_hidden], initializer=b_init)\n",
    "    h0 = tf.nn.relu(tf.matmul(x, w0) + b0)\n",
    "\n",
    "    # output layer\n",
    "    w1 = tf.get_variable('w1', [h0.get_shape()[1], 1], initializer=w_init)\n",
    "    b1 = tf.get_variable('b1', [1], initializer=b_init)\n",
    "    o = tf.matmul(h0, w1) + b1\n",
    "\n",
    "    return o"
   ]
  },
  {
   "cell_type": "code",
   "execution_count": 8,
   "metadata": {
    "collapsed": true
   },
   "outputs": [],
   "source": [
    "# D(x)\n",
    "def discriminator(x, n_hidden=32):\n",
    "\n",
    "    # initializers\n",
    "    w_init = tf.contrib.layers.variance_scaling_initializer()\n",
    "    b_init = tf.constant_initializer(0.)\n",
    "\n",
    "    # 1st hidden layer\n",
    "    w0 = tf.get_variable('w0', [x.get_shape()[1], n_hidden], initializer=w_init)\n",
    "    b0 = tf.get_variable('b0', [n_hidden], initializer=b_init)\n",
    "    h0 = tf.nn.relu(tf.matmul(x, w0) + b0)\n",
    "\n",
    "    # output layer\n",
    "    w1 = tf.get_variable('w1', [h0.get_shape()[1], 1], initializer=w_init)\n",
    "    b1 = tf.get_variable('b1', [1], initializer=b_init)\n",
    "    o = tf.sigmoid(tf.matmul(h0, w1) + b1)\n",
    "\n",
    "    return o"
   ]
  },
  {
   "cell_type": "code",
   "execution_count": 9,
   "metadata": {
    "collapsed": true
   },
   "outputs": [],
   "source": [
    "# re-used for optimizing all networks\n",
    "def optimizer(loss, var_list, num_decay_steps=400, initial_learning_rate=0.03):\n",
    "    decay = 0.95\n",
    "    batch = tf.Variable(0)\n",
    "    learning_rate = tf.train.exponential_decay(\n",
    "        initial_learning_rate,\n",
    "        batch,\n",
    "        num_decay_steps,\n",
    "        decay,\n",
    "        staircase=True\n",
    "    )\n",
    "    optimizer = tf.train.GradientDescentOptimizer(learning_rate).minimize(\n",
    "        loss,\n",
    "        global_step=batch,\n",
    "        var_list=var_list\n",
    "    )\n",
    "    return optimizer"
   ]
  },
  {
   "cell_type": "code",
   "execution_count": 10,
   "metadata": {
    "collapsed": true
   },
   "outputs": [],
   "source": [
    "def plot_fig(D, x, G=None, z=None):\n",
    "    # plots pg, pdata, decision boundary \n",
    "    f, ax = plt.subplots(1)\n",
    "    # p_data\n",
    "    xs, ys = create_mog_real(mu1, sigma1, mu2, sigma2, 2000)\n",
    "    ax.plot(xs, ys, label='p_data')\n",
    "\n",
    "    # decision boundary\n",
    "    r = 5000 # resolution (number of points)\n",
    "    xs = np.linspace(-5, 5, r)\n",
    "    ds = np.zeros([r, 1]) # decision surface\n",
    "    # process multiple points in parallel in same minibatch\n",
    "    for i in range(r//M):\n",
    "        x_ = np.reshape(xs[M*i:M*(i+1)], [M,1])\n",
    "        ds[M*i:M*(i+1)] = sess.run(D, {x: x_})\n",
    "    ax.plot(xs, ds, label='decision boundary')\n",
    "    \n",
    "    # distribution of inverse-mapped points\n",
    "    if G is not None:\n",
    "        zs = np.linspace(-5, 5, r)\n",
    "        gs = np.zeros([r, 1]) # generator function\n",
    "        for i in range(r//M):\n",
    "            z_ = np.reshape(zs[M*i:M*(i+1)], [M,1])\n",
    "            gs[M*i:M*(i+1)] = sess.run(G, {z: z_})\n",
    "        histc, edges = np.histogram(gs, bins = 10)\n",
    "        ax.plot(np.linspace(-5, 5, 10), histc/float(r), label='p_g')\n",
    "\n",
    "    # ylim, legend\n",
    "    ax.set_ylim(0,1.1)\n",
    "    plt.legend()"
   ]
  },
  {
   "cell_type": "markdown",
   "metadata": {},
   "source": [
    "# Pre-training session"
   ]
  },
  {
   "cell_type": "code",
   "execution_count": 11,
   "metadata": {},
   "outputs": [
    {
     "data": {
      "text/plain": [
       "[<matplotlib.lines.Line2D at 0x1c47fde3e10>]"
      ]
     },
     "execution_count": 11,
     "metadata": {},
     "output_type": "execute_result"
    },
    {
     "data": {
      "image/png": "[encoded data removed]",
      "text/plain": [
       "<matplotlib.figure.Figure at 0x1c47fde3a58>"
      ]
     },
     "metadata": {},
     "output_type": "display_data"
    }
   ],
   "source": [
    "xs, ys = create_mog_real(mu1, sigma1, mu2, sigma2, 2000)\n",
    "f, ax = plt.subplots(1)\n",
    "ax.plot(xs, ys, label='p_data')"
   ]
  },
  {
   "cell_type": "code",
   "execution_count": 12,
   "metadata": {
    "collapsed": true
   },
   "outputs": [],
   "source": [
    "data = DataDistribution(mu1, sigma1, mu2, sigma2)\n",
    "gen = GeneratorDistribution(data_range)"
   ]
  },
  {
   "cell_type": "code",
   "execution_count": 13,
   "metadata": {
    "collapsed": true
   },
   "outputs": [],
   "source": [
    "with tf.variable_scope('P'):\n",
    "    input_node = tf.placeholder(tf.float32, shape=[None, 1], name='inputs')\n",
    "    train_labels = tf.placeholder(tf.float32, shape=[None, 1], name='targets')\n",
    "    P = discriminator(input_node, n_hidden)\n",
    "    P_loss = tf.reduce_mean(tf.square(P - train_labels))\n",
    "\n",
    "P_params = tf.get_collection(tf.GraphKeys.TRAINABLE_VARIABLES, scope='P')\n",
    "P_optimizer = optimizer(P_loss, P_params, num_decay_steps=400, initial_learning_rate=learning_rate)"
   ]
  },
  {
   "cell_type": "code",
   "execution_count": 14,
   "metadata": {
    "collapsed": true
   },
   "outputs": [],
   "source": [
    "# open session and initialize all variables\n",
    "sess = tf.InteractiveSession()\n",
    "tf.global_variables_initializer().run()"
   ]
  },
  {
   "cell_type": "code",
   "execution_count": 15,
   "metadata": {},
   "outputs": [
    {
     "data": {
      "text/plain": [
       "<matplotlib.text.Text at 0x1c414332668>"
      ]
     },
     "execution_count": 15,
     "metadata": {},
     "output_type": "execute_result"
    },
    {
     "data": {
      "image/png": "[encoded data removed]",
      "text/plain": [
       "<matplotlib.figure.Figure at 0x1c47fe11e10>"
      ]
     },
     "metadata": {},
     "output_type": "display_data"
    }
   ],
   "source": [
    "plot_fig(P, input_node)\n",
    "plt.title('Initial Decision Boundary')"
   ]
  },
  {
   "cell_type": "code",
   "execution_count": 16,
   "metadata": {
    "collapsed": true
   },
   "outputs": [],
   "source": [
    "lh = np.zeros(n_initial_trainig_epochs)\n",
    "for i in range(n_initial_trainig_epochs):\n",
    "    N = 1000\n",
    "    d = data.sample(N)\n",
    "    n_bins = 100\n",
    "    histc, edges = np.histogram(d, bins=n_bins, density=True)\n",
    "\n",
    "    # Estimated pdf is used as labels after normalization\n",
    "    max_histc = np.max(histc)\n",
    "    min_histc = np.min(histc)\n",
    "    labels = (histc - min_histc) / (max_histc - min_histc)\n",
    "    d = edges[1:]\n",
    "    \n",
    "    x_ = np.reshape(d, [n_bins, 1])\n",
    "    y_ = np.reshape(labels, [n_bins, 1])\n",
    "    lh[i], _ = sess.run([P_loss, P_optimizer], {input_node: x_, train_labels: y_})"
   ]
  },
  {
   "cell_type": "code",
   "execution_count": 17,
   "metadata": {
    "scrolled": true
   },
   "outputs": [
    {
     "data": {
      "text/plain": [
       "<matplotlib.text.Text at 0x1c41773e080>"
      ]
     },
     "execution_count": 17,
     "metadata": {},
     "output_type": "execute_result"
    },
    {
     "data": {
      "image/png": "[encoded data removed]",
      "text/plain": [
       "<matplotlib.figure.Figure at 0x1c417716a90>"
      ]
     },
     "metadata": {},
     "output_type": "display_data"
    }
   ],
   "source": [
    "# training loss\n",
    "plt.plot(lh)\n",
    "plt.title('Training Loss')"
   ]
  },
  {
   "cell_type": "code",
   "execution_count": 18,
   "metadata": {},
   "outputs": [
    {
     "data": {
      "image/png": "[encoded data removed]",
      "text/plain": [
       "<matplotlib.figure.Figure at 0x1c418a89f60>"
      ]
     },
     "metadata": {},
     "output_type": "display_data"
    }
   ],
   "source": [
    "plot_fig(P, input_node)"
   ]
  },
  {
   "cell_type": "code",
   "execution_count": 19,
   "metadata": {
    "collapsed": true
   },
   "outputs": [],
   "source": [
    "# copy the learned weights over into a tmp array\n",
    "P_params = tf.get_collection(tf.GraphKeys.TRAINABLE_VARIABLES, scope='P')\n",
    "weights_P = sess.run(P_params)"
   ]
  },
  {
   "cell_type": "code",
   "execution_count": 20,
   "metadata": {
    "collapsed": true
   },
   "outputs": [],
   "source": [
    "sess.close()"
   ]
  },
  {
   "cell_type": "markdown",
   "metadata": {},
   "source": [
    "# Build Net"
   ]
  },
  {
   "cell_type": "code",
   "execution_count": 21,
   "metadata": {
    "collapsed": true
   },
   "outputs": [],
   "source": [
    "with tf.variable_scope('G'):\n",
    "    z = tf.placeholder(tf.float32, shape=[None, 1], name='inputs')\n",
    "    G = generator(z, n_hidden)\n",
    "    #G = tf.multiply(5.0, G) # scale up by 5 to match range"
   ]
  },
  {
   "cell_type": "code",
   "execution_count": 22,
   "metadata": {
    "collapsed": true
   },
   "outputs": [],
   "source": [
    "with tf.variable_scope('D') as scope:\n",
    "    x = tf.placeholder(tf.float32, shape=[None, 1], name='inputs')\n",
    "    D_real = discriminator(x, n_hidden)\n",
    "    # clamp as a probability\n",
    "    D_real = tf.maximum(tf.minimum(D_real, 0.99), 0.01)\n",
    "    \n",
    "    scope.reuse_variables()\n",
    "    D_fake = discriminator(G, n_hidden)\n",
    "    # clamp as a probability\n",
    "    D_fake = tf.maximum(tf.minimum(D_fake, 0.99), 0.01)"
   ]
  },
  {
   "cell_type": "code",
   "execution_count": 23,
   "metadata": {
    "collapsed": true
   },
   "outputs": [],
   "source": [
    "# loss for each network\n",
    "D_loss = tf.reduce_mean(-tf.log(D_real) - tf.log(1 - D_fake))\n",
    "G_loss = tf.reduce_mean(-tf.log(D_fake))\n",
    "#D_loss = tf.reduce_mean(tf.log(D_real) + tf.log(1 - D_fake))\n",
    "#G_loss = tf.reduce_mean(tf.log(D_fake))"
   ]
  },
  {
   "cell_type": "code",
   "execution_count": 24,
   "metadata": {
    "collapsed": true
   },
   "outputs": [],
   "source": [
    "# trainable variables for each network\n",
    "D_params = tf.get_collection(tf.GraphKeys.TRAINABLE_VARIABLES, scope='D')\n",
    "G_params = tf.get_collection(tf.GraphKeys.TRAINABLE_VARIABLES, scope='G')"
   ]
  },
  {
   "cell_type": "code",
   "execution_count": 25,
   "metadata": {
    "collapsed": true
   },
   "outputs": [],
   "source": [
    "# optimizer for each network\n",
    "D_optimizer = optimizer(D_loss, D_params, num_decay_steps=400, initial_learning_rate=learning_rate)\n",
    "G_optimizer = optimizer(G_loss, G_params, num_decay_steps=400, initial_learning_rate=learning_rate)\n",
    "#D_optimizer = optimizer(1-D_loss, D_params, learning_rate)\n",
    "#G_optimizer = optimizer(1-G_loss, G_params, learning_rate)"
   ]
  },
  {
   "cell_type": "code",
   "execution_count": 26,
   "metadata": {
    "collapsed": true
   },
   "outputs": [],
   "source": [
    "sess = tf.InteractiveSession()\n",
    "tf.global_variables_initializer().run()"
   ]
  },
  {
   "cell_type": "code",
   "execution_count": 27,
   "metadata": {
    "collapsed": true
   },
   "outputs": [],
   "source": [
    "# copy weights from pre-training over to new D network\n",
    "for i, v in enumerate(D_params):\n",
    "    sess.run(v.assign(weights_P[i]))"
   ]
  },
  {
   "cell_type": "code",
   "execution_count": 28,
   "metadata": {},
   "outputs": [
    {
     "data": {
      "text/plain": [
       "<matplotlib.text.Text at 0x1c4255bbe10>"
      ]
     },
     "execution_count": 28,
     "metadata": {},
     "output_type": "execute_result"
    },
    {
     "data": {
      "image/png": "[encoded data removed]",
      "text/plain": [
       "<matplotlib.figure.Figure at 0x1c42555d710>"
      ]
     },
     "metadata": {},
     "output_type": "display_data"
    }
   ],
   "source": [
    "# initial conditions\n",
    "plot_fig(D_real, x, G, z)\n",
    "plt.title('Before Training')"
   ]
  },
  {
   "cell_type": "code",
   "execution_count": 29,
   "metadata": {},
   "outputs": [
    {
     "name": "stdout",
     "output_type": "stream",
     "text": [
      "0.0\n",
      "0.1\n",
      "0.2\n",
      "0.3\n",
      "0.4\n",
      "0.5\n",
      "0.6\n",
      "0.7\n",
      "0.8\n",
      "0.9\n"
     ]
    }
   ],
   "source": [
    "# test2\n",
    "\n",
    "print_step = n_epochs // 10\n",
    "histd, histg = np.zeros(n_epochs), np.zeros(n_epochs)\n",
    "for i in range(n_epochs):\n",
    "    # 1. train D\n",
    "    x_ = data.sample(M) # sampled m-batch from p_data\n",
    "    x_ = np.reshape(x_, [M, 1])\n",
    "    z_ = gen.sample(M)  # sample m-batch from noise prior\n",
    "    z_ = np.reshape(z_, [M, 1])\n",
    "    histd[i], _ = sess.run([D_loss, D_optimizer], {x: x_, z: z_})\n",
    "    \n",
    "    # 2. train G\n",
    "    z_ = gen.sample(M)  # sample m-batch from noise prior\n",
    "    z_ = np.reshape(z_, [M, 1])\n",
    "    histg[i], _ = sess.run([G_loss, G_optimizer], {z: z_}) # update generator\n",
    "    if i % print_step == 0:\n",
    "        print(float(i)/float(n_epochs))"
   ]
  },
  {
   "cell_type": "code",
   "execution_count": 30,
   "metadata": {},
   "outputs": [
    {
     "data": {
      "text/plain": [
       "<matplotlib.legend.Legend at 0x1c42564cac8>"
      ]
     },
     "execution_count": 30,
     "metadata": {},
     "output_type": "execute_result"
    },
    {
     "data": {
      "image/png": "[encoded data removed]",
      "text/plain": [
       "<matplotlib.figure.Figure at 0x1c41771d6a0>"
      ]
     },
     "metadata": {},
     "output_type": "display_data"
    }
   ],
   "source": [
    "plt.plot(range(n_epochs), histd, label='obj_d')\n",
    "plt.plot(range(n_epochs), 1-histg, label='obj_g')\n",
    "plt.legend()"
   ]
  },
  {
   "cell_type": "code",
   "execution_count": 31,
   "metadata": {},
   "outputs": [
    {
     "data": {
      "image/png": "[encoded data removed]",
      "text/plain": [
       "<matplotlib.figure.Figure at 0x1c4255fdb38>"
      ]
     },
     "metadata": {},
     "output_type": "display_data"
    }
   ],
   "source": [
    "plot_fig(D_real, x, G, z)"
   ]
  },
  {
   "cell_type": "code",
   "execution_count": 32,
   "metadata": {
    "collapsed": true
   },
   "outputs": [],
   "source": [
    "sess.close()"
   ]
  }
 ],
 "metadata": {
  "kernelspec": {
   "display_name": "Python 3",
   "language": "python",
   "name": "python3"
  },
  "language_info": {
   "codemirror_mode": {
    "name": "ipython",
    "version": 3
   },
   "file_extension": ".py",
   "mimetype": "text/x-python",
   "name": "python",
   "nbconvert_exporter": "python",
   "pygments_lexer": "ipython3",
   "version": "3.5.3"
  }
 },
 "nbformat": 4,
 "nbformat_minor": 2
}
