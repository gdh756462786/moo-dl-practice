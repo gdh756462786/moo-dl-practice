{
 "cells": [
  {
   "cell_type": "code",
   "execution_count": 1,
   "metadata": {
    "collapsed": true
   },
   "outputs": [],
   "source": [
    "import numpy as np\n",
    "import tensorflow as tf\n",
    "import matplotlib.pyplot as plt\n",
    "import pickle as pkl\n",
    "%matplotlib inline"
   ]
  },
  {
   "cell_type": "code",
   "execution_count": 2,
   "metadata": {},
   "outputs": [
    {
     "name": "stdout",
     "output_type": "stream",
     "text": [
      "Extracting ../Data_sets/MNIST_data\\train-images-idx3-ubyte.gz\n",
      "Extracting ../Data_sets/MNIST_data\\train-labels-idx1-ubyte.gz\n",
      "Extracting ../Data_sets/MNIST_data\\t10k-images-idx3-ubyte.gz\n",
      "Extracting ../Data_sets/MNIST_data\\t10k-labels-idx1-ubyte.gz\n"
     ]
    }
   ],
   "source": [
    "# get data sets\n",
    "from tensorflow.examples.tutorials.mnist import input_data\n",
    "mnist = input_data.read_data_sets('../Data_sets/MNIST_data')"
   ]
  },
  {
   "cell_type": "code",
   "execution_count": 3,
   "metadata": {
    "collapsed": true
   },
   "outputs": [],
   "source": [
    "# our place holders\n",
    "def model_inputs(real_dim, z_dim):\n",
    "    inputs_real = tf.placeholder(tf.float32, [None, real_dim], name='inputs_real')\n",
    "    inputs_z = tf.placeholder(tf.float32, [None, z_dim], name='inputs_z')\n",
    "    \n",
    "    return inputs_real, inputs_z"
   ]
  },
  {
   "cell_type": "code",
   "execution_count": 4,
   "metadata": {
    "collapsed": true
   },
   "outputs": [],
   "source": [
    "# gennrator network structure\n",
    "def generator(z, out_dim, n_units=128, reuse=False,  alpha=0.01):\n",
    "    with tf.variable_scope('generator', reuse=reuse):\n",
    "        h1 = tf.layers.dense(z, n_units, activation=None)\n",
    "        h1 = tf.maximum(alpha * h1, h1) # Leaky ReLU\n",
    "        \n",
    "        h2 = tf.layers.dense(h1, n_units//4, activation=None)\n",
    "        h2 = tf.maximum(alpha * h2, h2)\n",
    "        \n",
    "        # Logits and tanh(-1~1) output\n",
    "        logits = tf.layers.dense(h2, out_dim, activation=None)\n",
    "        out = tf.tanh(logits)\n",
    "        \n",
    "        return out"
   ]
  },
  {
   "cell_type": "code",
   "execution_count": 5,
   "metadata": {
    "collapsed": true
   },
   "outputs": [],
   "source": [
    "def discriminator(x, n_units=128, reuse=False, alpha=0.01):\n",
    "    with tf.variable_scope('discriminator', reuse=reuse):\n",
    "        h1 = tf.layers.dense(x, n_units, activation=None)\n",
    "        h1 = tf.maximum(alpha * h1, h1) # Leaky ReLU\n",
    "        \n",
    "        # Logits and sigmoid(0~1) output\n",
    "        logits = tf.layers.dense(h1, 1, activation=None)\n",
    "        out = tf.sigmoid(logits)\n",
    "        \n",
    "        return out, logits"
   ]
  },
  {
   "cell_type": "code",
   "execution_count": 6,
   "metadata": {
    "collapsed": true
   },
   "outputs": [],
   "source": [
    "# Size of input image to discriminator\n",
    "input_size = 28 * 28 # 28x28 MNIST images flattened\n",
    "# Size of latent vector to generator\n",
    "z_size = 100\n",
    "# Sizes of hidden layers in generator and discriminator\n",
    "g_hidden_size = 128\n",
    "d_hidden_size = 128\n",
    "# learning rate\n",
    "learning_rate = 0.002\n",
    "# Leak factor for leaky ReLU\n",
    "alpha = 0.01\n",
    "# Label smoothing \n",
    "smooth = 0.1"
   ]
  },
  {
   "cell_type": "markdown",
   "metadata": {},
   "source": [
    "# Build Network"
   ]
  },
  {
   "cell_type": "code",
   "execution_count": 7,
   "metadata": {
    "collapsed": true
   },
   "outputs": [],
   "source": [
    "# wipe out previous graphs and make us to start building new graph from here\n",
    "tf.reset_default_graph()\n",
    "\n",
    "# Create our input placeholders\n",
    "inputs_real, inputs_z = model_inputs(real_dim=input_size, z_dim=z_size)\n",
    "\n",
    "# Generator network here(g_model is the generator output)\n",
    "g_model = generator(z=inputs_z, out_dim=input_size, n_units=g_hidden_size, reuse=False, alpha=alpha)\n",
    "\n",
    "# Disriminator network here\n",
    "d_model_real, d_logits_real = discriminator(x=inputs_real, n_units=d_hidden_size, reuse=False, alpha=alpha)\n",
    "d_model_fake, d_logits_fake = discriminator(x=g_model, n_units=d_hidden_size, reuse=True, alpha=alpha)"
   ]
  },
  {
   "cell_type": "code",
   "execution_count": 8,
   "metadata": {
    "collapsed": true
   },
   "outputs": [],
   "source": [
    "# Calculate losses\n",
    "real_labels = tf.ones_like(d_logits_real) * (1 - smooth) # label smoothing\n",
    "d_loss_real = tf.reduce_mean( tf.nn.sigmoid_cross_entropy_with_logits(logits=d_logits_real, labels=real_labels) )\n",
    "\n",
    "fake_labels = tf.zeros_like(d_logits_real)\n",
    "d_loss_fake = tf.reduce_mean( tf.nn.sigmoid_cross_entropy_with_logits(logits=d_logits_fake, labels=fake_labels) )\n",
    "\n",
    "d_loss = d_loss_real + d_loss_fake\n",
    "\n",
    "gen_labels = tf.ones_like(d_logits_fake)\n",
    "g_loss = tf.reduce_mean( tf.nn.sigmoid_cross_entropy_with_logits(logits=d_logits_fake, labels=gen_labels) )"
   ]
  },
  {
   "cell_type": "code",
   "execution_count": 9,
   "metadata": {
    "collapsed": true
   },
   "outputs": [],
   "source": [
    "# Optimizers\n",
    "# Get the trainable_variables, split into G and D parts\n",
    "t_vars = tf.trainable_variables()\n",
    "g_vars = [var for var in t_vars if var.name.startswith('generator')]\n",
    "d_vars = [var for var in t_vars if var.name.startswith('discriminator')]\n",
    "\n",
    "d_train_opt = tf.train.AdamOptimizer(learning_rate=learning_rate).minimize(d_loss, var_list=d_vars)\n",
    "g_train_opt = tf.train.AdamOptimizer(learning_rate=learning_rate).minimize(g_loss, var_list=g_vars)"
   ]
  },
  {
   "cell_type": "markdown",
   "metadata": {},
   "source": [
    "# Training session"
   ]
  },
  {
   "cell_type": "code",
   "execution_count": 10,
   "metadata": {
    "scrolled": true
   },
   "outputs": [
    {
     "name": "stdout",
     "output_type": "stream",
     "text": [
      "Epoch 1/100... Discriminator Loss: 0.5728... Generator Loss: 2.0731\n",
      "Epoch 2/100... Discriminator Loss: 0.3833... Generator Loss: 6.2359\n",
      "Epoch 3/100... Discriminator Loss: 0.6095... Generator Loss: 4.9883\n",
      "Epoch 4/100... Discriminator Loss: 0.5153... Generator Loss: 5.5644\n",
      "Epoch 5/100... Discriminator Loss: 1.1707... Generator Loss: 10.8453\n",
      "Epoch 6/100... Discriminator Loss: 0.7436... Generator Loss: 3.2611\n",
      "Epoch 7/100... Discriminator Loss: 1.2769... Generator Loss: 1.6923\n",
      "Epoch 8/100... Discriminator Loss: 1.8629... Generator Loss: 5.6799\n",
      "Epoch 9/100... Discriminator Loss: 2.2138... Generator Loss: 2.0805\n",
      "Epoch 10/100... Discriminator Loss: 1.3768... Generator Loss: 1.3068\n",
      "Epoch 11/100... Discriminator Loss: 1.1402... Generator Loss: 1.0905\n",
      "Epoch 12/100... Discriminator Loss: 3.5880... Generator Loss: 1.1359\n",
      "Epoch 13/100... Discriminator Loss: 1.4147... Generator Loss: 0.8899\n",
      "Epoch 14/100... Discriminator Loss: 0.7331... Generator Loss: 1.4931\n",
      "Epoch 15/100... Discriminator Loss: 1.2866... Generator Loss: 1.0842\n",
      "Epoch 16/100... Discriminator Loss: 1.4386... Generator Loss: 0.8293\n",
      "Epoch 17/100... Discriminator Loss: 0.6692... Generator Loss: 2.0963\n",
      "Epoch 18/100... Discriminator Loss: 0.9098... Generator Loss: 1.6095\n",
      "Epoch 19/100... Discriminator Loss: 1.1855... Generator Loss: 1.7761\n",
      "Epoch 20/100... Discriminator Loss: 0.7239... Generator Loss: 1.9822\n",
      "Epoch 21/100... Discriminator Loss: 0.8681... Generator Loss: 1.7309\n",
      "Epoch 22/100... Discriminator Loss: 1.0213... Generator Loss: 2.4333\n",
      "Epoch 23/100... Discriminator Loss: 0.7091... Generator Loss: 2.1930\n",
      "Epoch 24/100... Discriminator Loss: 0.7474... Generator Loss: 2.5780\n",
      "Epoch 25/100... Discriminator Loss: 0.7711... Generator Loss: 2.1412\n",
      "Epoch 26/100... Discriminator Loss: 0.9248... Generator Loss: 1.7914\n",
      "Epoch 27/100... Discriminator Loss: 0.8457... Generator Loss: 2.6725\n",
      "Epoch 28/100... Discriminator Loss: 0.6785... Generator Loss: 3.2486\n",
      "Epoch 29/100... Discriminator Loss: 0.6629... Generator Loss: 2.6421\n",
      "Epoch 30/100... Discriminator Loss: 0.5695... Generator Loss: 3.0430\n",
      "Epoch 31/100... Discriminator Loss: 0.5944... Generator Loss: 2.3800\n",
      "Epoch 32/100... Discriminator Loss: 0.6909... Generator Loss: 2.1666\n",
      "Epoch 33/100... Discriminator Loss: 0.5702... Generator Loss: 2.8233\n",
      "Epoch 34/100... Discriminator Loss: 0.5863... Generator Loss: 2.4430\n",
      "Epoch 35/100... Discriminator Loss: 0.5564... Generator Loss: 3.1227\n",
      "Epoch 36/100... Discriminator Loss: 0.4822... Generator Loss: 3.9930\n",
      "Epoch 37/100... Discriminator Loss: 0.5293... Generator Loss: 3.0070\n",
      "Epoch 38/100... Discriminator Loss: 0.8118... Generator Loss: 2.2860\n",
      "Epoch 39/100... Discriminator Loss: 0.6135... Generator Loss: 3.0951\n",
      "Epoch 40/100... Discriminator Loss: 0.5913... Generator Loss: 2.5481\n",
      "Epoch 41/100... Discriminator Loss: 0.7831... Generator Loss: 1.9635\n",
      "Epoch 42/100... Discriminator Loss: 0.7622... Generator Loss: 2.6007\n",
      "Epoch 43/100... Discriminator Loss: 0.7182... Generator Loss: 2.4372\n",
      "Epoch 44/100... Discriminator Loss: 0.7695... Generator Loss: 2.7552\n",
      "Epoch 45/100... Discriminator Loss: 0.7938... Generator Loss: 2.0490\n",
      "Epoch 46/100... Discriminator Loss: 0.6887... Generator Loss: 2.4231\n",
      "Epoch 47/100... Discriminator Loss: 0.8552... Generator Loss: 2.9941\n",
      "Epoch 48/100... Discriminator Loss: 0.9336... Generator Loss: 2.2394\n",
      "Epoch 49/100... Discriminator Loss: 0.7528... Generator Loss: 1.9745\n",
      "Epoch 50/100... Discriminator Loss: 0.8284... Generator Loss: 2.5158\n",
      "Epoch 51/100... Discriminator Loss: 0.7086... Generator Loss: 2.5347\n",
      "Epoch 52/100... Discriminator Loss: 0.6987... Generator Loss: 2.5040\n",
      "Epoch 53/100... Discriminator Loss: 0.6378... Generator Loss: 2.7130\n",
      "Epoch 54/100... Discriminator Loss: 0.7573... Generator Loss: 2.1203\n",
      "Epoch 55/100... Discriminator Loss: 0.8159... Generator Loss: 2.0742\n",
      "Epoch 56/100... Discriminator Loss: 0.7678... Generator Loss: 2.0652\n",
      "Epoch 57/100... Discriminator Loss: 0.7424... Generator Loss: 2.1776\n",
      "Epoch 58/100... Discriminator Loss: 0.9336... Generator Loss: 2.3261\n",
      "Epoch 59/100... Discriminator Loss: 0.7311... Generator Loss: 2.2143\n",
      "Epoch 60/100... Discriminator Loss: 0.7643... Generator Loss: 2.1041\n",
      "Epoch 61/100... Discriminator Loss: 0.6565... Generator Loss: 2.9919\n",
      "Epoch 62/100... Discriminator Loss: 0.9581... Generator Loss: 1.9481\n",
      "Epoch 63/100... Discriminator Loss: 0.7032... Generator Loss: 2.8582\n",
      "Epoch 64/100... Discriminator Loss: 0.9027... Generator Loss: 2.7528\n",
      "Epoch 65/100... Discriminator Loss: 0.8354... Generator Loss: 2.3109\n",
      "Epoch 66/100... Discriminator Loss: 0.8843... Generator Loss: 1.9386\n",
      "Epoch 67/100... Discriminator Loss: 0.8093... Generator Loss: 2.5033\n",
      "Epoch 68/100... Discriminator Loss: 0.8309... Generator Loss: 2.1813\n",
      "Epoch 69/100... Discriminator Loss: 0.7916... Generator Loss: 2.6451\n",
      "Epoch 70/100... Discriminator Loss: 0.8069... Generator Loss: 2.4275\n",
      "Epoch 71/100... Discriminator Loss: 0.8973... Generator Loss: 2.5272\n",
      "Epoch 72/100... Discriminator Loss: 1.0227... Generator Loss: 1.4802\n",
      "Epoch 73/100... Discriminator Loss: 0.7700... Generator Loss: 2.4090\n",
      "Epoch 74/100... Discriminator Loss: 0.8441... Generator Loss: 1.9360\n",
      "Epoch 75/100... Discriminator Loss: 0.8211... Generator Loss: 2.3220\n",
      "Epoch 76/100... Discriminator Loss: 0.8281... Generator Loss: 2.0717\n",
      "Epoch 77/100... Discriminator Loss: 0.9687... Generator Loss: 2.6910\n",
      "Epoch 78/100... Discriminator Loss: 0.8124... Generator Loss: 2.2606\n",
      "Epoch 79/100... Discriminator Loss: 0.8979... Generator Loss: 2.2766\n",
      "Epoch 80/100... Discriminator Loss: 0.9230... Generator Loss: 1.9299\n",
      "Epoch 81/100... Discriminator Loss: 0.7774... Generator Loss: 2.5998\n",
      "Epoch 82/100... Discriminator Loss: 0.7649... Generator Loss: 2.1806\n",
      "Epoch 83/100... Discriminator Loss: 0.8082... Generator Loss: 1.9089\n",
      "Epoch 84/100... Discriminator Loss: 0.8719... Generator Loss: 1.8174\n",
      "Epoch 85/100... Discriminator Loss: 0.9281... Generator Loss: 1.4922\n",
      "Epoch 86/100... Discriminator Loss: 0.8598... Generator Loss: 2.7427\n",
      "Epoch 87/100... Discriminator Loss: 0.7757... Generator Loss: 2.3829\n",
      "Epoch 88/100... Discriminator Loss: 0.8548... Generator Loss: 2.1301\n",
      "Epoch 89/100... Discriminator Loss: 0.8707... Generator Loss: 2.2343\n",
      "Epoch 90/100... Discriminator Loss: 0.8465... Generator Loss: 2.1234\n",
      "Epoch 91/100... Discriminator Loss: 0.7948... Generator Loss: 2.6037\n",
      "Epoch 92/100... Discriminator Loss: 0.9760... Generator Loss: 1.8502\n",
      "Epoch 93/100... Discriminator Loss: 0.8655... Generator Loss: 2.3171\n",
      "Epoch 94/100... Discriminator Loss: 0.8022... Generator Loss: 2.1552\n",
      "Epoch 95/100... Discriminator Loss: 0.7602... Generator Loss: 2.4735\n",
      "Epoch 96/100... Discriminator Loss: 1.0161... Generator Loss: 2.1326\n",
      "Epoch 97/100... Discriminator Loss: 0.8158... Generator Loss: 3.0515\n",
      "Epoch 98/100... Discriminator Loss: 0.8048... Generator Loss: 2.3559\n",
      "Epoch 99/100... Discriminator Loss: 0.8986... Generator Loss: 2.2205\n",
      "Epoch 100/100... Discriminator Loss: 0.7746... Generator Loss: 2.3117\n"
     ]
    }
   ],
   "source": [
    "batch_size = 100\n",
    "epochs = 100\n",
    "samples = []\n",
    "losses = []\n",
    "with tf.Session() as sess:\n",
    "    sess.run(tf.global_variables_initializer())\n",
    "    for e in range(epochs):\n",
    "        for ii in range(mnist.train.num_examples//batch_size):\n",
    "            batch = mnist.train.next_batch(batch_size)\n",
    "            \n",
    "            # Get images, reshape and rescale to pass to D\n",
    "            batch_images = batch[0].reshape((batch_size, 784))\n",
    "            batch_images = batch_images*2 - 1\n",
    "            \n",
    "            # Sample random noise for G\n",
    "            batch_z = np.random.uniform(-1, 1, size=(batch_size, z_size))\n",
    "            \n",
    "            # Run optimizers\n",
    "            _ = sess.run(d_train_opt, feed_dict={inputs_real: batch_images, inputs_z: batch_z})\n",
    "            _ = sess.run(g_train_opt, feed_dict={inputs_z: batch_z})\n",
    "        \n",
    "        # At the end of each epoch, get the losses and print them out\n",
    "        train_loss_d = sess.run(d_loss, {inputs_real: batch_images, inputs_z: batch_z})\n",
    "        train_loss_g = g_loss.eval({inputs_z: batch_z})\n",
    "            \n",
    "        print(\"Epoch {}/{}...\".format(e+1, epochs),\n",
    "              \"Discriminator Loss: {:.4f}...\".format(train_loss_d),\n",
    "              \"Generator Loss: {:.4f}\".format(train_loss_g))    \n",
    "        # Save losses to view after training\n",
    "        losses.append((train_loss_d, train_loss_g))\n",
    "        \n",
    "        # Sample from generator as we're training for viewing afterwards\n",
    "        sample_z = np.random.uniform(-1, 1, size=(16, z_size))\n",
    "        gen_samples = sess.run(\n",
    "                       generator(inputs_z, input_size, n_units=g_hidden_size, reuse=True),\n",
    "                       feed_dict={inputs_z: sample_z})\n",
    "        samples.append(gen_samples)\n",
    "\n",
    "# Save training generator samples\n",
    "with open('train_samples.pkl', 'wb') as f:\n",
    "    pkl.dump(samples, f)"
   ]
  },
  {
   "cell_type": "markdown",
   "metadata": {},
   "source": [
    "# Training loss"
   ]
  },
  {
   "cell_type": "code",
   "execution_count": 11,
   "metadata": {},
   "outputs": [
    {
     "data": {
      "text/plain": [
       "<matplotlib.legend.Legend at 0x19c3aeddf60>"
      ]
     },
     "execution_count": 11,
     "metadata": {},
     "output_type": "execute_result"
    },
    {
     "data": {
      "image/png": "[encoded data removed]",
      "text/plain": [
       "<matplotlib.figure.Figure at 0x19c24e0b048>"
      ]
     },
     "metadata": {},
     "output_type": "display_data"
    }
   ],
   "source": [
    "fig, ax = plt.subplots()\n",
    "losses = np.array(losses)\n",
    "plt.plot(losses.T[0], label='Discriminator')\n",
    "plt.plot(losses.T[1], label='Generator')\n",
    "plt.title(\"Training Losses\")\n",
    "plt.legend()"
   ]
  },
  {
   "cell_type": "markdown",
   "metadata": {},
   "source": [
    "# Generator samples"
   ]
  },
  {
   "cell_type": "code",
   "execution_count": 12,
   "metadata": {
    "collapsed": true
   },
   "outputs": [],
   "source": [
    "def view_samples(epoch, samples):\n",
    "    fig, axes = plt.subplots(figsize=(7,7), nrows=4, ncols=4, sharey=True, sharex=True)\n",
    "    for ax, img in zip(axes.flatten(), samples[epoch]):\n",
    "        ax.xaxis.set_visible(False)\n",
    "        ax.yaxis.set_visible(False)\n",
    "        im = ax.imshow(img.reshape((28,28)), cmap='Greys_r')\n",
    "    \n",
    "    return fig, axes"
   ]
  },
  {
   "cell_type": "code",
   "execution_count": 13,
   "metadata": {
    "collapsed": true
   },
   "outputs": [],
   "source": [
    "# Load samples from generator taken while training\n",
    "with open('train_samples.pkl', 'rb') as f:\n",
    "    samples = pkl.load(f)"
   ]
  },
  {
   "cell_type": "code",
   "execution_count": 14,
   "metadata": {},
   "outputs": [
    {
     "data": {
      "image/png": "[encoded data removed]",
      "text/plain": [
       "<matplotlib.figure.Figure at 0x19c3af18ba8>"
      ]
     },
     "metadata": {},
     "output_type": "display_data"
    }
   ],
   "source": [
    "_ = view_samples(-1, samples)"
   ]
  },
  {
   "cell_type": "code",
   "execution_count": null,
   "metadata": {
    "collapsed": true
   },
   "outputs": [],
   "source": [
    "rows, cols = 10, 6\n",
    "fig, axes = plt.subplots(figsize=(7,12), nrows=rows, ncols=cols, sharex=True, sharey=True)\n",
    "\n",
    "for sample, ax_row in zip(samples[::int(len(samples)/rows)], axes):\n",
    "    for img, ax in zip(sample[::int(len(sample)/cols)], ax_row):\n",
    "        ax.imshow(img.reshape((28,28)), cmap='Greys_r')\n",
    "        ax.xaxis.set_visible(False)\n",
    "        ax.yaxis.set_visible(False)"
   ]
  }
 ],
 "metadata": {
  "kernelspec": {
   "display_name": "Python 3",
   "language": "python",
   "name": "python3"
  },
  "language_info": {
   "codemirror_mode": {
    "name": "ipython",
    "version": 3
   },
   "file_extension": ".py",
   "mimetype": "text/x-python",
   "name": "python",
   "nbconvert_exporter": "python",
   "pygments_lexer": "ipython3",
   "version": "3.5.3"
  }
 },
 "nbformat": 4,
 "nbformat_minor": 2
}
