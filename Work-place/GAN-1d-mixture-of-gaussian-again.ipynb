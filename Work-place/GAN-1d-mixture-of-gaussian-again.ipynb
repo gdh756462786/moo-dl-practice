{
 "cells": [
  {
   "cell_type": "code",
   "execution_count": 1,
   "metadata": {
    "collapsed": true
   },
   "outputs": [],
   "source": [
    "import numpy as np\n",
    "import tensorflow as tf\n",
    "import matplotlib.pyplot as plt\n",
    "from scipy.stats import norm\n",
    "#from sklearn.mixture import GaussianMixture\n",
    "%matplotlib inline"
   ]
  },
  {
   "cell_type": "markdown",
   "metadata": {},
   "source": [
    "# Data to feed"
   ]
  },
  {
   "cell_type": "code",
   "execution_count": 2,
   "metadata": {
    "collapsed": true
   },
   "outputs": [],
   "source": [
    "class DataDistribution(object):\n",
    "    def __init__(self, data_range, mu1, sigma1, mu2, sigma2):\n",
    "        self.data_range = data_range\n",
    "        self.mu1 = mu1\n",
    "        self.sigma1 = sigma1\n",
    "        self.mu2 = mu2\n",
    "        self.sigma2 = sigma2\n",
    "\n",
    "    def sample(self, N):\n",
    "        half_N = N // 2\n",
    "        samples1 = np.random.normal(self.mu1, self.sigma1, half_N)\n",
    "        samples2 = np.random.normal(self.mu2, self.sigma2, half_N)\n",
    "        samples = np.concatenate((samples1, samples2))\n",
    "        samples.sort()\n",
    "        samples = samples / self.data_range\n",
    "        return samples"
   ]
  },
  {
   "cell_type": "code",
   "execution_count": 3,
   "metadata": {
    "collapsed": true
   },
   "outputs": [],
   "source": [
    "class GeneratorDistribution(object):\n",
    "    def __init__(self, data_range):\n",
    "        self.data_range = data_range\n",
    "\n",
    "    def sample(self, N):\n",
    "        return np.linspace(-self.data_range, self.data_range, N) + np.random.random(N) * 0.01\n",
    "        # return np.random.uniform(-self.data_range, self.data_range, size=N)"
   ]
  },
  {
   "cell_type": "markdown",
   "metadata": {},
   "source": [
    "# Model"
   ]
  },
  {
   "cell_type": "code",
   "execution_count": 4,
   "metadata": {
    "collapsed": true
   },
   "outputs": [],
   "source": [
    "def model_inputs(real_dim, z_dim):\n",
    "    inputs_real = tf.placeholder(tf.float32, [None, real_dim], name='inputs_real')\n",
    "    inputs_z = tf.placeholder(tf.float32, [None, z_dim], name='inputs_z')\n",
    "    \n",
    "    return inputs_real, inputs_z"
   ]
  },
  {
   "cell_type": "code",
   "execution_count": 5,
   "metadata": {
    "collapsed": true
   },
   "outputs": [],
   "source": [
    "# G(z)\n",
    "def generator(z, out_dim, n_hidden=32, reuse=False, alpha=0.01):\n",
    "    with tf.variable_scope('generator', reuse=reuse):\n",
    "        # hidden layer\n",
    "        h1 = tf.layers.dense(z, n_hidden, activation=None)\n",
    "        # leacky ReLU\n",
    "        h1 = tf.maximum(alpha * h1, h1)\n",
    "        \n",
    "        h2 = tf.layers.dense(h1, n_hidden, activation=None)\n",
    "        h2 = tf.maximum(alpha * h2, h2)\n",
    "        \n",
    "        # logits and tanh output\n",
    "        logits = tf.layers.dense(h2, out_dim, activation=None)\n",
    "        out = tf.tanh(logits)\n",
    "        return out"
   ]
  },
  {
   "cell_type": "code",
   "execution_count": 6,
   "metadata": {
    "collapsed": true
   },
   "outputs": [],
   "source": [
    "# D(x)\n",
    "def discriminator(x, n_hidden=32, reuse=False, alpha=0.01):\n",
    "    with tf.variable_scope('discriminator', reuse=reuse):\n",
    "        # hidden layer\n",
    "        h1 = tf.layers.dense(x, n_hidden, activation=None)\n",
    "        # leacky ReLU\n",
    "        h1 = tf.maximum(alpha * h1, h1)\n",
    "        \n",
    "        h2 = tf.layers.dense(h1, n_hidden, activation=None)\n",
    "        h2 = tf.maximum(alpha * h2, h2)\n",
    "        \n",
    "        # logits and tanh output\n",
    "        logits = tf.layers.dense(h2, 1, activation=None)\n",
    "        out = tf.sigmoid(logits)\n",
    "        return out, logits"
   ]
  },
  {
   "cell_type": "code",
   "execution_count": 7,
   "metadata": {
    "collapsed": true
   },
   "outputs": [],
   "source": [
    "def test_samples(D, G, inputs_real, inputs_z, session, data, sample_range, batch_size, num_points=10000, num_bins=100):\n",
    "    # decision boundary\n",
    "    xs = np.linspace(-1, 1, num_points)\n",
    "    db = np.zeros((num_points, 1))\n",
    "    for i in range(num_points // batch_size):\n",
    "        x_ = xs[batch_size * i:batch_size * (i + 1)]\n",
    "        x_ = np.reshape(x_, [batch_size, 1])\n",
    "        db[batch_size * i:batch_size * (i + 1)] = session.run(D, {inputs_real: x_})\n",
    "\n",
    "    # data distribution\n",
    "    d = data.sample(num_points)\n",
    "    d = d * sample_range    \n",
    "    bins = np.linspace(-sample_range, sample_range, num_bins)\n",
    "    pd, _ = np.histogram(d, bins=bins, density=True)\n",
    "\n",
    "    # generated samples\n",
    "    zs = np.linspace(-sample_range, sample_range, num_points)\n",
    "    g = np.zeros((num_points, 1))\n",
    "    for i in range(num_points // batch_size):\n",
    "        z_ = zs[batch_size * i:batch_size * (i + 1)]\n",
    "        z_ = np.reshape(z_, [batch_size, 1])\n",
    "        g[batch_size * i:batch_size * (i + 1)] = session.run(G, {inputs_z: z_})\n",
    "        g[batch_size * i:batch_size * (i + 1)] = g[batch_size * i:batch_size * (i + 1)] * sample_range\n",
    "    pg, _ = np.histogram(g, bins=bins, density=True)\n",
    "\n",
    "    return db, pd, pg"
   ]
  },
  {
   "cell_type": "code",
   "execution_count": 8,
   "metadata": {
    "collapsed": true
   },
   "outputs": [],
   "source": [
    "def plot_distributions(samps, sample_range):\n",
    "    db, pd, pg = samps\n",
    "    db_x = np.linspace(-sample_range, sample_range, len(db))\n",
    "    p_x = np.linspace(-sample_range, sample_range, len(pd))\n",
    "    f, ax = plt.subplots(1)\n",
    "    ax.plot(db_x, db, label='decision boundary')\n",
    "    ax.set_ylim(0, 1)\n",
    "    plt.plot(p_x, pd, label='real data')\n",
    "    plt.plot(p_x, pg, label='generated data')\n",
    "    plt.title('1D Generative Adversarial Network')\n",
    "    plt.xlabel('Data values')\n",
    "    plt.ylabel('Probability density')\n",
    "    plt.legend()\n",
    "    plt.show()"
   ]
  },
  {
   "cell_type": "markdown",
   "metadata": {},
   "source": [
    "# Build Net"
   ]
  },
  {
   "cell_type": "code",
   "execution_count": 9,
   "metadata": {
    "collapsed": true
   },
   "outputs": [],
   "source": [
    "# parameters\n",
    "mu1, sigma1, mu2, sigma2 = -0.5, 0.7, 2.5, 0.5\n",
    "data_range = 5\n",
    "\n",
    "# Size of input\n",
    "input_size = 1\n",
    "# Size of latent vector to generator\n",
    "z_size = 1\n",
    "# Sizes of hidden layers\n",
    "n_hidden = 32\n",
    "# Leak factor for leaky ReLU\n",
    "alpha = 0.01\n",
    "# Smoothing \n",
    "smooth = 0.1\n",
    "\n",
    "d_learning_rate = 0.002\n",
    "g_learning_rate = 0.002\n",
    "n_epochs = 5000\n",
    "M = 300 # batch size"
   ]
  },
  {
   "cell_type": "code",
   "execution_count": 10,
   "metadata": {
    "collapsed": true
   },
   "outputs": [],
   "source": [
    "tf.reset_default_graph()\n",
    "\n",
    "# Create our input placeholders\n",
    "inputs_real, inputs_z = model_inputs(real_dim=input_size, z_dim=z_size)\n",
    "\n",
    "# Build the model\n",
    "g_model = generator(z=inputs_z, out_dim=input_size, n_hidden=n_hidden, reuse=False, alpha=alpha)\n",
    "d_model_real, d_logits_real = discriminator(x=inputs_real, n_hidden=n_hidden, reuse=False, alpha=alpha)\n",
    "d_model_fake, d_logits_fake = discriminator(x=g_model, n_hidden=n_hidden, reuse=True, alpha=alpha)"
   ]
  },
  {
   "cell_type": "code",
   "execution_count": 11,
   "metadata": {
    "collapsed": true
   },
   "outputs": [],
   "source": [
    "# Calculate losses\n",
    "real_labels = tf.ones_like(d_logits_real) * (1 - smooth)\n",
    "d_loss_real = tf.reduce_mean(tf.nn.sigmoid_cross_entropy_with_logits(logits=d_logits_real, labels=real_labels))\n",
    "\n",
    "fake_labels = tf.zeros_like(d_logits_real)\n",
    "d_loss_fake = tf.reduce_mean(tf.nn.sigmoid_cross_entropy_with_logits(logits=d_logits_fake, labels=fake_labels))\n",
    "\n",
    "d_loss = d_loss_real + d_loss_fake\n",
    "\n",
    "g_labels = tf.ones_like(d_logits_fake)\n",
    "g_loss = tf.reduce_mean(tf.nn.sigmoid_cross_entropy_with_logits(logits=d_logits_fake, labels=g_labels))"
   ]
  },
  {
   "cell_type": "code",
   "execution_count": 12,
   "metadata": {
    "collapsed": true
   },
   "outputs": [],
   "source": [
    "# Get the trainable_variables, split into G and D parts\n",
    "t_vars = tf.trainable_variables()\n",
    "g_vars = [var for var in t_vars if var.name.startswith('generator')]\n",
    "d_vars = [var for var in t_vars if var.name.startswith('discriminator')]\n",
    "\n",
    "d_train_opt = tf.train.AdamOptimizer(d_learning_rate).minimize(d_loss, var_list=d_vars)\n",
    "g_train_opt = tf.train.AdamOptimizer(g_learning_rate).minimize(g_loss, var_list=g_vars)"
   ]
  },
  {
   "cell_type": "code",
   "execution_count": 13,
   "metadata": {
    "collapsed": true
   },
   "outputs": [],
   "source": [
    "data = DataDistribution(data_range, mu1, sigma1, mu2, sigma2)\n",
    "gen = GeneratorDistribution(data_range)"
   ]
  },
  {
   "cell_type": "code",
   "execution_count": 14,
   "metadata": {
    "scrolled": true
   },
   "outputs": [
    {
     "data": {
      "image/png": "[encoded data removed]",
      "text/plain": [
       "<matplotlib.figure.Figure at 0x13379563748>"
      ]
     },
     "metadata": {},
     "output_type": "display_data"
    }
   ],
   "source": [
    "temp_input_normalized = data.sample(5000)\n",
    "plt.hist(temp_input_normalized, bins=100, range=[-1.0, 1.0], align='mid')\n",
    "plt.show()"
   ]
  },
  {
   "cell_type": "code",
   "execution_count": 15,
   "metadata": {},
   "outputs": [
    {
     "data": {
      "image/png": "[encoded data removed]",
      "text/plain": [
       "<matplotlib.figure.Figure at 0x1337a2df7f0>"
      ]
     },
     "metadata": {},
     "output_type": "display_data"
    }
   ],
   "source": [
    "temp_input = temp_input_normalized * data_range\n",
    "plt.hist(temp_input, bins=100, range=[-data_range, data_range], align='mid')\n",
    "plt.show()"
   ]
  },
  {
   "cell_type": "code",
   "execution_count": 16,
   "metadata": {},
   "outputs": [],
   "source": [
    "losses = []\n",
    "with tf.Session() as sess:\n",
    "    sess.run(tf.global_variables_initializer())\n",
    "    \n",
    "    for e in range(n_epochs):\n",
    "        x_ = data.sample(M * input_size) # sampled m-batch from p_data\n",
    "        x_ = np.reshape(x_, [M, input_size])\n",
    "        z_ = gen.sample(M * z_size)  # sample m-batch from noise prior\n",
    "        z_ = np.reshape(z_, [M, z_size])\n",
    "        \n",
    "        # Run optimizers\n",
    "        _ = sess.run(d_train_opt, feed_dict={inputs_real: x_, inputs_z: z_})\n",
    "        _ = sess.run(g_train_opt, feed_dict={inputs_z: z_})\n",
    "        \n",
    "        # At the end of each epoch, get the losses and print them out\n",
    "        train_loss_d = sess.run(d_loss, {inputs_real: x_, inputs_z: z_})\n",
    "        train_loss_g = g_loss.eval({inputs_z: z_})\n",
    "        \n",
    "        # Save losses to view after training\n",
    "        losses.append((train_loss_d, train_loss_g))\n",
    "        \n",
    "        if e+1 % 100 == 0:\n",
    "            print(\"Epoch {}/{}...\".format(e+1, n_epochs),\n",
    "                  \"Discriminator Loss: {:.4f}...\".format(train_loss_d),\n",
    "                  \"Generator Loss: {:.4f}\".format(train_loss_g))\n",
    "        # save last training status for viewing\n",
    "        if e == n_epochs-1:\n",
    "            samps = test_samples(d_model_real, g_model, inputs_real, inputs_z, sess, data, data_range, M)"
   ]
  },
  {
   "cell_type": "code",
   "execution_count": 17,
   "metadata": {
    "scrolled": true
   },
   "outputs": [
    {
     "data": {
      "text/plain": [
       "<matplotlib.legend.Legend at 0x1336d7a4c50>"
      ]
     },
     "execution_count": 17,
     "metadata": {},
     "output_type": "execute_result"
    },
    {
     "data": {
      "image/png": "[encoded data removed]",
      "text/plain": [
       "<matplotlib.figure.Figure at 0x1337a3bb9b0>"
      ]
     },
     "metadata": {},
     "output_type": "display_data"
    }
   ],
   "source": [
    "fig, ax = plt.subplots()\n",
    "losses = np.array(losses)\n",
    "plt.plot(losses.T[0], label='Discriminator')\n",
    "plt.plot(losses.T[1], label='Generator')\n",
    "plt.title(\"Training Losses\")\n",
    "plt.legend()"
   ]
  },
  {
   "cell_type": "code",
   "execution_count": 18,
   "metadata": {},
   "outputs": [
    {
     "data": {
      "image/png": "[encoded data removed]",
      "text/plain": [
       "<matplotlib.figure.Figure at 0x1337a2bd080>"
      ]
     },
     "metadata": {},
     "output_type": "display_data"
    }
   ],
   "source": [
    "plot_distributions(samps, data_range)"
   ]
  }
 ],
 "metadata": {
  "kernelspec": {
   "display_name": "Python 3",
   "language": "python",
   "name": "python3"
  },
  "language_info": {
   "codemirror_mode": {
    "name": "ipython",
    "version": 3
   },
   "file_extension": ".py",
   "mimetype": "text/x-python",
   "name": "python",
   "nbconvert_exporter": "python",
   "pygments_lexer": "ipython3",
   "version": "3.5.3"
  }
 },
 "nbformat": 4,
 "nbformat_minor": 2
}
