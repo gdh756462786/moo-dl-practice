{
 "cells": [
  {
   "cell_type": "code",
   "execution_count": 1,
   "metadata": {
    "collapsed": true
   },
   "outputs": [],
   "source": [
    "import numpy as np\n",
    "import tensorflow as tf\n",
    "import matplotlib.pyplot as plt\n",
    "from scipy.stats import norm\n",
    "#from sklearn.mixture import GaussianMixture\n",
    "%matplotlib inline"
   ]
  },
  {
   "cell_type": "code",
   "execution_count": 2,
   "metadata": {
    "collapsed": true
   },
   "outputs": [],
   "source": [
    "# parameters\n",
    "mu1, sigma1, mu2, sigma2 = -0.5, 0.2, 0.5, 0.2\n",
    "data_range = 1\n",
    "\n",
    "# Size of input\n",
    "input_size = 1000\n",
    "# Size of latent vector to generator\n",
    "z_size = 50\n",
    "# Sizes of hidden layers\n",
    "n_hidden = 128\n",
    "# Leak factor for leaky ReLU\n",
    "alpha = 0.01\n",
    "# Smoothing \n",
    "smooth = 0.1\n",
    "\n",
    "d_learning_rate = 0.002\n",
    "g_learning_rate = 0.002\n",
    "n_epochs = 300\n",
    "M = 100 # batch size"
   ]
  },
  {
   "cell_type": "code",
   "execution_count": 3,
   "metadata": {
    "collapsed": true
   },
   "outputs": [],
   "source": [
    "class DataDistribution(object):\n",
    "    def __init__(self, mu1, sigma1, mu2, sigma2):\n",
    "        self.mu1 = mu1\n",
    "        self.sigma1 = sigma1\n",
    "        self.mu2 = mu2\n",
    "        self.sigma2 = sigma2\n",
    "\n",
    "    def sample(self, N):\n",
    "        half_N = N // 2\n",
    "        samples1 = np.random.normal(self.mu1, self.sigma1, half_N)\n",
    "        samples2 = np.random.normal(self.mu2, self.sigma2, half_N)\n",
    "        samples = np.concatenate((samples1, samples2))\n",
    "        samples.sort()\n",
    "        return samples"
   ]
  },
  {
   "cell_type": "code",
   "execution_count": 4,
   "metadata": {
    "collapsed": true
   },
   "outputs": [],
   "source": [
    "class GeneratorDistribution(object):\n",
    "    def __init__(self, range):\n",
    "        self.range = range\n",
    "\n",
    "    def sample(self, N):\n",
    "        return np.linspace(-self.range, self.range, N) + np.random.random(N) * 0.01"
   ]
  },
  {
   "cell_type": "code",
   "execution_count": 5,
   "metadata": {
    "collapsed": true
   },
   "outputs": [],
   "source": [
    "# G(z)\n",
    "def generator(z, out_dim, n_hidden=32, reuse=False, alpha=0.01):\n",
    "    with tf.variable_scope('generator', reuse=reuse):\n",
    "        # hidden layer\n",
    "        h1 = tf.layers.dense(z, n_hidden, activation=None)\n",
    "        # leacky ReLU\n",
    "        h1 = tf.maximum(alpha * h1, h1)\n",
    "\n",
    "        # logits and tanh output\n",
    "        logits = tf.layers.dense(h1, out_dim, activation=None)\n",
    "        out = tf.tanh(logits)\n",
    "        return out"
   ]
  },
  {
   "cell_type": "code",
   "execution_count": 6,
   "metadata": {
    "collapsed": true
   },
   "outputs": [],
   "source": [
    "# D(x)\n",
    "def discriminator(x, n_hidden=32, reuse=False, alpha=0.01):\n",
    "    with tf.variable_scope('discriminator', reuse=reuse):\n",
    "        # hidden layer\n",
    "        h1 = tf.layers.dense(x, n_hidden, activation=None)\n",
    "        # leacky ReLU\n",
    "        h1 = tf.maximum(alpha * h1, h1)\n",
    "\n",
    "        # logits and tanh output\n",
    "        logits = tf.layers.dense(h1, 1, activation=None)\n",
    "        out = tf.sigmoid(logits)\n",
    "        return out, logits"
   ]
  },
  {
   "cell_type": "markdown",
   "metadata": {},
   "source": [
    "# Build Net"
   ]
  },
  {
   "cell_type": "code",
   "execution_count": 7,
   "metadata": {},
   "outputs": [],
   "source": [
    "tf.reset_default_graph()\n",
    "\n",
    "# Create our input placeholders\n",
    "inputs_z = tf.placeholder(tf.float32, shape=[None, z_size], name='inputs_z')\n",
    "inputs_real = tf.placeholder(tf.float32, shape=[None, input_size], name='inputs_real')\n",
    "\n",
    "# Build the model\n",
    "g_model = generator(inputs_z, out_dim=input_size, n_hidden=n_hidden, reuse=False, alpha=alpha)\n",
    "d_model_real, d_logits_real = discriminator(inputs_real, n_hidden=n_hidden, reuse=False, alpha=alpha)\n",
    "d_model_fake, d_logits_fake = discriminator(g_model, n_hidden=n_hidden, reuse=True, alpha=alpha)"
   ]
  },
  {
   "cell_type": "code",
   "execution_count": 8,
   "metadata": {
    "collapsed": true
   },
   "outputs": [],
   "source": [
    "# Calculate losses\n",
    "d_loss_real = tf.reduce_mean(\n",
    "                  tf.nn.sigmoid_cross_entropy_with_logits(logits=d_logits_real, \n",
    "                                                          labels=tf.ones_like(d_logits_real) * (1 - smooth)))\n",
    "d_loss_fake = tf.reduce_mean(\n",
    "                  tf.nn.sigmoid_cross_entropy_with_logits(logits=d_logits_fake, \n",
    "                                                          labels=tf.zeros_like(d_logits_real)))\n",
    "d_loss = d_loss_real + d_loss_fake\n",
    "\n",
    "g_loss = tf.reduce_mean(\n",
    "             tf.nn.sigmoid_cross_entropy_with_logits(logits=d_logits_fake,\n",
    "                                                     labels=tf.ones_like(d_logits_fake)))"
   ]
  },
  {
   "cell_type": "code",
   "execution_count": 9,
   "metadata": {
    "collapsed": true
   },
   "outputs": [],
   "source": [
    "# Get the trainable_variables, split into G and D parts\n",
    "t_vars = tf.trainable_variables()\n",
    "g_vars = [var for var in t_vars if var.name.startswith('generator')]\n",
    "d_vars = [var for var in t_vars if var.name.startswith('discriminator')]\n",
    "\n",
    "d_train_opt = tf.train.AdamOptimizer(d_learning_rate).minimize(d_loss, var_list=d_vars)\n",
    "g_train_opt = tf.train.AdamOptimizer(g_learning_rate).minimize(g_loss, var_list=g_vars)"
   ]
  },
  {
   "cell_type": "code",
   "execution_count": 10,
   "metadata": {
    "collapsed": true
   },
   "outputs": [],
   "source": [
    "data = DataDistribution(mu1, sigma1, mu2, sigma2)\n",
    "gen = GeneratorDistribution(data_range)"
   ]
  },
  {
   "cell_type": "code",
   "execution_count": 11,
   "metadata": {},
   "outputs": [
    {
     "data": {
      "image/png": "[encoded data removed]",
      "text/plain": [
       "<matplotlib.figure.Figure at 0x1ca7b71f9b0>"
      ]
     },
     "metadata": {},
     "output_type": "display_data"
    }
   ],
   "source": [
    "temp_x = data.sample(input_size)\n",
    "plt.hist(temp_x, bins=100)\n",
    "plt.show()"
   ]
  },
  {
   "cell_type": "code",
   "execution_count": 12,
   "metadata": {},
   "outputs": [
    {
     "name": "stdout",
     "output_type": "stream",
     "text": [
      "Epoch 1/300... Discriminator Loss: 2.0091... Generator Loss: 0.3836\n",
      "Epoch 2/300... Discriminator Loss: 2.1443... Generator Loss: 0.2869\n",
      "Epoch 3/300... Discriminator Loss: 2.4186... Generator Loss: 0.2432\n",
      "Epoch 4/300... Discriminator Loss: 2.4997... Generator Loss: 0.2250\n",
      "Epoch 5/300... Discriminator Loss: 2.4735... Generator Loss: 0.2258\n",
      "Epoch 6/300... Discriminator Loss: 2.4363... Generator Loss: 0.2511\n",
      "Epoch 7/300... Discriminator Loss: 2.0908... Generator Loss: 0.3061\n",
      "Epoch 8/300... Discriminator Loss: 1.6904... Generator Loss: 0.3995\n",
      "Epoch 9/300... Discriminator Loss: 1.3241... Generator Loss: 0.5693\n",
      "Epoch 10/300... Discriminator Loss: 1.0218... Generator Loss: 0.8227\n",
      "Epoch 11/300... Discriminator Loss: 0.8177... Generator Loss: 1.1093\n",
      "Epoch 12/300... Discriminator Loss: 0.7244... Generator Loss: 1.3145\n",
      "Epoch 13/300... Discriminator Loss: 0.7554... Generator Loss: 1.3716\n",
      "Epoch 14/300... Discriminator Loss: 0.8057... Generator Loss: 1.2800\n",
      "Epoch 15/300... Discriminator Loss: 0.8568... Generator Loss: 1.0441\n",
      "Epoch 16/300... Discriminator Loss: 1.0001... Generator Loss: 0.7898\n",
      "Epoch 17/300... Discriminator Loss: 1.1696... Generator Loss: 0.6259\n",
      "Epoch 18/300... Discriminator Loss: 1.3112... Generator Loss: 0.5359\n",
      "Epoch 19/300... Discriminator Loss: 1.3125... Generator Loss: 0.5407\n",
      "Epoch 20/300... Discriminator Loss: 1.1888... Generator Loss: 0.6242\n",
      "Epoch 21/300... Discriminator Loss: 0.9914... Generator Loss: 0.8080\n",
      "Epoch 22/300... Discriminator Loss: 0.7913... Generator Loss: 1.1213\n",
      "Epoch 23/300... Discriminator Loss: 0.6672... Generator Loss: 1.4493\n",
      "Epoch 24/300... Discriminator Loss: 0.6068... Generator Loss: 1.6755\n",
      "Epoch 25/300... Discriminator Loss: 0.5932... Generator Loss: 1.7404\n",
      "Epoch 26/300... Discriminator Loss: 0.6181... Generator Loss: 1.6521\n",
      "Epoch 27/300... Discriminator Loss: 0.6588... Generator Loss: 1.5034\n",
      "Epoch 28/300... Discriminator Loss: 0.6993... Generator Loss: 1.3451\n",
      "Epoch 29/300... Discriminator Loss: 0.7294... Generator Loss: 1.2447\n",
      "Epoch 30/300... Discriminator Loss: 0.7399... Generator Loss: 1.2165\n",
      "Epoch 31/300... Discriminator Loss: 0.7177... Generator Loss: 1.2786\n",
      "Epoch 32/300... Discriminator Loss: 0.7067... Generator Loss: 1.3198\n",
      "Epoch 33/300... Discriminator Loss: 0.6972... Generator Loss: 1.3471\n",
      "Epoch 34/300... Discriminator Loss: 0.6694... Generator Loss: 1.4350\n",
      "Epoch 35/300... Discriminator Loss: 0.6634... Generator Loss: 1.4351\n",
      "Epoch 36/300... Discriminator Loss: 0.6848... Generator Loss: 1.3464\n",
      "Epoch 37/300... Discriminator Loss: 0.7516... Generator Loss: 1.1682\n",
      "Epoch 38/300... Discriminator Loss: 0.8304... Generator Loss: 1.0102\n",
      "Epoch 39/300... Discriminator Loss: 0.8556... Generator Loss: 0.9781\n",
      "Epoch 40/300... Discriminator Loss: 0.8208... Generator Loss: 1.0475\n",
      "Epoch 41/300... Discriminator Loss: 0.7617... Generator Loss: 1.1763\n",
      "Epoch 42/300... Discriminator Loss: 0.7055... Generator Loss: 1.3369\n",
      "Epoch 43/300... Discriminator Loss: 0.6962... Generator Loss: 1.3583\n",
      "Epoch 44/300... Discriminator Loss: 0.7201... Generator Loss: 1.2641\n",
      "Epoch 45/300... Discriminator Loss: 0.7324... Generator Loss: 1.2161\n",
      "Epoch 46/300... Discriminator Loss: 0.7448... Generator Loss: 1.1799\n",
      "Epoch 47/300... Discriminator Loss: 0.7871... Generator Loss: 1.0996\n",
      "Epoch 48/300... Discriminator Loss: 0.8442... Generator Loss: 1.0627\n",
      "Epoch 49/300... Discriminator Loss: 0.8800... Generator Loss: 1.1106\n",
      "Epoch 50/300... Discriminator Loss: 0.8605... Generator Loss: 1.2579\n",
      "Epoch 51/300... Discriminator Loss: 0.7933... Generator Loss: 1.5130\n",
      "Epoch 52/300... Discriminator Loss: 0.7246... Generator Loss: 1.7911\n",
      "Epoch 53/300... Discriminator Loss: 0.7098... Generator Loss: 1.9888\n",
      "Epoch 54/300... Discriminator Loss: 0.7122... Generator Loss: 2.1248\n",
      "Epoch 55/300... Discriminator Loss: 0.6873... Generator Loss: 2.2699\n",
      "Epoch 56/300... Discriminator Loss: 0.6540... Generator Loss: 2.4559\n",
      "Epoch 57/300... Discriminator Loss: 0.6459... Generator Loss: 2.6815\n",
      "Epoch 58/300... Discriminator Loss: 0.6701... Generator Loss: 2.9131\n",
      "Epoch 59/300... Discriminator Loss: 0.6797... Generator Loss: 3.2310\n",
      "Epoch 60/300... Discriminator Loss: 0.6253... Generator Loss: 3.6361\n",
      "Epoch 61/300... Discriminator Loss: 0.5473... Generator Loss: 4.1221\n",
      "Epoch 62/300... Discriminator Loss: 0.4800... Generator Loss: 4.6450\n",
      "Epoch 63/300... Discriminator Loss: 0.4344... Generator Loss: 5.3064\n",
      "Epoch 64/300... Discriminator Loss: 0.4165... Generator Loss: 5.8034\n",
      "Epoch 65/300... Discriminator Loss: 0.4080... Generator Loss: 5.9837\n",
      "Epoch 66/300... Discriminator Loss: 0.4036... Generator Loss: 5.9147\n",
      "Epoch 67/300... Discriminator Loss: 0.3991... Generator Loss: 5.8805\n",
      "Epoch 68/300... Discriminator Loss: 0.3971... Generator Loss: 5.6406\n",
      "Epoch 69/300... Discriminator Loss: 0.3984... Generator Loss: 5.1485\n",
      "Epoch 70/300... Discriminator Loss: 0.4014... Generator Loss: 4.5397\n",
      "Epoch 71/300... Discriminator Loss: 0.4067... Generator Loss: 3.8872\n",
      "Epoch 72/300... Discriminator Loss: 0.4261... Generator Loss: 3.1758\n",
      "Epoch 73/300... Discriminator Loss: 0.5454... Generator Loss: 2.3412\n",
      "Epoch 74/300... Discriminator Loss: 0.7417... Generator Loss: 1.7315\n",
      "Epoch 75/300... Discriminator Loss: 0.7714... Generator Loss: 1.4129\n",
      "Epoch 76/300... Discriminator Loss: 0.8127... Generator Loss: 1.2938\n",
      "Epoch 77/300... Discriminator Loss: 0.8900... Generator Loss: 1.2556\n",
      "Epoch 78/300... Discriminator Loss: 0.9007... Generator Loss: 1.2816\n",
      "Epoch 79/300... Discriminator Loss: 0.9206... Generator Loss: 1.3208\n",
      "Epoch 80/300... Discriminator Loss: 0.8730... Generator Loss: 1.4299\n",
      "Epoch 81/300... Discriminator Loss: 0.5617... Generator Loss: 2.1266\n",
      "Epoch 82/300... Discriminator Loss: 0.4823... Generator Loss: 3.5162\n",
      "Epoch 83/300... Discriminator Loss: 0.4521... Generator Loss: 4.8950\n",
      "Epoch 84/300... Discriminator Loss: 0.4342... Generator Loss: 6.2095\n",
      "Epoch 85/300... Discriminator Loss: 0.4247... Generator Loss: 6.8705\n",
      "Epoch 86/300... Discriminator Loss: 0.4283... Generator Loss: 6.7730\n",
      "Epoch 87/300... Discriminator Loss: 0.4529... Generator Loss: 6.1732\n",
      "Epoch 88/300... Discriminator Loss: 0.4878... Generator Loss: 5.5913\n",
      "Epoch 89/300... Discriminator Loss: 0.4577... Generator Loss: 5.5498\n",
      "Epoch 90/300... Discriminator Loss: 0.4391... Generator Loss: 5.5191\n",
      "Epoch 91/300... Discriminator Loss: 0.4405... Generator Loss: 4.9376\n",
      "Epoch 92/300... Discriminator Loss: 0.4547... Generator Loss: 4.0518\n",
      "Epoch 93/300... Discriminator Loss: 0.4786... Generator Loss: 3.5583\n",
      "Epoch 94/300... Discriminator Loss: 0.5002... Generator Loss: 3.6357\n",
      "Epoch 95/300... Discriminator Loss: 0.5047... Generator Loss: 3.8915\n",
      "Epoch 96/300... Discriminator Loss: 0.5062... Generator Loss: 3.9057\n",
      "Epoch 97/300... Discriminator Loss: 0.5197... Generator Loss: 3.6176\n",
      "Epoch 98/300... Discriminator Loss: 0.5511... Generator Loss: 3.1187\n",
      "Epoch 99/300... Discriminator Loss: 0.6020... Generator Loss: 2.5794\n",
      "Epoch 100/300... Discriminator Loss: 0.6645... Generator Loss: 2.0618\n",
      "Epoch 101/300... Discriminator Loss: 0.7058... Generator Loss: 1.8178\n",
      "Epoch 102/300... Discriminator Loss: 0.6854... Generator Loss: 1.9263\n",
      "Epoch 103/300... Discriminator Loss: 0.6529... Generator Loss: 2.1384\n",
      "Epoch 104/300... Discriminator Loss: 0.6424... Generator Loss: 2.3393\n",
      "Epoch 105/300... Discriminator Loss: 0.6424... Generator Loss: 2.4981\n",
      "Epoch 106/300... Discriminator Loss: 0.6233... Generator Loss: 2.7184\n",
      "Epoch 107/300... Discriminator Loss: 0.5979... Generator Loss: 2.9809\n",
      "Epoch 108/300... Discriminator Loss: 0.5710... Generator Loss: 3.2381\n",
      "Epoch 109/300... Discriminator Loss: 0.5418... Generator Loss: 3.4817\n",
      "Epoch 110/300... Discriminator Loss: 0.5154... Generator Loss: 3.6904\n",
      "Epoch 111/300... Discriminator Loss: 0.4990... Generator Loss: 3.8344\n",
      "Epoch 112/300... Discriminator Loss: 0.4914... Generator Loss: 3.9383\n",
      "Epoch 113/300... Discriminator Loss: 0.4856... Generator Loss: 4.0310\n",
      "Epoch 114/300... Discriminator Loss: 0.4782... Generator Loss: 4.1431\n",
      "Epoch 115/300... Discriminator Loss: 0.4716... Generator Loss: 4.2375\n",
      "Epoch 116/300... Discriminator Loss: 0.4688... Generator Loss: 4.2715\n",
      "Epoch 117/300... Discriminator Loss: 0.4680... Generator Loss: 4.2514\n",
      "Epoch 118/300... Discriminator Loss: 0.4689... Generator Loss: 4.2841\n",
      "Epoch 119/300... Discriminator Loss: 0.4717... Generator Loss: 4.2880\n",
      "Epoch 120/300... Discriminator Loss: 0.4747... Generator Loss: 4.2863\n"
     ]
    },
    {
     "name": "stdout",
     "output_type": "stream",
     "text": [
      "Epoch 121/300... Discriminator Loss: 0.4761... Generator Loss: 4.2962\n",
      "Epoch 122/300... Discriminator Loss: 0.4751... Generator Loss: 4.3066\n",
      "Epoch 123/300... Discriminator Loss: 0.4711... Generator Loss: 4.3541\n",
      "Epoch 124/300... Discriminator Loss: 0.4663... Generator Loss: 4.4377\n",
      "Epoch 125/300... Discriminator Loss: 0.4612... Generator Loss: 4.5357\n",
      "Epoch 126/300... Discriminator Loss: 0.4546... Generator Loss: 4.6912\n",
      "Epoch 127/300... Discriminator Loss: 0.4493... Generator Loss: 4.9216\n",
      "Epoch 128/300... Discriminator Loss: 0.4481... Generator Loss: 5.0967\n",
      "Epoch 129/300... Discriminator Loss: 0.4501... Generator Loss: 5.2225\n",
      "Epoch 130/300... Discriminator Loss: 0.4552... Generator Loss: 5.3053\n",
      "Epoch 131/300... Discriminator Loss: 0.4541... Generator Loss: 5.4402\n",
      "Epoch 132/300... Discriminator Loss: 0.4519... Generator Loss: 5.6420\n",
      "Epoch 133/300... Discriminator Loss: 0.4523... Generator Loss: 5.8629\n",
      "Epoch 134/300... Discriminator Loss: 0.4544... Generator Loss: 6.0016\n",
      "Epoch 135/300... Discriminator Loss: 0.4529... Generator Loss: 6.1309\n",
      "Epoch 136/300... Discriminator Loss: 0.4510... Generator Loss: 6.2693\n",
      "Epoch 137/300... Discriminator Loss: 0.4505... Generator Loss: 6.4712\n",
      "Epoch 138/300... Discriminator Loss: 0.4493... Generator Loss: 6.6731\n",
      "Epoch 139/300... Discriminator Loss: 0.4478... Generator Loss: 6.8458\n",
      "Epoch 140/300... Discriminator Loss: 0.4470... Generator Loss: 7.0621\n",
      "Epoch 141/300... Discriminator Loss: 0.4461... Generator Loss: 7.3796\n",
      "Epoch 142/300... Discriminator Loss: 0.4468... Generator Loss: 7.6560\n",
      "Epoch 143/300... Discriminator Loss: 0.4479... Generator Loss: 7.8660\n",
      "Epoch 144/300... Discriminator Loss: 0.4486... Generator Loss: 8.0438\n",
      "Epoch 145/300... Discriminator Loss: 0.4491... Generator Loss: 8.2421\n",
      "Epoch 146/300... Discriminator Loss: 0.4461... Generator Loss: 8.5247\n",
      "Epoch 147/300... Discriminator Loss: 0.4388... Generator Loss: 8.8582\n",
      "Epoch 148/300... Discriminator Loss: 0.4280... Generator Loss: 9.2074\n",
      "Epoch 149/300... Discriminator Loss: 0.4170... Generator Loss: 9.5538\n",
      "Epoch 150/300... Discriminator Loss: 0.4083... Generator Loss: 9.8577\n",
      "Epoch 151/300... Discriminator Loss: 0.4023... Generator Loss: 10.1982\n",
      "Epoch 152/300... Discriminator Loss: 0.3977... Generator Loss: 10.5022\n",
      "Epoch 153/300... Discriminator Loss: 0.3948... Generator Loss: 10.6800\n",
      "Epoch 154/300... Discriminator Loss: 0.3938... Generator Loss: 10.7222\n",
      "Epoch 155/300... Discriminator Loss: 0.3928... Generator Loss: 10.6730\n",
      "Epoch 156/300... Discriminator Loss: 0.3938... Generator Loss: 10.5095\n",
      "Epoch 157/300... Discriminator Loss: 0.3944... Generator Loss: 10.2116\n",
      "Epoch 158/300... Discriminator Loss: 0.3963... Generator Loss: 9.8389\n",
      "Epoch 159/300... Discriminator Loss: 0.3985... Generator Loss: 9.4334\n",
      "Epoch 160/300... Discriminator Loss: 0.4010... Generator Loss: 8.9992\n",
      "Epoch 161/300... Discriminator Loss: 0.4043... Generator Loss: 8.5237\n",
      "Epoch 162/300... Discriminator Loss: 0.4077... Generator Loss: 8.0267\n",
      "Epoch 163/300... Discriminator Loss: 0.4113... Generator Loss: 7.5155\n",
      "Epoch 164/300... Discriminator Loss: 0.4140... Generator Loss: 7.0452\n",
      "Epoch 165/300... Discriminator Loss: 0.4127... Generator Loss: 6.7484\n",
      "Epoch 166/300... Discriminator Loss: 0.4081... Generator Loss: 6.5762\n",
      "Epoch 167/300... Discriminator Loss: 0.4047... Generator Loss: 6.3849\n",
      "Epoch 168/300... Discriminator Loss: 0.4032... Generator Loss: 6.2177\n",
      "Epoch 169/300... Discriminator Loss: 0.4027... Generator Loss: 6.0024\n",
      "Epoch 170/300... Discriminator Loss: 0.4030... Generator Loss: 5.7757\n",
      "Epoch 171/300... Discriminator Loss: 0.4032... Generator Loss: 5.6545\n",
      "Epoch 172/300... Discriminator Loss: 0.4033... Generator Loss: 5.5375\n",
      "Epoch 173/300... Discriminator Loss: 0.4040... Generator Loss: 5.3011\n",
      "Epoch 174/300... Discriminator Loss: 0.4054... Generator Loss: 5.0198\n",
      "Epoch 175/300... Discriminator Loss: 0.4079... Generator Loss: 4.7415\n",
      "Epoch 176/300... Discriminator Loss: 0.4113... Generator Loss: 4.4502\n",
      "Epoch 177/300... Discriminator Loss: 0.4178... Generator Loss: 4.1079\n",
      "Epoch 178/300... Discriminator Loss: 0.4286... Generator Loss: 3.7557\n",
      "Epoch 179/300... Discriminator Loss: 0.4455... Generator Loss: 3.4473\n",
      "Epoch 180/300... Discriminator Loss: 0.4725... Generator Loss: 3.2036\n",
      "Epoch 181/300... Discriminator Loss: 0.5088... Generator Loss: 3.0721\n",
      "Epoch 182/300... Discriminator Loss: 0.5460... Generator Loss: 3.0739\n",
      "Epoch 183/300... Discriminator Loss: 0.5400... Generator Loss: 3.3373\n",
      "Epoch 184/300... Discriminator Loss: 0.5128... Generator Loss: 3.7488\n",
      "Epoch 185/300... Discriminator Loss: 0.4928... Generator Loss: 4.1673\n",
      "Epoch 186/300... Discriminator Loss: 0.4695... Generator Loss: 4.6049\n",
      "Epoch 187/300... Discriminator Loss: 0.4577... Generator Loss: 4.9062\n",
      "Epoch 188/300... Discriminator Loss: 0.4570... Generator Loss: 5.0209\n",
      "Epoch 189/300... Discriminator Loss: 0.4635... Generator Loss: 5.0279\n",
      "Epoch 190/300... Discriminator Loss: 0.4712... Generator Loss: 5.0111\n",
      "Epoch 191/300... Discriminator Loss: 0.4711... Generator Loss: 5.0320\n",
      "Epoch 192/300... Discriminator Loss: 0.4641... Generator Loss: 5.1736\n",
      "Epoch 193/300... Discriminator Loss: 0.4574... Generator Loss: 5.2906\n",
      "Epoch 194/300... Discriminator Loss: 0.4523... Generator Loss: 5.3189\n",
      "Epoch 195/300... Discriminator Loss: 0.4442... Generator Loss: 5.3711\n",
      "Epoch 196/300... Discriminator Loss: 0.4360... Generator Loss: 5.4172\n",
      "Epoch 197/300... Discriminator Loss: 0.4292... Generator Loss: 5.4326\n",
      "Epoch 198/300... Discriminator Loss: 0.4244... Generator Loss: 5.4664\n",
      "Epoch 199/300... Discriminator Loss: 0.4239... Generator Loss: 5.4233\n",
      "Epoch 200/300... Discriminator Loss: 0.4231... Generator Loss: 5.3042\n",
      "Epoch 201/300... Discriminator Loss: 0.4231... Generator Loss: 5.2113\n",
      "Epoch 202/300... Discriminator Loss: 0.4255... Generator Loss: 5.0746\n",
      "Epoch 203/300... Discriminator Loss: 0.4292... Generator Loss: 4.8702\n",
      "Epoch 204/300... Discriminator Loss: 0.4346... Generator Loss: 4.6107\n",
      "Epoch 205/300... Discriminator Loss: 0.4424... Generator Loss: 4.3282\n",
      "Epoch 206/300... Discriminator Loss: 0.4505... Generator Loss: 4.0913\n",
      "Epoch 207/300... Discriminator Loss: 0.4559... Generator Loss: 3.9031\n",
      "Epoch 208/300... Discriminator Loss: 0.4577... Generator Loss: 3.7918\n",
      "Epoch 209/300... Discriminator Loss: 0.4505... Generator Loss: 3.8082\n",
      "Epoch 210/300... Discriminator Loss: 0.4439... Generator Loss: 3.8605\n",
      "Epoch 211/300... Discriminator Loss: 0.4436... Generator Loss: 3.8576\n",
      "Epoch 212/300... Discriminator Loss: 0.4429... Generator Loss: 3.8194\n",
      "Epoch 213/300... Discriminator Loss: 0.4433... Generator Loss: 3.7842\n",
      "Epoch 214/300... Discriminator Loss: 0.4436... Generator Loss: 3.7392\n",
      "Epoch 215/300... Discriminator Loss: 0.4457... Generator Loss: 3.6210\n",
      "Epoch 216/300... Discriminator Loss: 0.4492... Generator Loss: 3.4609\n",
      "Epoch 217/300... Discriminator Loss: 0.4561... Generator Loss: 3.2365\n",
      "Epoch 218/300... Discriminator Loss: 0.4655... Generator Loss: 2.9933\n",
      "Epoch 219/300... Discriminator Loss: 0.4724... Generator Loss: 2.8719\n",
      "Epoch 220/300... Discriminator Loss: 0.4758... Generator Loss: 2.8082\n",
      "Epoch 221/300... Discriminator Loss: 0.4832... Generator Loss: 2.6870\n",
      "Epoch 222/300... Discriminator Loss: 0.4918... Generator Loss: 2.5618\n",
      "Epoch 223/300... Discriminator Loss: 0.4992... Generator Loss: 2.4592\n",
      "Epoch 224/300... Discriminator Loss: 0.5135... Generator Loss: 2.3265\n",
      "Epoch 225/300... Discriminator Loss: 0.5262... Generator Loss: 2.1713\n",
      "Epoch 226/300... Discriminator Loss: 0.5608... Generator Loss: 1.8973\n",
      "Epoch 227/300... Discriminator Loss: 0.5961... Generator Loss: 1.7044\n",
      "Epoch 228/300... Discriminator Loss: 0.6309... Generator Loss: 1.5534\n",
      "Epoch 229/300... Discriminator Loss: 0.6489... Generator Loss: 1.4896\n",
      "Epoch 230/300... Discriminator Loss: 0.6779... Generator Loss: 1.3974\n",
      "Epoch 231/300... Discriminator Loss: 0.6739... Generator Loss: 1.4207\n",
      "Epoch 232/300... Discriminator Loss: 0.6464... Generator Loss: 1.5574\n",
      "Epoch 233/300... Discriminator Loss: 0.6337... Generator Loss: 1.6968\n",
      "Epoch 234/300... Discriminator Loss: 0.6209... Generator Loss: 1.8577\n",
      "Epoch 235/300... Discriminator Loss: 0.6006... Generator Loss: 2.0407\n",
      "Epoch 236/300... Discriminator Loss: 0.5896... Generator Loss: 2.1580\n",
      "Epoch 237/300... Discriminator Loss: 0.5857... Generator Loss: 2.2168\n",
      "Epoch 238/300... Discriminator Loss: 0.5766... Generator Loss: 2.2605\n",
      "Epoch 239/300... Discriminator Loss: 0.5636... Generator Loss: 2.3126\n"
     ]
    },
    {
     "name": "stdout",
     "output_type": "stream",
     "text": [
      "Epoch 240/300... Discriminator Loss: 0.5530... Generator Loss: 2.3815\n",
      "Epoch 241/300... Discriminator Loss: 0.5420... Generator Loss: 2.4519\n",
      "Epoch 242/300... Discriminator Loss: 0.5298... Generator Loss: 2.5067\n",
      "Epoch 243/300... Discriminator Loss: 0.5213... Generator Loss: 2.5600\n",
      "Epoch 244/300... Discriminator Loss: 0.5148... Generator Loss: 2.6118\n",
      "Epoch 245/300... Discriminator Loss: 0.5105... Generator Loss: 2.6519\n",
      "Epoch 246/300... Discriminator Loss: 0.5072... Generator Loss: 2.6734\n",
      "Epoch 247/300... Discriminator Loss: 0.5045... Generator Loss: 2.6957\n",
      "Epoch 248/300... Discriminator Loss: 0.5018... Generator Loss: 2.6943\n",
      "Epoch 249/300... Discriminator Loss: 0.5010... Generator Loss: 2.6872\n",
      "Epoch 250/300... Discriminator Loss: 0.5020... Generator Loss: 2.6742\n",
      "Epoch 251/300... Discriminator Loss: 0.5028... Generator Loss: 2.6928\n",
      "Epoch 252/300... Discriminator Loss: 0.4961... Generator Loss: 2.7659\n",
      "Epoch 253/300... Discriminator Loss: 0.4844... Generator Loss: 2.8551\n",
      "Epoch 254/300... Discriminator Loss: 0.4883... Generator Loss: 2.8143\n",
      "Epoch 255/300... Discriminator Loss: 0.5015... Generator Loss: 2.7083\n",
      "Epoch 256/300... Discriminator Loss: 0.5055... Generator Loss: 2.6600\n",
      "Epoch 257/300... Discriminator Loss: 0.5072... Generator Loss: 2.6163\n",
      "Epoch 258/300... Discriminator Loss: 0.5131... Generator Loss: 2.5542\n",
      "Epoch 259/300... Discriminator Loss: 0.5206... Generator Loss: 2.4698\n",
      "Epoch 260/300... Discriminator Loss: 0.5274... Generator Loss: 2.4042\n",
      "Epoch 261/300... Discriminator Loss: 0.5314... Generator Loss: 2.3637\n",
      "Epoch 262/300... Discriminator Loss: 0.5334... Generator Loss: 2.3053\n",
      "Epoch 263/300... Discriminator Loss: 0.5382... Generator Loss: 2.2034\n",
      "Epoch 264/300... Discriminator Loss: 0.5465... Generator Loss: 2.0790\n",
      "Epoch 265/300... Discriminator Loss: 0.5548... Generator Loss: 1.9731\n",
      "Epoch 266/300... Discriminator Loss: 0.5571... Generator Loss: 1.9544\n",
      "Epoch 267/300... Discriminator Loss: 0.5572... Generator Loss: 1.9797\n",
      "Epoch 268/300... Discriminator Loss: 0.5600... Generator Loss: 1.9746\n",
      "Epoch 269/300... Discriminator Loss: 0.5589... Generator Loss: 2.0429\n",
      "Epoch 270/300... Discriminator Loss: 0.5524... Generator Loss: 2.2680\n",
      "Epoch 271/300... Discriminator Loss: 0.5508... Generator Loss: 2.3286\n",
      "Epoch 272/300... Discriminator Loss: 0.5617... Generator Loss: 2.1195\n",
      "Epoch 273/300... Discriminator Loss: 0.5749... Generator Loss: 1.9127\n",
      "Epoch 274/300... Discriminator Loss: 0.5771... Generator Loss: 1.8628\n",
      "Epoch 275/300... Discriminator Loss: 0.5683... Generator Loss: 1.9683\n",
      "Epoch 276/300... Discriminator Loss: 0.5629... Generator Loss: 2.0649\n",
      "Epoch 277/300... Discriminator Loss: 0.5635... Generator Loss: 2.1089\n",
      "Epoch 278/300... Discriminator Loss: 0.5675... Generator Loss: 2.1010\n",
      "Epoch 279/300... Discriminator Loss: 0.5735... Generator Loss: 2.0605\n",
      "Epoch 280/300... Discriminator Loss: 0.5797... Generator Loss: 2.0350\n",
      "Epoch 281/300... Discriminator Loss: 0.5954... Generator Loss: 1.9889\n",
      "Epoch 282/300... Discriminator Loss: 0.6253... Generator Loss: 1.8649\n",
      "Epoch 283/300... Discriminator Loss: 0.6677... Generator Loss: 1.7224\n",
      "Epoch 284/300... Discriminator Loss: 0.7031... Generator Loss: 1.5929\n",
      "Epoch 285/300... Discriminator Loss: 0.7040... Generator Loss: 1.5918\n",
      "Epoch 286/300... Discriminator Loss: 0.7058... Generator Loss: 1.6119\n",
      "Epoch 287/300... Discriminator Loss: 0.7355... Generator Loss: 1.5309\n",
      "Epoch 288/300... Discriminator Loss: 0.7585... Generator Loss: 1.4408\n",
      "Epoch 289/300... Discriminator Loss: 0.7750... Generator Loss: 1.3711\n",
      "Epoch 290/300... Discriminator Loss: 0.7871... Generator Loss: 1.3104\n",
      "Epoch 291/300... Discriminator Loss: 0.7855... Generator Loss: 1.2936\n",
      "Epoch 292/300... Discriminator Loss: 0.7777... Generator Loss: 1.2972\n",
      "Epoch 293/300... Discriminator Loss: 0.7672... Generator Loss: 1.2989\n",
      "Epoch 294/300... Discriminator Loss: 0.7519... Generator Loss: 1.3128\n",
      "Epoch 295/300... Discriminator Loss: 0.7080... Generator Loss: 1.4257\n",
      "Epoch 296/300... Discriminator Loss: 0.6577... Generator Loss: 1.6197\n",
      "Epoch 297/300... Discriminator Loss: 0.6198... Generator Loss: 1.7934\n",
      "Epoch 298/300... Discriminator Loss: 0.5846... Generator Loss: 1.9955\n",
      "Epoch 299/300... Discriminator Loss: 0.5511... Generator Loss: 2.2669\n",
      "Epoch 300/300... Discriminator Loss: 0.5263... Generator Loss: 2.4940\n"
     ]
    }
   ],
   "source": [
    "samples = []\n",
    "losses = []\n",
    "with tf.Session() as sess:\n",
    "    sess.run(tf.global_variables_initializer())\n",
    "    \n",
    "    for e in range(n_epochs):\n",
    "        x_ = data.sample(M * input_size) # sampled m-batch from p_data\n",
    "        x_ = np.reshape(x_, [M, input_size])\n",
    "        z_ = gen.sample(M * z_size)  # sample m-batch from noise prior\n",
    "        z_ = np.reshape(z_, [M, z_size])\n",
    "        \n",
    "        # Run optimizers\n",
    "        _ = sess.run(d_train_opt, feed_dict={inputs_real: x_, inputs_z: z_})\n",
    "        _ = sess.run(g_train_opt, feed_dict={inputs_z: z_})\n",
    "        \n",
    "        # At the end of each epoch, get the losses and print them out\n",
    "        train_loss_d = sess.run(d_loss, {inputs_real: x_, inputs_z: z_})\n",
    "        train_loss_g = g_loss.eval({inputs_z: z_})\n",
    "        \n",
    "        print(\"Epoch {}/{}...\".format(e+1, n_epochs),\n",
    "              \"Discriminator Loss: {:.4f}...\".format(train_loss_d),\n",
    "              \"Generator Loss: {:.4f}\".format(train_loss_g))    \n",
    "        \n",
    "        # Save losses to view after training\n",
    "        losses.append((train_loss_d, train_loss_g))\n",
    "        \n",
    "        # Sample from generator as we're training for viewing afterwards\n",
    "        sample_z = gen.sample(z_size)\n",
    "        sample_z = np.reshape(sample_z, [1, z_size])\n",
    "        gen_samples = sess.run(\n",
    "                       generator(inputs_z, out_dim=input_size, n_hidden=n_hidden, reuse=True),\n",
    "                       feed_dict={inputs_z: sample_z})\n",
    "        samples.append(gen_samples)"
   ]
  },
  {
   "cell_type": "code",
   "execution_count": 13,
   "metadata": {
    "scrolled": true
   },
   "outputs": [
    {
     "data": {
      "text/plain": [
       "<matplotlib.legend.Legend at 0x1cbcc936ef0>"
      ]
     },
     "execution_count": 13,
     "metadata": {},
     "output_type": "execute_result"
    },
    {
     "data": {
      "image/png": "[encoded data removed]",
      "text/plain": [
       "<matplotlib.figure.Figure at 0x1ca7be1b358>"
      ]
     },
     "metadata": {},
     "output_type": "display_data"
    }
   ],
   "source": [
    "fig, ax = plt.subplots()\n",
    "losses = np.array(losses)\n",
    "plt.plot(losses.T[0], label='Discriminator')\n",
    "plt.plot(losses.T[1], label='Generator')\n",
    "plt.title(\"Training Losses\")\n",
    "plt.legend()"
   ]
  },
  {
   "cell_type": "code",
   "execution_count": 14,
   "metadata": {},
   "outputs": [
    {
     "name": "stdout",
     "output_type": "stream",
     "text": [
      "(1, 1000)\n"
     ]
    }
   ],
   "source": [
    "last_sample = samples[-1]\n",
    "print(last_sample.shape)"
   ]
  },
  {
   "cell_type": "code",
   "execution_count": 18,
   "metadata": {
    "scrolled": true
   },
   "outputs": [
    {
     "data": {
      "text/plain": [
       "<matplotlib.text.Text at 0x1cbd477fb00>"
      ]
     },
     "execution_count": 18,
     "metadata": {},
     "output_type": "execute_result"
    },
    {
     "data": {
      "image/png": "[encoded data removed]",
      "text/plain": [
       "<matplotlib.figure.Figure at 0x1cbd442fd30>"
      ]
     },
     "metadata": {},
     "output_type": "display_data"
    }
   ],
   "source": [
    "plt.hist(last_sample.T, bins=100)\n",
    "plt.title('last generated sample at trainig')"
   ]
  }
 ],
 "metadata": {
  "kernelspec": {
   "display_name": "Python 3",
   "language": "python",
   "name": "python3"
  },
  "language_info": {
   "codemirror_mode": {
    "name": "ipython",
    "version": 3
   },
   "file_extension": ".py",
   "mimetype": "text/x-python",
   "name": "python",
   "nbconvert_exporter": "python",
   "pygments_lexer": "ipython3",
   "version": "3.5.3"
  }
 },
 "nbformat": 4,
 "nbformat_minor": 2
}
