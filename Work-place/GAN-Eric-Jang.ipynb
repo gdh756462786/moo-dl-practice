{
 "cells": [
  {
   "cell_type": "code",
   "execution_count": 1,
   "metadata": {
    "collapsed": true
   },
   "outputs": [],
   "source": [
    "import tensorflow as tf\n",
    "import numpy as np\n",
    "import matplotlib.pyplot as plt\n",
    "from scipy.stats import norm\n",
    "%matplotlib inline"
   ]
  },
  {
   "cell_type": "code",
   "execution_count": 2,
   "metadata": {},
   "outputs": [
    {
     "name": "stdout",
     "output_type": "stream",
     "text": [
      "[-5.         -4.98998999 -4.97997998 -4.96996997 -4.95995996] [ 4.95995996  4.96996997  4.97997998  4.98998999  5.        ]\n"
     ]
    },
    {
     "data": {
      "text/plain": [
       "[<matplotlib.lines.Line2D at 0x1ccf335f0f0>]"
      ]
     },
     "execution_count": 2,
     "metadata": {},
     "output_type": "execute_result"
    },
    {
     "data": {
      "image/png": "[encoded data removed]",
      "text/plain": [
       "<matplotlib.figure.Figure at 0x1ccf166dd30>"
      ]
     },
     "metadata": {},
     "output_type": "display_data"
    }
   ],
   "source": [
    "mu, sigma = -1, 1\n",
    "xs = np.linspace(-5, 5, 1000)\n",
    "print(xs[:5], xs[-5:])\n",
    "plt.plot(xs, norm.pdf(xs, loc=mu, scale=sigma))"
   ]
  },
  {
   "cell_type": "code",
   "execution_count": 3,
   "metadata": {
    "collapsed": true
   },
   "outputs": [],
   "source": [
    "TRAIN_ITERS = 10000\n",
    "M = 200 # minibatch size"
   ]
  },
  {
   "cell_type": "code",
   "execution_count": 4,
   "metadata": {
    "collapsed": true
   },
   "outputs": [],
   "source": [
    "# MLP - used for D_pre, D1, D2, G networks\n",
    "def mlp(inputs, output_dim):\n",
    "    # construct learnable parameters within local scope\n",
    "    w0 = tf.get_variable(\"w0\", [inputs.get_shape()[1], 6], initializer=tf.random_normal_initializer())\n",
    "    b0 = tf.get_variable(\"b0\", [6], initializer=tf.constant_initializer(0.0))\n",
    "    w1 = tf.get_variable(\"w1\", [6, 5], initializer=tf.random_normal_initializer())\n",
    "    b1 = tf.get_variable(\"b1\", [5], initializer=tf.constant_initializer(0.0))\n",
    "    w2 = tf.get_variable(\"w2\", [5,output_dim], initializer=tf.random_normal_initializer())\n",
    "    b2 = tf.get_variable(\"b2\", [output_dim], initializer=tf.constant_initializer(0.0))\n",
    "    \n",
    "    print(w0.name)\n",
    "    print(b0.name)\n",
    "    \n",
    "    # nn operators\n",
    "    fc0 = tf.nn.tanh(tf.matmul(inputs, w0) + b0)\n",
    "    fc1 = tf.nn.tanh(tf.matmul(fc0, w1) + b1)\n",
    "    fc2 = tf.nn.tanh(tf.matmul(fc1, w2) + b2)\n",
    "    \n",
    "    print(fc0.name)\n",
    "    print(fc1.name)\n",
    "    print(fc2.name)\n",
    "    return fc2, [w0, b0, w1, b1, w2, b2]"
   ]
  },
  {
   "cell_type": "code",
   "execution_count": 5,
   "metadata": {
    "collapsed": true
   },
   "outputs": [],
   "source": [
    "# re-used for optimizing all networks\n",
    "def momentum_optimizer(loss, var_list):\n",
    "    batch = tf.Variable(0)\n",
    "    learning_rate = tf.train.exponential_decay(\n",
    "        0.001,  # Base learning rate.\n",
    "        batch,  # Current index into the dataset.\n",
    "        TRAIN_ITERS // 4,  # Decay step - this decays 4 times throughout training process.\n",
    "        0.95,   # Decay rate.\n",
    "        staircase=True)\n",
    "    #optimizer=tf.train.GradientDescentOptimizer(learning_rate).minimize(loss,global_step=batch,var_list=var_list)\n",
    "    optimizer = tf.train.MomentumOptimizer(learning_rate, 0.6).minimize(loss, global_step=batch, var_list=var_list)\n",
    "    return optimizer"
   ]
  },
  {
   "cell_type": "markdown",
   "metadata": {},
   "source": [
    "### Pre-train Decision surface"
   ]
  },
  {
   "cell_type": "code",
   "execution_count": 6,
   "metadata": {},
   "outputs": [
    {
     "name": "stdout",
     "output_type": "stream",
     "text": [
      "D_pre/Placeholder:0\n",
      "D_pre/Placeholder_1:0\n",
      "D_pre/w0:0\n",
      "D_pre/b0:0\n",
      "D_pre/Tanh:0\n",
      "D_pre/Tanh_1:0\n",
      "D_pre/Tanh_2:0\n"
     ]
    }
   ],
   "source": [
    "with tf.variable_scope(\"D_pre\"):\n",
    "    input_node = tf.placeholder(tf.float32, shape=(M, 1))\n",
    "    print(input_node.name)\n",
    "    train_labels = tf.placeholder(tf.float32, shape=(M, 1))\n",
    "    print(train_labels.name)\n",
    "    D, theta = mlp(input_node, 1)\n",
    "    loss = tf.reduce_mean(tf.square(D - train_labels))"
   ]
  },
  {
   "cell_type": "code",
   "execution_count": 7,
   "metadata": {},
   "outputs": [
    {
     "name": "stdout",
     "output_type": "stream",
     "text": [
      "Momentum\n"
     ]
    }
   ],
   "source": [
    "optimizer = momentum_optimizer(loss, None)\n",
    "print(optimizer.name)"
   ]
  },
  {
   "cell_type": "code",
   "execution_count": 8,
   "metadata": {
    "collapsed": true
   },
   "outputs": [],
   "source": [
    "sess = tf.InteractiveSession()\n",
    "tf.global_variables_initializer().run()"
   ]
  },
  {
   "cell_type": "code",
   "execution_count": 9,
   "metadata": {
    "collapsed": true
   },
   "outputs": [],
   "source": [
    "# plot decision surface\n",
    "def plot_d0(D, input_node):\n",
    "    print(input_node.name)\n",
    "    f, ax = plt.subplots(1)\n",
    "    r = 1000 # resolution (number of points)\n",
    "    \n",
    "    # p_data\n",
    "    xs = np.linspace(-5, 5, r)\n",
    "    ax.plot(xs, norm.pdf(xs, loc=mu, scale=sigma), label='p_data')\n",
    "    # decision boundary\n",
    "    \n",
    "    xs = np.linspace(-5, 5, r)\n",
    "    ds = np.zeros((r, 1)) # decision surface\n",
    "    \n",
    "    # process multiple points in parallel in a minibatch\n",
    "    for i in range(r//M):\n",
    "        x = np.reshape(xs[M*i:M*(i+1)], (M, 1))\n",
    "        ds[M*i:M*(i+1)] = sess.run(D, {input_node: x})\n",
    "\n",
    "    ax.plot(xs, ds, label='decision boundary')\n",
    "    ax.set_ylim(0, 1.1)\n",
    "    plt.legend()"
   ]
  },
  {
   "cell_type": "code",
   "execution_count": 10,
   "metadata": {},
   "outputs": [
    {
     "name": "stdout",
     "output_type": "stream",
     "text": [
      "D_pre/Tanh_2:0\n",
      "D_pre/Placeholder:0\n",
      "D_pre/Placeholder:0\n"
     ]
    },
    {
     "data": {
      "text/plain": [
       "<matplotlib.text.Text at 0x1ccf35a0908>"
      ]
     },
     "execution_count": 10,
     "metadata": {},
     "output_type": "execute_result"
    },
    {
     "data": {
      "image/png": "[encoded data removed]",
      "text/plain": [
       "<matplotlib.figure.Figure at 0x1ccf3580f28>"
      ]
     },
     "metadata": {},
     "output_type": "display_data"
    }
   ],
   "source": [
    "print(D.name)\n",
    "print(input_node.name)\n",
    "plot_d0(D, input_node)\n",
    "plt.title('Initial Decision Boundary')"
   ]
  },
  {
   "cell_type": "code",
   "execution_count": 11,
   "metadata": {
    "collapsed": true
   },
   "outputs": [],
   "source": [
    "lh = np.zeros(1000)\n",
    "for i in range(1000):\n",
    "    #d=np.random.normal(mu,sigma,M)\n",
    "    d = (np.random.random(M) - 0.5) * 10.0 # instead of sampling only from gaussian, want the domain to be covered as uniformly as possible\n",
    "    labels = norm.pdf(d, loc=mu, scale=sigma)\n",
    "    lh[i], _ = sess.run([loss, optimizer], {input_node: np.reshape(d, [M, 1]), train_labels: np.reshape(labels, [M, 1])})"
   ]
  },
  {
   "cell_type": "code",
   "execution_count": 12,
   "metadata": {},
   "outputs": [
    {
     "data": {
      "text/plain": [
       "<matplotlib.text.Text at 0x1cc87661ac8>"
      ]
     },
     "execution_count": 12,
     "metadata": {},
     "output_type": "execute_result"
    },
    {
     "data": {
      "image/png": "[encoded data removed]",
      "text/plain": [
       "<matplotlib.figure.Figure at 0x1ccf357f940>"
      ]
     },
     "metadata": {},
     "output_type": "display_data"
    }
   ],
   "source": [
    "# training loss\n",
    "plt.plot(lh)\n",
    "plt.title('Training Loss')"
   ]
  },
  {
   "cell_type": "code",
   "execution_count": 13,
   "metadata": {},
   "outputs": [
    {
     "name": "stdout",
     "output_type": "stream",
     "text": [
      "D_pre/Placeholder:0\n"
     ]
    },
    {
     "data": {
      "image/png": "[encoded data removed]",
      "text/plain": [
       "<matplotlib.figure.Figure at 0x1cc8765b240>"
      ]
     },
     "metadata": {},
     "output_type": "display_data"
    }
   ],
   "source": [
    "plot_d0(D, input_node)"
   ]
  },
  {
   "cell_type": "code",
   "execution_count": 14,
   "metadata": {
    "collapsed": true
   },
   "outputs": [],
   "source": [
    "# copy the learned weights over into a tmp array\n",
    "weightsD = sess.run(theta)"
   ]
  },
  {
   "cell_type": "code",
   "execution_count": 15,
   "metadata": {
    "collapsed": true
   },
   "outputs": [],
   "source": [
    "# close the pre-training session\n",
    "sess.close()"
   ]
  },
  {
   "cell_type": "markdown",
   "metadata": {},
   "source": [
    "### Build Net\n",
    "* actual generative adversarial network"
   ]
  },
  {
   "cell_type": "code",
   "execution_count": 16,
   "metadata": {},
   "outputs": [
    {
     "name": "stdout",
     "output_type": "stream",
     "text": [
      "G/w0:0\n",
      "G/b0:0\n",
      "G/Tanh:0\n",
      "G/Tanh_1:0\n",
      "G/Tanh_2:0\n"
     ]
    }
   ],
   "source": [
    "with tf.variable_scope(\"G\"):\n",
    "    z_node = tf.placeholder(tf.float32, shape=[M, 1]) # M uniform01 floats\n",
    "    G, theta_g = mlp(z_node, 1) # generate normal transformation of Z\n",
    "    G = tf.multiply(5.0, G) # scale up by 5 to match range"
   ]
  },
  {
   "cell_type": "code",
   "execution_count": 17,
   "metadata": {},
   "outputs": [
    {
     "name": "stdout",
     "output_type": "stream",
     "text": [
      "D/w0:0\n",
      "D/b0:0\n",
      "D/Tanh:0\n",
      "D/Tanh_1:0\n",
      "D/Tanh_2:0\n",
      "D/w0:0\n",
      "D/b0:0\n",
      "D/Tanh_3:0\n",
      "D/Tanh_4:0\n",
      "D/Tanh_5:0\n"
     ]
    }
   ],
   "source": [
    "with tf.variable_scope(\"D\") as scope:\n",
    "    # D(x)\n",
    "    x_node = tf.placeholder(tf.float32, shape=[M,1]) # input M normally distributed floats\n",
    "    fc, theta_d = mlp(x_node, 1) # output likelihood of being normally distributed\n",
    "    D1 = tf.maximum(tf.minimum(fc, 0.99), 0.01) # clamp as a probability\n",
    "    # make a copy of D that uses the same variables, but takes in G as input\n",
    "    scope.reuse_variables()\n",
    "    fc, theta_d = mlp(G, 1)\n",
    "    D2 = tf.maximum(tf.minimum(fc, 0.99), 0.01)"
   ]
  },
  {
   "cell_type": "code",
   "execution_count": 18,
   "metadata": {
    "collapsed": true
   },
   "outputs": [],
   "source": [
    "obj_d = tf.reduce_mean(tf.log(D1)+tf.log(1-D2))\n",
    "obj_g = tf.reduce_mean(tf.log(D2))"
   ]
  },
  {
   "cell_type": "code",
   "execution_count": 19,
   "metadata": {
    "collapsed": true
   },
   "outputs": [],
   "source": [
    "# set up optimizer for G,D\n",
    "opt_d = momentum_optimizer(1-obj_d, theta_d)\n",
    "opt_g = momentum_optimizer(1-obj_g, theta_g) # maximize log(D(G(z)))"
   ]
  },
  {
   "cell_type": "code",
   "execution_count": 20,
   "metadata": {
    "collapsed": true
   },
   "outputs": [],
   "source": [
    "sess = tf.InteractiveSession()\n",
    "tf.global_variables_initializer().run()"
   ]
  },
  {
   "cell_type": "code",
   "execution_count": 21,
   "metadata": {
    "collapsed": true
   },
   "outputs": [],
   "source": [
    "# copy weights from pre-training over to new D network\n",
    "for i,v in enumerate(theta_d):\n",
    "    sess.run(v.assign(weightsD[i]))"
   ]
  },
  {
   "cell_type": "code",
   "execution_count": 22,
   "metadata": {
    "collapsed": true
   },
   "outputs": [],
   "source": [
    "def plot_fig():\n",
    "    # plots pg, pdata, decision boundary \n",
    "    f,ax=plt.subplots(1)\n",
    "    # p_data\n",
    "    xs = np.linspace(-5, 5, 1000)\n",
    "    ax.plot(xs, norm.pdf(xs, loc=mu, scale=sigma), label='p_data')\n",
    "\n",
    "    # decision boundary\n",
    "    r = 5000 # resolution (number of points)\n",
    "    xs=np.linspace(-5, 5, r)\n",
    "    ds=np.zeros((r, 1)) # decision surface\n",
    "    # process multiple points in parallel in same minibatch\n",
    "    for i in range(r//M):\n",
    "        x=np.reshape(xs[M*i:M*(i+1)],(M,1))\n",
    "        ds[M*i:M*(i+1)]=sess.run(D1, {x_node: x})\n",
    "\n",
    "    ax.plot(xs, ds, label='decision boundary')\n",
    "\n",
    "    # distribution of inverse-mapped points\n",
    "    zs=np.linspace(-5, 5, r)\n",
    "    gs=np.zeros((r, 1)) # generator function\n",
    "    for i in range(r//M):\n",
    "        z=np.reshape(zs[M*i:M*(i+1)],(M,1))\n",
    "        gs[M*i:M*(i+1)]=sess.run(G, {z_node: z})\n",
    "    histc, edges = np.histogram(gs, bins = 10)\n",
    "    ax.plot(np.linspace(-5, 5, 10), histc/float(r), label='p_g')\n",
    "\n",
    "    # ylim, legend\n",
    "    ax.set_ylim(0,1.1)\n",
    "    plt.legend()"
   ]
  },
  {
   "cell_type": "code",
   "execution_count": 23,
   "metadata": {},
   "outputs": [
    {
     "data": {
      "text/plain": [
       "<matplotlib.text.Text at 0x1cc994bd2e8>"
      ]
     },
     "execution_count": 23,
     "metadata": {},
     "output_type": "execute_result"
    },
    {
     "data": {
      "image/png": "[encoded data removed]",
      "text/plain": [
       "<matplotlib.figure.Figure at 0x1cc99320438>"
      ]
     },
     "metadata": {},
     "output_type": "display_data"
    }
   ],
   "source": [
    "# initial conditions\n",
    "plot_fig()\n",
    "plt.title('Before Training')"
   ]
  },
  {
   "cell_type": "code",
   "execution_count": 24,
   "metadata": {},
   "outputs": [
    {
     "name": "stdout",
     "output_type": "stream",
     "text": [
      "0.0\n",
      "0.1\n",
      "0.2\n",
      "0.3\n",
      "0.4\n",
      "0.5\n",
      "0.6\n",
      "0.7\n",
      "0.8\n",
      "0.9\n"
     ]
    }
   ],
   "source": [
    "# Algorithm 1 of Goodfellow et al 2014\n",
    "k = 1\n",
    "histd, histg = np.zeros(TRAIN_ITERS), np.zeros(TRAIN_ITERS)\n",
    "for i in range(TRAIN_ITERS):\n",
    "    for j in range(k):\n",
    "        x = np.random.normal(mu, sigma, M) # sampled m-batch from p_data\n",
    "        x.sort()\n",
    "        z = np.linspace(-5.0, 5.0, M) + np.random.random(M)*0.01  # sample m-batch from noise prior\n",
    "        histd[i], _ = sess.run([obj_d, opt_d], {x_node: np.reshape(x, [M,1]), z_node: np.reshape(z, [M,1])})\n",
    "    z = np.linspace(-5.0, 5.0, M) + np.random.random(M)*0.01 # sample noise prior\n",
    "    histg[i], _ = sess.run([obj_g, opt_g], {z_node: np.reshape(z, [M,1])}) # update generator\n",
    "    if i % (TRAIN_ITERS//10) == 0:\n",
    "        print(float(i)/float(TRAIN_ITERS))"
   ]
  },
  {
   "cell_type": "code",
   "execution_count": 25,
   "metadata": {},
   "outputs": [
    {
     "data": {
      "text/plain": [
       "<matplotlib.legend.Legend at 0x1cc993a84a8>"
      ]
     },
     "execution_count": 25,
     "metadata": {},
     "output_type": "execute_result"
    },
    {
     "data": {
      "image/png": "[encoded data removed]",
      "text/plain": [
       "<matplotlib.figure.Figure at 0x1cc99358eb8>"
      ]
     },
     "metadata": {},
     "output_type": "display_data"
    }
   ],
   "source": [
    "plt.plot(range(TRAIN_ITERS), histd, label='obj_d')\n",
    "plt.plot(range(TRAIN_ITERS), 1-histg, label='obj_g')\n",
    "plt.legend()"
   ]
  },
  {
   "cell_type": "code",
   "execution_count": 26,
   "metadata": {},
   "outputs": [
    {
     "data": {
      "image/png": "[encoded data removed]",
      "text/plain": [
       "<matplotlib.figure.Figure at 0x1cc993581d0>"
      ]
     },
     "metadata": {},
     "output_type": "display_data"
    }
   ],
   "source": [
    "plot_fig()"
   ]
  },
  {
   "cell_type": "code",
   "execution_count": null,
   "metadata": {
    "collapsed": true
   },
   "outputs": [],
   "source": []
  }
 ],
 "metadata": {
  "kernelspec": {
   "display_name": "Python 3",
   "language": "python",
   "name": "python3"
  },
  "language_info": {
   "codemirror_mode": {
    "name": "ipython",
    "version": 3
   },
   "file_extension": ".py",
   "mimetype": "text/x-python",
   "name": "python",
   "nbconvert_exporter": "python",
   "pygments_lexer": "ipython3",
   "version": "3.5.3"
  }
 },
 "nbformat": 4,
 "nbformat_minor": 2
}
