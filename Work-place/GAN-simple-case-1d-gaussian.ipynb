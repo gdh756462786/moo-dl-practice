{
 "cells": [
  {
   "cell_type": "code",
   "execution_count": 1,
   "metadata": {
    "collapsed": true
   },
   "outputs": [],
   "source": [
    "import numpy as np\n",
    "import tensorflow as tf\n",
    "import matplotlib.pyplot as plt\n",
    "from scipy.stats import norm\n",
    "%matplotlib inline"
   ]
  },
  {
   "cell_type": "code",
   "execution_count": 2,
   "metadata": {
    "scrolled": true
   },
   "outputs": [
    {
     "data": {
      "text/plain": [
       "[<matplotlib.lines.Line2D at 0x21ec99f4ef0>]"
      ]
     },
     "execution_count": 2,
     "metadata": {},
     "output_type": "execute_result"
    },
    {
     "data": {
      "image/png": "[encoded data removed]",
      "text/plain": [
       "<matplotlib.figure.Figure at 0x21ebf210f60>"
      ]
     },
     "metadata": {},
     "output_type": "display_data"
    }
   ],
   "source": [
    "xs = np.linspace(-5, 5, 1000)\n",
    "plt.plot(xs, norm.pdf(xs, loc=-1, scale=1.0))"
   ]
  },
  {
   "cell_type": "code",
   "execution_count": 3,
   "metadata": {
    "collapsed": true
   },
   "outputs": [],
   "source": [
    "class DataDistribution(object):\n",
    "    def __init__(self, mu, sigma):\n",
    "        self.mu = mu\n",
    "        self.sigma = sigma\n",
    "\n",
    "    def sample(self, N):\n",
    "        samples = np.random.normal(self.mu, self.sigma, N)\n",
    "        samples.sort()\n",
    "        return samples"
   ]
  },
  {
   "cell_type": "code",
   "execution_count": 4,
   "metadata": {
    "collapsed": true
   },
   "outputs": [],
   "source": [
    "class GeneratorDistribution(object):\n",
    "    def __init__(self, range):\n",
    "        self.range = range\n",
    "\n",
    "    def sample(self, N):\n",
    "        return np.linspace(-self.range, self.range, N) + np.random.random(N) * 0.01"
   ]
  },
  {
   "cell_type": "code",
   "execution_count": 5,
   "metadata": {
    "collapsed": true
   },
   "outputs": [],
   "source": [
    "def nn_layer(x, n_hidden=16):\n",
    "    x_dim = x.get_shape()[1]\n",
    "    w_init = tf.truncated_normal_initializer(stddev=2.0)\n",
    "    #w_init = tf.random_normal_initializer()\n",
    "    \n",
    "    # 1st layer\n",
    "    w0 = tf.get_variable(\"w0\", [x_dim, n_hidden], initializer=w_init)\n",
    "    b0 = tf.get_variable(\"b0\", [n_hidden], initializer=tf.constant_initializer(0.0))\n",
    "    #l0 = tf.nn.relu(tf.matmul(x, w0) + b0)\n",
    "    l0 = tf.nn.tanh(tf.matmul(x, w0) + b0)\n",
    "    \n",
    "    # 2nd layer\n",
    "    w1 = tf.get_variable(\"w1\", [n_hidden, n_hidden], initializer=w_init)\n",
    "    b1 = tf.get_variable(\"b1\", [n_hidden], initializer=tf.constant_initializer(0.0))\n",
    "    #l1 = tf.nn.relu(tf.matmul(l0, w1) + b1)\n",
    "    l1 = tf.nn.tanh(tf.matmul(l0, w1) + b1)\n",
    "    \n",
    "    # output layer\n",
    "    w2 = tf.get_variable(\"w2\", [n_hidden, 1], initializer=w_init)\n",
    "    b2 = tf.get_variable(\"b2\", [1], initializer=tf.constant_initializer(0.0))\n",
    "    #lo = tf.sigmoid( tf.matmul(l1, w2) + b2 )\n",
    "    lo = tf.tanh( tf.matmul(l1, w2) + b2 )\n",
    "    \n",
    "    return lo"
   ]
  },
  {
   "cell_type": "code",
   "execution_count": 6,
   "metadata": {
    "collapsed": true
   },
   "outputs": [],
   "source": [
    "def optimizer(loss, var_list, initial_learning_rate):\n",
    "    num_decay_steps = 400\n",
    "    decay = 0.95\n",
    "    batch = tf.Variable(0)\n",
    "    learning_rate = tf.train.exponential_decay(\n",
    "        initial_learning_rate,\n",
    "        batch,\n",
    "        num_decay_steps,\n",
    "        decay,\n",
    "        staircase=True)\n",
    "#     optimizer = tf.train.GradientDescentOptimizer(learning_rate).minimize(\n",
    "#         loss,\n",
    "#         global_step=batch,\n",
    "#         var_list=var_list\n",
    "#     )\n",
    "    optimizer = tf.train.MomentumOptimizer(learning_rate, 0.6).minimize(loss, global_step=batch, var_list=var_list)\n",
    "    return optimizer"
   ]
  },
  {
   "cell_type": "markdown",
   "metadata": {},
   "source": [
    "# Pre-training session"
   ]
  },
  {
   "cell_type": "code",
   "execution_count": 7,
   "metadata": {
    "collapsed": true
   },
   "outputs": [],
   "source": [
    "# parameters\n",
    "mu, sigma = -1, 1\n",
    "learning_rate = 0.05 #0.03\n",
    "n_initial_trainig_epochs = 1000\n",
    "n_epochs = 6000\n",
    "M = 300 # batch size"
   ]
  },
  {
   "cell_type": "code",
   "execution_count": 8,
   "metadata": {
    "collapsed": true
   },
   "outputs": [],
   "source": [
    "def plot_fig(D, x, G=None, z=None):\n",
    "    # plots pg, pdata, decision boundary \n",
    "    f, ax = plt.subplots(1)\n",
    "    # p_data\n",
    "    xs = np.linspace(-5, 5, 1000)\n",
    "    ax.plot(xs, norm.pdf(xs, loc=mu, scale=sigma), label='p_data')\n",
    "\n",
    "    # decision boundary\n",
    "    r = 5000 # resolution (number of points)\n",
    "    xs = np.linspace(-5, 5, r)\n",
    "    ds = np.zeros([r, 1]) # decision surface\n",
    "    # process multiple points in parallel in same minibatch\n",
    "    for i in range(r//M):\n",
    "        x_ = np.reshape(xs[M*i:M*(i+1)], [M,1])\n",
    "        ds[M*i:M*(i+1)] = sess.run(D, {x: x_})\n",
    "    ax.plot(xs, ds, label='decision boundary')\n",
    "    \n",
    "    # distribution of inverse-mapped points\n",
    "    if G is not None:\n",
    "        zs = np.linspace(-5, 5, r)\n",
    "        gs = np.zeros([r, 1]) # generator function\n",
    "        for i in range(r//M):\n",
    "            z_ = np.reshape(zs[M*i:M*(i+1)], [M,1])\n",
    "            gs[M*i:M*(i+1)] = sess.run(G, {z: z_})\n",
    "        histc, edges = np.histogram(gs, bins = 10)\n",
    "        ax.plot(np.linspace(-5, 5, 10), histc/float(r), label='p_g')\n",
    "\n",
    "    # ylim, legend\n",
    "    ax.set_ylim(0,1.1)\n",
    "    plt.legend()"
   ]
  },
  {
   "cell_type": "code",
   "execution_count": 9,
   "metadata": {
    "collapsed": true
   },
   "outputs": [],
   "source": [
    "with tf.variable_scope('P'):\n",
    "    input_node = tf.placeholder(tf.float32, shape=[None, 1], name='inputs')\n",
    "    train_labels = tf.placeholder(tf.float32, shape=[None, 1], name='targets')\n",
    "    P = nn_layer(input_node)\n",
    "    P_loss = tf.reduce_mean(tf.square(P - train_labels))\n",
    "\n",
    "#P_optimizer = optimizer(P_loss, None, learning_rate)\n",
    "P_params = tf.get_collection(tf.GraphKeys.TRAINABLE_VARIABLES, scope='P')\n",
    "P_optimizer = optimizer(P_loss, P_params, learning_rate)"
   ]
  },
  {
   "cell_type": "code",
   "execution_count": 10,
   "metadata": {
    "collapsed": true
   },
   "outputs": [],
   "source": [
    "# open session and initialize all variables\n",
    "sess = tf.InteractiveSession()\n",
    "tf.global_variables_initializer().run()"
   ]
  },
  {
   "cell_type": "code",
   "execution_count": 11,
   "metadata": {},
   "outputs": [
    {
     "data": {
      "text/plain": [
       "<matplotlib.text.Text at 0x21ec9c3f4a8>"
      ]
     },
     "execution_count": 11,
     "metadata": {},
     "output_type": "execute_result"
    },
    {
     "data": {
      "image/png": "[encoded data removed]",
      "text/plain": [
       "<matplotlib.figure.Figure at 0x21ec9bebfd0>"
      ]
     },
     "metadata": {},
     "output_type": "display_data"
    }
   ],
   "source": [
    "plot_fig(P, input_node)\n",
    "plt.title('Initial Decision Boundary')"
   ]
  },
  {
   "cell_type": "code",
   "execution_count": 12,
   "metadata": {},
   "outputs": [],
   "source": [
    "lh = np.zeros(n_initial_trainig_epochs)\n",
    "for i in range(n_initial_trainig_epochs):\n",
    "    #d=np.random.normal(mu,sigma,M)\n",
    "    x_ = (np.random.random(M) - 0.5) * 10.0 # instead of sampling only from gaussian, want the domain to be covered as uniformly as possible\n",
    "    x_.sort()\n",
    "    y_ = norm.pdf(x_, loc=mu, scale=sigma)\n",
    "    x_ = np.reshape(x_, [M, 1])\n",
    "    y_ = np.reshape(y_, [M, 1])\n",
    "    lh[i], _ = sess.run([P_loss, P_optimizer], {input_node: x_, train_labels: y_})"
   ]
  },
  {
   "cell_type": "code",
   "execution_count": 13,
   "metadata": {
    "scrolled": true
   },
   "outputs": [
    {
     "data": {
      "text/plain": [
       "<matplotlib.text.Text at 0x21edce7fdd8>"
      ]
     },
     "execution_count": 13,
     "metadata": {},
     "output_type": "execute_result"
    },
    {
     "data": {
      "image/png": "[encoded data removed]",
      "text/plain": [
       "<matplotlib.figure.Figure at 0x21edce2cc88>"
      ]
     },
     "metadata": {},
     "output_type": "display_data"
    }
   ],
   "source": [
    "# training loss\n",
    "plt.plot(lh)\n",
    "plt.title('Training Loss')"
   ]
  },
  {
   "cell_type": "code",
   "execution_count": 14,
   "metadata": {},
   "outputs": [
    {
     "data": {
      "image/png": "[encoded data removed]",
      "text/plain": [
       "<matplotlib.figure.Figure at 0x21edceca0b8>"
      ]
     },
     "metadata": {},
     "output_type": "display_data"
    }
   ],
   "source": [
    "plot_fig(P, input_node)"
   ]
  },
  {
   "cell_type": "code",
   "execution_count": 15,
   "metadata": {
    "collapsed": true
   },
   "outputs": [],
   "source": [
    "# copy the learned weights over into a tmp array\n",
    "P_params = tf.get_collection(tf.GraphKeys.TRAINABLE_VARIABLES, scope='P')\n",
    "weights_P = sess.run(P_params)"
   ]
  },
  {
   "cell_type": "code",
   "execution_count": 16,
   "metadata": {
    "collapsed": true
   },
   "outputs": [],
   "source": [
    "sess.close()"
   ]
  },
  {
   "cell_type": "markdown",
   "metadata": {},
   "source": [
    "# Build Net"
   ]
  },
  {
   "cell_type": "code",
   "execution_count": 17,
   "metadata": {},
   "outputs": [],
   "source": [
    "with tf.variable_scope('G'):\n",
    "    z = tf.placeholder(tf.float32, shape=[None, 1], name='inputs')\n",
    "    G = nn_layer(z)\n",
    "    #G = tf.multiply(5.0, G) # scale up by 5 to match range"
   ]
  },
  {
   "cell_type": "code",
   "execution_count": 18,
   "metadata": {},
   "outputs": [],
   "source": [
    "with tf.variable_scope('D') as scope:\n",
    "    x = tf.placeholder(tf.float32, shape=[None, 1], name='inputs')\n",
    "    D_real = nn_layer(x)\n",
    "    # clamp as a probability\n",
    "    D_real = tf.maximum(tf.minimum(D_real, 0.99), 0.01)\n",
    "    \n",
    "    scope.reuse_variables()\n",
    "    D_fake = nn_layer(G)\n",
    "    # clamp as a probability\n",
    "    D_fake = tf.maximum(tf.minimum(D_fake, 0.99), 0.01)"
   ]
  },
  {
   "cell_type": "code",
   "execution_count": 19,
   "metadata": {},
   "outputs": [],
   "source": [
    "# loss for each network\n",
    "D_loss = tf.reduce_mean(-tf.log(D_real) - tf.log(1 - D_fake))\n",
    "G_loss = tf.reduce_mean(-tf.log(D_fake))\n",
    "#D_loss = tf.reduce_mean(tf.log(D_real) + tf.log(1 - D_fake))\n",
    "#G_loss = tf.reduce_mean(tf.log(D_fake))"
   ]
  },
  {
   "cell_type": "code",
   "execution_count": 20,
   "metadata": {},
   "outputs": [],
   "source": [
    "# trainable variables for each network\n",
    "D_params = tf.get_collection(tf.GraphKeys.TRAINABLE_VARIABLES, scope='D')\n",
    "G_params = tf.get_collection(tf.GraphKeys.TRAINABLE_VARIABLES, scope='G')"
   ]
  },
  {
   "cell_type": "code",
   "execution_count": 21,
   "metadata": {
    "collapsed": true
   },
   "outputs": [],
   "source": [
    "# optimizer for each network\n",
    "D_optimizer = optimizer(D_loss, D_params, learning_rate)\n",
    "G_optimizer = optimizer(G_loss, G_params, learning_rate)\n",
    "#D_optimizer = optimizer(1-D_loss, D_params, learning_rate)\n",
    "#G_optimizer = optimizer(1-G_loss, G_params, learning_rate)"
   ]
  },
  {
   "cell_type": "code",
   "execution_count": 22,
   "metadata": {
    "collapsed": true
   },
   "outputs": [],
   "source": [
    "sess = tf.InteractiveSession()\n",
    "tf.global_variables_initializer().run()"
   ]
  },
  {
   "cell_type": "code",
   "execution_count": 23,
   "metadata": {
    "collapsed": true
   },
   "outputs": [],
   "source": [
    "# copy weights from pre-training over to new D network\n",
    "for i, v in enumerate(D_params):\n",
    "    sess.run(v.assign(weights_P[i]))"
   ]
  },
  {
   "cell_type": "code",
   "execution_count": 24,
   "metadata": {},
   "outputs": [
    {
     "data": {
      "text/plain": [
       "<matplotlib.text.Text at 0x21eef4e9358>"
      ]
     },
     "execution_count": 24,
     "metadata": {},
     "output_type": "execute_result"
    },
    {
     "data": {
      "image/png": "[encoded data removed]",
      "text/plain": [
       "<matplotlib.figure.Figure at 0x21eef4b3860>"
      ]
     },
     "metadata": {},
     "output_type": "display_data"
    }
   ],
   "source": [
    "# initial conditions\n",
    "plot_fig(D_real, x, G, z)\n",
    "plt.title('Before Training')"
   ]
  },
  {
   "cell_type": "code",
   "execution_count": 25,
   "metadata": {},
   "outputs": [
    {
     "name": "stdout",
     "output_type": "stream",
     "text": [
      "0.0\n",
      "0.1\n",
      "0.2\n",
      "0.3\n",
      "0.4\n",
      "0.5\n",
      "0.6\n",
      "0.7\n",
      "0.8\n",
      "0.9\n"
     ]
    }
   ],
   "source": [
    "# # Algorithm 1 of Goodfellow et al 2014\n",
    "# print_step = n_epochs // 10\n",
    "# histd, histg = np.zeros(n_epochs), np.zeros(n_epochs)\n",
    "# for i in range(n_epochs):\n",
    "#     x_ = np.random.normal(mu, sigma, M) # sampled m-batch from p_data\n",
    "#     x_.sort()\n",
    "#     x_ = np.reshape(x_, [M, 1])\n",
    "#     z_ = np.linspace(-5.0, 5.0, M) + np.random.random(M) * 0.01  # sample m-batch from noise prior\n",
    "#     z_ = np.reshape(z_, [M, 1])\n",
    "#     histd[i], _ = sess.run([D_loss, D_optimizer], {x: x_, z: z_})\n",
    "    \n",
    "#     z_ = np.linspace(-5.0, 5.0, M) + np.random.random(M) * 0.01 # sample noise prior\n",
    "#     z_ = np.reshape(z_, [M, 1])\n",
    "#     histg[i], _ = sess.run([G_loss, G_optimizer], {z: z_}) # update generator\n",
    "#     if i % print_step == 0:\n",
    "#         print(float(i)/float(n_epochs))\n",
    "\n",
    "# test2\n",
    "data = DataDistribution(mu, sigma)\n",
    "gen = GeneratorDistribution(5)\n",
    "print_step = n_epochs // 10\n",
    "histd, histg = np.zeros(n_epochs), np.zeros(n_epochs)\n",
    "for i in range(n_epochs):\n",
    "    x_ = data.sample(M) # sampled m-batch from p_data\n",
    "    x_ = np.reshape(x_, [M, 1])\n",
    "    z_ = gen.sample(M)  # sample m-batch from noise prior\n",
    "    z_ = np.reshape(z_, [M, 1])\n",
    "    histd[i], _ = sess.run([D_loss, D_optimizer], {x: x_, z: z_})\n",
    "    \n",
    "    z_ = gen.sample(M)  # sample m-batch from noise prior\n",
    "    z_ = np.reshape(z_, [M, 1])\n",
    "    histg[i], _ = sess.run([G_loss, G_optimizer], {z: z_}) # update generator\n",
    "    if i % print_step == 0:\n",
    "        print(float(i)/float(n_epochs))"
   ]
  },
  {
   "cell_type": "code",
   "execution_count": 26,
   "metadata": {},
   "outputs": [
    {
     "data": {
      "text/plain": [
       "<matplotlib.legend.Legend at 0x21eef552da0>"
      ]
     },
     "execution_count": 26,
     "metadata": {},
     "output_type": "execute_result"
    },
    {
     "data": {
      "image/png": "[encoded data removed]",
      "text/plain": [
       "<matplotlib.figure.Figure at 0x21eef4f01d0>"
      ]
     },
     "metadata": {},
     "output_type": "display_data"
    }
   ],
   "source": [
    "plt.plot(range(n_epochs), histd, label='obj_d')\n",
    "plt.plot(range(n_epochs), 1-histg, label='obj_g')\n",
    "plt.legend()"
   ]
  },
  {
   "cell_type": "code",
   "execution_count": 27,
   "metadata": {},
   "outputs": [
    {
     "data": {
      "image/png": "[encoded data removed]",
      "text/plain": [
       "<matplotlib.figure.Figure at 0x21ec9a48d68>"
      ]
     },
     "metadata": {},
     "output_type": "display_data"
    }
   ],
   "source": [
    "plot_fig(D_real, x, G, z)"
   ]
  },
  {
   "cell_type": "code",
   "execution_count": 28,
   "metadata": {
    "collapsed": true
   },
   "outputs": [],
   "source": [
    "sess.close()"
   ]
  }
 ],
 "metadata": {
  "kernelspec": {
   "display_name": "Python 3",
   "language": "python",
   "name": "python3"
  },
  "language_info": {
   "codemirror_mode": {
    "name": "ipython",
    "version": 3
   },
   "file_extension": ".py",
   "mimetype": "text/x-python",
   "name": "python",
   "nbconvert_exporter": "python",
   "pygments_lexer": "ipython3",
   "version": "3.5.3"
  }
 },
 "nbformat": 4,
 "nbformat_minor": 2
}
