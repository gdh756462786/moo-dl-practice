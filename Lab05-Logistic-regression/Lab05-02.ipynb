{
 "cells": [
  {
   "cell_type": "markdown",
   "metadata": {},
   "source": [
    "## Lab05 logistic regression classifier"
   ]
  },
  {
   "cell_type": "code",
   "execution_count": 1,
   "metadata": {
    "collapsed": true
   },
   "outputs": [],
   "source": [
    "import tensorflow as tf\n",
    "import numpy as np"
   ]
  },
  {
   "cell_type": "code",
   "execution_count": 2,
   "metadata": {
    "collapsed": true
   },
   "outputs": [],
   "source": [
    "# for reproducibility\n",
    "tf.set_random_seed(777)"
   ]
  },
  {
   "cell_type": "code",
   "execution_count": 3,
   "metadata": {},
   "outputs": [
    {
     "name": "stdout",
     "output_type": "stream",
     "text": [
      "data shape:  (759, 9)\n"
     ]
    }
   ],
   "source": [
    "# load data\n",
    "diabetes_data = np.loadtxt('../data/data-03-diabetes.csv', delimiter=',', dtype=np.float32)\n",
    "print('data shape: ', diabetes_data.shape)"
   ]
  },
  {
   "cell_type": "code",
   "execution_count": 4,
   "metadata": {},
   "outputs": [
    {
     "name": "stdout",
     "output_type": "stream",
     "text": [
      "(759, 8)\n",
      "(759, 1)\n",
      "[[-0.29411799  0.48743701  0.180328   -0.29292899  0.          0.00149028\n",
      "  -0.53117001 -0.0333333 ]\n",
      " [-0.88235301 -0.14572901  0.0819672  -0.414141    0.         -0.20715301\n",
      "  -0.76686603 -0.66666698]\n",
      " [-0.0588235   0.83919603  0.0491803   0.          0.         -0.30551401\n",
      "  -0.49274099 -0.63333303]\n",
      " [-0.88235301 -0.105528    0.0819672  -0.53535402 -0.77777803 -0.162444\n",
      "  -0.92399698  0.        ]\n",
      " [ 0.          0.37688401 -0.344262   -0.29292899 -0.60283703  0.28465\n",
      "   0.88727599 -0.60000002]]\n",
      "[[ 0.]\n",
      " [ 1.]\n",
      " [ 0.]\n",
      " [ 1.]\n",
      " [ 0.]]\n"
     ]
    }
   ],
   "source": [
    "# split data into feature & label\n",
    "x_data = diabetes_data[:, :-1]\n",
    "y_data = diabetes_data[:, -1:]\n",
    "print(x_data.shape)\n",
    "print(y_data.shape)\n",
    "print(x_data[:5, :])\n",
    "print(y_data[:5])"
   ]
  },
  {
   "cell_type": "code",
   "execution_count": 5,
   "metadata": {
    "collapsed": true
   },
   "outputs": [],
   "source": [
    "# placeholders\n",
    "X = tf.placeholder(tf.float32, shape=[None, 8])\n",
    "Y = tf.placeholder(tf.float32, shape=[None, 1])\n",
    "W = tf.Variable(tf.random_normal([8, 1]), name='weights')\n",
    "b = tf.Variable(tf.random_normal([1]), name='bias')"
   ]
  },
  {
   "cell_type": "code",
   "execution_count": 6,
   "metadata": {},
   "outputs": [],
   "source": [
    "# our hypothesis\n",
    "hypothesis = tf.sigmoid(tf.matmul(X, W) + b)"
   ]
  },
  {
   "cell_type": "code",
   "execution_count": 7,
   "metadata": {
    "collapsed": true
   },
   "outputs": [],
   "source": [
    "# loss\n",
    "cost = -tf.reduce_mean(Y * tf.log(hypothesis) + (1 - Y) * tf.log(1 - hypothesis))"
   ]
  },
  {
   "cell_type": "code",
   "execution_count": 8,
   "metadata": {
    "collapsed": true
   },
   "outputs": [],
   "source": [
    "# optimizer\n",
    "train = tf.train.GradientDescentOptimizer(learning_rate=0.01).minimize(cost)"
   ]
  },
  {
   "cell_type": "code",
   "execution_count": 9,
   "metadata": {
    "collapsed": true
   },
   "outputs": [],
   "source": [
    "# accuracy computation\n",
    "predicted = tf.cast(hypothesis > 0.5, dtype=tf.float32)\n",
    "accuracy = tf.reduce_mean(tf.cast(tf.equal(predicted, Y), dtype=tf.float32))"
   ]
  },
  {
   "cell_type": "code",
   "execution_count": 13,
   "metadata": {},
   "outputs": [
    {
     "name": "stdout",
     "output_type": "stream",
     "text": [
      "0 0.82794\n",
      "1000 0.669853\n",
      "2000 0.606246\n",
      "3000 0.566555\n",
      "4000 0.541229\n",
      "5000 0.524479\n",
      "6000 0.512969\n",
      "7000 0.504778\n",
      "8000 0.498771\n",
      "9000 0.494249\n",
      "\n",
      "Hypothesis:  [[ 0.44349051]\n",
      " [ 0.9153583 ]\n",
      " [ 0.22592188]\n",
      " [ 0.93582606]\n",
      " [ 0.33767068]] \n",
      "Predicted:  [[ 0.]\n",
      " [ 1.]\n",
      " [ 0.]\n",
      " [ 1.]\n",
      " [ 0.]] \n",
      "Accuracy:  0.762846\n"
     ]
    }
   ],
   "source": [
    "# start training\n",
    "training_size = 10000\n",
    "print_time_stamp = 1000\n",
    "with tf.Session() as sess:\n",
    "    # initialize graph\n",
    "    sess.run(tf.global_variables_initializer())\n",
    "    \n",
    "    for step in range(training_size):\n",
    "        cost_val, _ = sess.run([cost, train], feed_dict={X: x_data, Y: y_data})\n",
    "        if step % print_time_stamp == 0:\n",
    "            print(step, cost_val)\n",
    "    \n",
    "    # accuracy report\n",
    "    h, p, a = sess.run([hypothesis, predicted, accuracy], feed_dict={X: x_data, Y: y_data})\n",
    "    print('\\nHypothesis: ', h[:5, :], '\\nPredicted: ', p[:5, :], '\\nAccuracy: ', a)"
   ]
  }
 ],
 "metadata": {
  "kernelspec": {
   "display_name": "Python 3",
   "language": "python",
   "name": "python3"
  },
  "language_info": {
   "codemirror_mode": {
    "name": "ipython",
    "version": 3
   },
   "file_extension": ".py",
   "mimetype": "text/x-python",
   "name": "python",
   "nbconvert_exporter": "python",
   "pygments_lexer": "ipython3",
   "version": "3.5.3"
  }
 },
 "nbformat": 4,
 "nbformat_minor": 2
}
