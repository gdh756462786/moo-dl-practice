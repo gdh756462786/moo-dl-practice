{
 "cells": [
  {
   "cell_type": "markdown",
   "metadata": {},
   "source": [
    "## Linear  regression without min & max"
   ]
  },
  {
   "cell_type": "code",
   "execution_count": 1,
   "metadata": {
    "collapsed": true
   },
   "outputs": [],
   "source": [
    "import tensorflow as tf\n",
    "import numpy as np\n",
    "tf.set_random_seed(777)"
   ]
  },
  {
   "cell_type": "code",
   "execution_count": 2,
   "metadata": {
    "collapsed": true
   },
   "outputs": [],
   "source": [
    "# get data\n",
    "our_data = np.array([[828.659973, 833.450012, 908100, 828.349976, 831.659973],\n",
    "                     [823.02002, 828.070007, 1828100, 821.655029, 828.070007],\n",
    "                     [819.929993, 824.400024, 1438100, 818.97998, 824.159973],\n",
    "                     [816, 820.958984, 1008100, 815.48999, 819.23999],\n",
    "                     [819.359985, 823, 1188100, 818.469971, 818.97998],\n",
    "                     [819, 823, 1198100, 816, 820.450012],\n",
    "                     [811.700012, 815.25, 1098100, 809.780029, 813.669983],\n",
    "                     [809.51001, 816.659973, 1398100, 804.539978, 809.559998]])"
   ]
  },
  {
   "cell_type": "code",
   "execution_count": 3,
   "metadata": {},
   "outputs": [],
   "source": [
    "# split data\n",
    "x_data = our_data[:, 0:-1]\n",
    "y_data = our_data[:, -1:]"
   ]
  },
  {
   "cell_type": "code",
   "execution_count": 4,
   "metadata": {
    "collapsed": true
   },
   "outputs": [],
   "source": [
    "# placeholders\n",
    "n_features = 4\n",
    "n_labels = 1\n",
    "X = tf.placeholder(tf.float32, shape=[None, n_features])\n",
    "Y = tf.placeholder(tf.float32, shape=[None, n_labels])"
   ]
  },
  {
   "cell_type": "code",
   "execution_count": 5,
   "metadata": {
    "collapsed": true
   },
   "outputs": [],
   "source": [
    "# variables\n",
    "W = tf.Variable(tf.random_normal([n_features, n_labels]), name='weight')\n",
    "b = tf.Variable(tf.random_normal([n_labels]), name='bias')"
   ]
  },
  {
   "cell_type": "code",
   "execution_count": 6,
   "metadata": {
    "collapsed": true
   },
   "outputs": [],
   "source": [
    "# hypothesis\n",
    "hypothesis = tf.matmul(X, W) + b"
   ]
  },
  {
   "cell_type": "code",
   "execution_count": 7,
   "metadata": {
    "collapsed": true
   },
   "outputs": [],
   "source": [
    "# loss\n",
    "cost = tf.reduce_mean(tf.square(hypothesis - Y))"
   ]
  },
  {
   "cell_type": "code",
   "execution_count": 8,
   "metadata": {
    "collapsed": true
   },
   "outputs": [],
   "source": [
    "# optimizer\n",
    "optimizer = tf.train.GradientDescentOptimizer(learning_rate=1e-5).minimize(cost)"
   ]
  },
  {
   "cell_type": "code",
   "execution_count": 9,
   "metadata": {},
   "outputs": [
    {
     "name": "stdout",
     "output_type": "stream",
     "text": [
      "0 2.69762e+27\n",
      "20 nan\n",
      "40 nan\n",
      "60 nan\n",
      "80 nan\n",
      "100 nan\n",
      "120 nan\n",
      "140 nan\n",
      "160 nan\n",
      "180 nan\n"
     ]
    }
   ],
   "source": [
    "# train\n",
    "train_size = 200\n",
    "print_step = 20\n",
    "with tf.Session() as sess:\n",
    "    sess.run(tf.global_variables_initializer())\n",
    "    \n",
    "    for step in range(train_size):\n",
    "        sess.run(optimizer, feed_dict={X: x_data, Y: y_data})\n",
    "        \n",
    "        if step % print_step == 0:\n",
    "            print(step, sess.run(cost, feed_dict={X: x_data, Y: y_data}))\n",
    "    "
   ]
  }
 ],
 "metadata": {
  "kernelspec": {
   "display_name": "Python 3",
   "language": "python",
   "name": "python3"
  },
  "language_info": {
   "codemirror_mode": {
    "name": "ipython",
    "version": 3
   },
   "file_extension": ".py",
   "mimetype": "text/x-python",
   "name": "python",
   "nbconvert_exporter": "python",
   "pygments_lexer": "ipython3",
   "version": "3.5.3"
  }
 },
 "nbformat": 4,
 "nbformat_minor": 2
}
