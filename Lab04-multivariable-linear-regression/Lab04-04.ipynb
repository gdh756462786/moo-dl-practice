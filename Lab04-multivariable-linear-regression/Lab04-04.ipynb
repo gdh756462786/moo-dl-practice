{
 "cells": [
  {
   "cell_type": "code",
   "execution_count": 1,
   "metadata": {
    "collapsed": true
   },
   "outputs": [],
   "source": [
    "import tensorflow as tf"
   ]
  },
  {
   "cell_type": "code",
   "execution_count": 2,
   "metadata": {},
   "outputs": [],
   "source": [
    "file_name_queue = tf.train.string_input_producer(['../data/data-01-test-score.csv'], shuffle=False, name='file_name_queue')\n",
    "reader = tf.TextLineReader()\n",
    "key, value = reader.read(file_name_queue)"
   ]
  },
  {
   "cell_type": "code",
   "execution_count": 3,
   "metadata": {
    "collapsed": true
   },
   "outputs": [],
   "source": [
    "# Default values, in case of empty columns. Also specifies the type of the decoded result.\n",
    "record_default = [[0.], [0.], [0.], [0.]]\n",
    "all_data = tf.decode_csv(value, record_defaults=record_default)"
   ]
  },
  {
   "cell_type": "code",
   "execution_count": 4,
   "metadata": {
    "collapsed": true
   },
   "outputs": [],
   "source": [
    "# collect batches of csv in\n",
    "train_x_batch, train_y_batch = tf.train.batch([all_data[:-1], all_data[-1:]], batch_size=10)"
   ]
  },
  {
   "cell_type": "code",
   "execution_count": 5,
   "metadata": {
    "collapsed": true
   },
   "outputs": [],
   "source": [
    "# set variables\n",
    "X = tf.placeholder(dtype=tf.float32, shape=[None, 3])\n",
    "Y = tf.placeholder(dtype=tf.float32, shape=[None, 1])\n",
    "W = tf.Variable(tf.random_normal([3,1]), name=\"weight\")\n",
    "b = tf.Variable(tf.random_normal([1]), name=\"bias\")\n",
    "hypothesis = tf.matmul(X, W) + b\n",
    "cost = tf.reduce_mean(tf.square(hypothesis - Y))"
   ]
  },
  {
   "cell_type": "code",
   "execution_count": 6,
   "metadata": {
    "collapsed": true
   },
   "outputs": [],
   "source": [
    "# train\n",
    "optimizer = tf.train.GradientDescentOptimizer(learning_rate=1e-5)\n",
    "train = optimizer.minimize(cost)"
   ]
  },
  {
   "cell_type": "code",
   "execution_count": 7,
   "metadata": {},
   "outputs": [
    {
     "name": "stdout",
     "output_type": "stream",
     "text": [
      "0 Cost:  65252.1\n",
      "1000 Cost:  8.17122\n",
      "2000 Cost:  6.62691\n",
      "3000 Cost:  5.70081\n",
      "4000 Cost:  5.14993\n",
      "5000 Cost:  4.82574\n",
      "6000 Cost:  4.63769\n",
      "7000 Cost:  4.53076\n",
      "8000 Cost:  4.47165\n",
      "9000 Cost:  4.44037\n",
      "10000 Cost:  4.42503\n",
      "11000 Cost:  4.41855\n",
      "12000 Cost:  4.4168\n",
      "13000 Cost:  4.41745\n",
      "14000 Cost:  4.41915\n",
      "15000 Cost:  4.4212\n",
      "16000 Cost:  4.42323\n",
      "17000 Cost:  4.42505\n",
      "18000 Cost:  4.42659\n",
      "19000 Cost:  4.42788\n",
      "20000 Cost:  4.42891\n"
     ]
    }
   ],
   "source": [
    "# start training\n",
    "with tf.Session() as sess:\n",
    "    sess.run(tf.global_variables_initializer())\n",
    "    \n",
    "    # Start populating the filename queue.\n",
    "    coord = tf.train.Coordinator()\n",
    "    threads = tf.train.start_queue_runners(sess=sess, coord=coord)\n",
    "    \n",
    "    for step in range(20001):\n",
    "        x_batch, y_batch = sess.run([train_x_batch, train_y_batch])\n",
    "        cost_val, _ = sess.run([cost, train], feed_dict={X: x_batch, Y: y_batch})\n",
    "        \n",
    "        if step % 1000 == 0:\n",
    "            print(step, \"Cost: \", cost_val)\n",
    "    \n",
    "    coord.request_stop()\n",
    "    coord.join(threads)\n"
   ]
  }
 ],
 "metadata": {
  "kernelspec": {
   "display_name": "Python 3",
   "language": "python",
   "name": "python3"
  },
  "language_info": {
   "codemirror_mode": {
    "name": "ipython",
    "version": 3
   },
   "file_extension": ".py",
   "mimetype": "text/x-python",
   "name": "python",
   "nbconvert_exporter": "python",
   "pygments_lexer": "ipython3",
   "version": "3.5.3"
  }
 },
 "nbformat": 4,
 "nbformat_minor": 2
}
