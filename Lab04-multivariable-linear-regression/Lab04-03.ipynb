{
 "cells": [
  {
   "cell_type": "code",
   "execution_count": 1,
   "metadata": {
    "collapsed": true
   },
   "outputs": [],
   "source": [
    "import numpy as np\n",
    "import tensorflow as tf"
   ]
  },
  {
   "cell_type": "code",
   "execution_count": 2,
   "metadata": {
    "scrolled": true
   },
   "outputs": [],
   "source": [
    "# load data from file\n",
    "test_data = np.loadtxt('../data/data-01-test-score.csv', delimiter=',', dtype=np.float32)\n",
    "x_data = test_data[:, :-1]\n",
    "y_data = test_data[:, -1:]\n",
    "#print(y_data.shape)\n",
    "#print(y_data)"
   ]
  },
  {
   "cell_type": "code",
   "execution_count": 3,
   "metadata": {
    "collapsed": true
   },
   "outputs": [],
   "source": [
    "# set variables\n",
    "X = tf.placeholder(dtype=tf.float32, shape=[None, 3])\n",
    "Y = tf.placeholder(dtype=tf.float32, shape=[None, 1])\n",
    "W = tf.Variable(tf.random_normal([3,1]), name=\"weight\")\n",
    "b = tf.Variable(tf.random_normal([1]), name=\"bias\")\n",
    "hypothesis = tf.matmul(X, W) + b\n",
    "cost = tf.reduce_mean(tf.square(hypothesis - Y))"
   ]
  },
  {
   "cell_type": "code",
   "execution_count": 5,
   "metadata": {},
   "outputs": [],
   "source": [
    "# train\n",
    "optimizer = tf.train.GradientDescentOptimizer(learning_rate=1e-5)\n",
    "train = optimizer.minimize(cost)"
   ]
  },
  {
   "cell_type": "code",
   "execution_count": 8,
   "metadata": {},
   "outputs": [
    {
     "name": "stdout",
     "output_type": "stream",
     "text": [
      "0 Cost:  50836.6\n",
      "1000 Cost:  12.8437\n",
      "2000 Cost:  9.15116\n",
      "3000 Cost:  7.54294\n",
      "4000 Cost:  6.8269\n",
      "5000 Cost:  6.49913\n",
      "6000 Cost:  6.34398\n",
      "7000 Cost:  6.26776\n",
      "8000 Cost:  6.22879\n",
      "9000 Cost:  6.20805\n",
      "10000 Cost:  6.19659\n",
      "11000 Cost:  6.19002\n",
      "12000 Cost:  6.1861\n",
      "13000 Cost:  6.18368\n",
      "14000 Cost:  6.18212\n",
      "15000 Cost:  6.18107\n",
      "16000 Cost:  6.18028\n",
      "17000 Cost:  6.17968\n",
      "18000 Cost:  6.17918\n",
      "19000 Cost:  6.17874\n",
      "20000 Cost:  6.17835\n",
      "Your score will be  [[ 186.45845032]]\n",
      "Other scores will be  [[ 182.4208374 ]\n",
      " [ 175.22924805]]\n"
     ]
    }
   ],
   "source": [
    "# start training\n",
    "with tf.Session() as sess:\n",
    "    sess.run(tf.global_variables_initializer())\n",
    "    for step in range(20001):\n",
    "        cost_val, _ = sess.run([cost, train], feed_dict={X: x_data, Y: y_data})\n",
    "        if step % 1000 == 0:\n",
    "            print(step, \"Cost: \", cost_val)\n",
    "    \n",
    "    # Ask my score\n",
    "    print(\"Your score will be \", sess.run(hypothesis, feed_dict={X: [[100, 70, 101]]}))\n",
    "    print(\"Other scores will be \", sess.run(hypothesis, feed_dict={X: [[60, 70, 110], [90, 100, 80]]}))"
   ]
  }
 ],
 "metadata": {
  "kernelspec": {
   "display_name": "Python 3",
   "language": "python",
   "name": "python3"
  },
  "language_info": {
   "codemirror_mode": {
    "name": "ipython",
    "version": 3
   },
   "file_extension": ".py",
   "mimetype": "text/x-python",
   "name": "python",
   "nbconvert_exporter": "python",
   "pygments_lexer": "ipython3",
   "version": "3.5.3"
  }
 },
 "nbformat": 4,
 "nbformat_minor": 2
}
