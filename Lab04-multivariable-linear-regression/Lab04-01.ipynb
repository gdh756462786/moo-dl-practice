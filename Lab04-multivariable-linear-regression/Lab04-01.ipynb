{
 "cells": [
  {
   "cell_type": "code",
   "execution_count": 1,
   "metadata": {
    "collapsed": true
   },
   "outputs": [],
   "source": [
    "import tensorflow as tf"
   ]
  },
  {
   "cell_type": "code",
   "execution_count": 2,
   "metadata": {
    "collapsed": true
   },
   "outputs": [],
   "source": [
    "x1_data = [73., 93., 89., 96., 73.]\n",
    "x2_data = [80., 88., 91., 98., 66.]\n",
    "x3_data = [75., 93., 90., 100., 70.]\n",
    "y_data = [152., 185., 180., 196., 142.]"
   ]
  },
  {
   "cell_type": "code",
   "execution_count": 3,
   "metadata": {
    "collapsed": true
   },
   "outputs": [],
   "source": [
    "x1 = tf.placeholder(tf.float32)\n",
    "x2 = tf.placeholder(tf.float32)\n",
    "x3 = tf.placeholder(tf.float32)\n",
    "Y  = tf.placeholder(tf.float32)"
   ]
  },
  {
   "cell_type": "code",
   "execution_count": 4,
   "metadata": {
    "collapsed": true
   },
   "outputs": [],
   "source": [
    "w1 = tf.Variable(tf.random_normal([1]), name=\"weight1\")\n",
    "w2 = tf.Variable(tf.random_normal([1]), name=\"weight2\")\n",
    "w3 = tf.Variable(tf.random_normal([1]), name=\"weight3\")\n",
    "b = tf.Variable(tf.random_normal([1]), name=\"bias\")\n",
    "hypothesis = x1 * w1 + x2 * w2 + x3 * w3 + b"
   ]
  },
  {
   "cell_type": "code",
   "execution_count": 5,
   "metadata": {},
   "outputs": [],
   "source": [
    "# cost / loss\n",
    "cost = tf.reduce_mean(tf.square(hypothesis - Y))\n",
    "optimizer = tf.train.GradientDescentOptimizer(learning_rate=1e-05)\n",
    "train = optimizer.minimize(cost)"
   ]
  },
  {
   "cell_type": "code",
   "execution_count": 8,
   "metadata": {},
   "outputs": [
    {
     "name": "stdout",
     "output_type": "stream",
     "text": [
      "0 Cost:  2871.58 \n",
      "Prediction:\n",
      " [ 111.87011719  122.68323517  127.07879639  134.35946655   94.41945648]\n",
      "1000 Cost:  13.4032 \n",
      "Prediction:\n",
      " [ 157.68774414  180.67071533  182.69165039  195.15995789  139.1764679 ]\n",
      "2000 Cost:  8.48416 \n",
      "Prediction:\n",
      " [ 156.49992371  181.47880554  182.31973267  194.95246887  140.18501282]\n",
      "3000 Cost:  5.59315 \n",
      "Prediction:\n",
      " [ 155.58802795  182.0978241   182.032547    194.80480957  140.94668579]\n",
      "4000 Cost:  3.88299 \n",
      "Prediction:\n",
      " [ 154.88674927  182.57266235  181.81007385  194.7026062   141.52033997]\n",
      "5000 Cost:  2.86101 \n",
      "Prediction:\n",
      " [ 154.34620667  182.93743896  181.63702393  194.63475037  141.95072937]\n",
      "6000 Cost:  2.24046 \n",
      "Prediction:\n",
      " [ 153.92831421  183.21824646  181.50175476  194.59286499  142.27198792]\n",
      "7000 Cost:  1.85466 \n",
      "Prediction:\n",
      " [ 153.60414124  183.43496704  181.39538574  194.57058716  142.51028442]\n",
      "8000 Cost:  1.60662 \n",
      "Prediction:\n",
      " [ 153.35159302  183.60270691  181.31111145  194.56297302  142.68540955]\n",
      "9000 Cost:  1.43973 \n",
      "Prediction:\n",
      " [ 153.15376282  183.733078    181.24375916  194.56639099  142.81253052]\n",
      "10000 Cost:  1.32124 \n",
      "Prediction:\n",
      " [ 152.99781799  183.83483887  181.18940735  194.57788086  142.90322876]\n",
      "11000 Cost:  1.23183 \n",
      "Prediction:\n",
      " [ 152.87393188  183.91474915  181.14501953  194.59541321  142.96627808]\n",
      "12000 Cost:  1.16034 \n",
      "Prediction:\n",
      " [ 152.77458191  183.97795105  181.10832214  194.61729431  143.00840759]\n",
      "13000 Cost:  1.10016 \n",
      "Prediction:\n",
      " [ 152.6940918   184.02838135  181.07752991  194.64230347  143.03469849]\n",
      "14000 Cost:  1.04746 \n",
      "Prediction:\n",
      " [ 152.62808228  184.06895447  181.05133057  194.66952515  143.04904175]\n",
      "15000 Cost:  0.999935 \n",
      "Prediction:\n",
      " [ 152.57322693  184.102005    181.02871704  194.69822693  143.0544281 ]\n",
      "16000 Cost:  0.956219 \n",
      "Prediction:\n",
      " [ 152.5269928   184.1292572   181.0088501   194.72784424  143.05310059]\n",
      "17000 Cost:  0.915519 \n",
      "Prediction:\n",
      " [ 152.48744202  184.15202332  180.99119568  194.75798035  143.04682922]\n",
      "18000 Cost:  0.877253 \n",
      "Prediction:\n",
      " [ 152.45310974  184.17134094  180.97523499  194.78834534  143.03686523]\n",
      "19000 Cost:  0.84112 \n",
      "Prediction:\n",
      " [ 152.42282104  184.18795776  180.96066284  194.81867981  143.0242157 ]\n",
      "20000 Cost:  0.806877 \n",
      "Prediction:\n",
      " [ 152.39567566  184.20256042  180.94720459  194.84884644  143.00973511]\n"
     ]
    }
   ],
   "source": [
    "# start training\n",
    "with tf.Session() as sess:\n",
    "    sess.run(tf.global_variables_initializer())\n",
    "    for step in range(20001):\n",
    "        cost_val, hy_val, _ = sess.run([cost, hypothesis, train], feed_dict={x1: x1_data, x2: x2_data, x3: x3_data, Y: y_data})\n",
    "        if step % 1000 == 0:\n",
    "            print(step, \"Cost: \", cost_val, \"\\nPrediction:\\n\", hy_val)\n",
    "        \n"
   ]
  }
 ],
 "metadata": {
  "kernelspec": {
   "display_name": "Python 3",
   "language": "python",
   "name": "python3"
  },
  "language_info": {
   "codemirror_mode": {
    "name": "ipython",
    "version": 3
   },
   "file_extension": ".py",
   "mimetype": "text/x-python",
   "name": "python",
   "nbconvert_exporter": "python",
   "pygments_lexer": "ipython3",
   "version": "3.5.3"
  }
 },
 "nbformat": 4,
 "nbformat_minor": 2
}
