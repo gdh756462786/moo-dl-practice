{
 "cells": [
  {
   "cell_type": "code",
   "execution_count": 1,
   "metadata": {
    "collapsed": true
   },
   "outputs": [],
   "source": [
    "import tensorflow as tf"
   ]
  },
  {
   "cell_type": "code",
   "execution_count": 2,
   "metadata": {
    "collapsed": true
   },
   "outputs": [],
   "source": [
    "x_data = [[73., 80., 75.], [93., 88., 93.],\n",
    "         [89., 91., 90.], [96., 98., 100.], [73., 66., 70.]]\n",
    "y_data = [[152.], [185.], [180.], [196.], [142.]]"
   ]
  },
  {
   "cell_type": "code",
   "execution_count": 3,
   "metadata": {
    "collapsed": true
   },
   "outputs": [],
   "source": [
    "X = tf.placeholder(tf.float32, shape=[None, 3])\n",
    "Y = tf.placeholder(tf.float32, shape=[None, 1])"
   ]
  },
  {
   "cell_type": "code",
   "execution_count": 4,
   "metadata": {
    "collapsed": true
   },
   "outputs": [],
   "source": [
    "W = tf.Variable(tf.random_normal([3, 1]), name=\"weight\")\n",
    "b = tf.Variable(tf.random_normal([1]), name=\"bias\")\n",
    "hypothesis = tf.matmul(X, W) + b"
   ]
  },
  {
   "cell_type": "code",
   "execution_count": 5,
   "metadata": {
    "collapsed": true
   },
   "outputs": [],
   "source": [
    "# cost / loss\n",
    "cost = tf.reduce_mean(tf.square(hypothesis - Y))\n",
    "optimizer = tf.train.GradientDescentOptimizer(learning_rate=1e-05)\n",
    "train = optimizer.minimize(cost)"
   ]
  },
  {
   "cell_type": "code",
   "execution_count": 6,
   "metadata": {},
   "outputs": [
    {
     "name": "stdout",
     "output_type": "stream",
     "text": [
      "0 Cost:  110442.0 \n",
      "Prediction:\n",
      " [[-149.74220276]\n",
      " [-165.50102234]\n",
      " [-170.57775879]\n",
      " [-184.39910889]\n",
      " [-123.90067291]]\n",
      "1000 Cost:  10.0249 \n",
      "Prediction:\n",
      " [[ 146.49559021]\n",
      " [ 187.9440918 ]\n",
      " [ 179.03840637]\n",
      " [ 196.13534546]\n",
      " [ 145.19616699]]\n",
      "2000 Cost:  6.07608 \n",
      "Prediction:\n",
      " [[ 147.55488586]\n",
      " [ 187.22105408]\n",
      " [ 179.36701965]\n",
      " [ 196.34156799]\n",
      " [ 144.27397156]]\n",
      "3000 Cost:  3.77149 \n",
      "Prediction:\n",
      " [[ 148.36584473]\n",
      " [ 186.66824341]\n",
      " [ 179.61943054]\n",
      " [ 196.49343872]\n",
      " [ 143.57449341]]\n",
      "4000 Cost:  2.42361 \n",
      "Prediction:\n",
      " [[ 148.98728943]\n",
      " [ 186.24523926]\n",
      " [ 179.81367493]\n",
      " [ 196.60388184]\n",
      " [ 143.0447998 ]]\n",
      "5000 Cost:  1.63244 \n",
      "Prediction:\n",
      " [[ 149.46418762]\n",
      " [ 185.92126465]\n",
      " [ 179.96357727]\n",
      " [ 196.68296814]\n",
      " [ 142.64447021]]\n",
      "6000 Cost:  1.1654 \n",
      "Prediction:\n",
      " [[ 149.83079529]\n",
      " [ 185.67286682]\n",
      " [ 180.07957458]\n",
      " [ 196.73823547]\n",
      " [ 142.34272766]]\n",
      "7000 Cost:  0.887212 \n",
      "Prediction:\n",
      " [[ 150.11317444]\n",
      " [ 185.4821167 ]\n",
      " [ 180.16966248]\n",
      " [ 196.77540588]\n",
      " [ 142.11607361]]\n",
      "8000 Cost:  0.719186 \n",
      "Prediction:\n",
      " [[ 150.33126831]\n",
      " [ 185.33537292]\n",
      " [ 180.23999023]\n",
      " [ 196.79896545]\n",
      " [ 141.9466095 ]]\n",
      "9000 Cost:  0.615507 \n",
      "Prediction:\n",
      " [[ 150.50027466]\n",
      " [ 185.22221375]\n",
      " [ 180.29519653]\n",
      " [ 196.81221008]\n",
      " [ 141.82067871]]\n",
      "10000 Cost:  0.549541 \n",
      "Prediction:\n",
      " [[ 150.6317749 ]\n",
      " [ 185.13470459]\n",
      " [ 180.33880615]\n",
      " [ 196.81771851]\n",
      " [ 141.72784424]]\n",
      "11000 Cost:  0.505775 \n",
      "Prediction:\n",
      " [[ 150.73461914]\n",
      " [ 185.06677246]\n",
      " [ 180.37358093]\n",
      " [ 196.81744385]\n",
      " [ 141.66021729]]\n",
      "12000 Cost:  0.475179 \n",
      "Prediction:\n",
      " [[ 150.8155365 ]\n",
      " [ 185.01379395]\n",
      " [ 180.40155029]\n",
      " [ 196.81285095]\n",
      " [ 141.61169434]]\n",
      "13000 Cost:  0.452474 \n",
      "Prediction:\n",
      " [[ 150.87969971]\n",
      " [ 184.97229004]\n",
      " [ 180.42430115]\n",
      " [ 196.80508423]\n",
      " [ 141.57769775]]\n",
      "14000 Cost:  0.434595 \n",
      "Prediction:\n",
      " [[ 150.93099976]\n",
      " [ 184.93951416]\n",
      " [ 180.44303894]\n",
      " [ 196.79498291]\n",
      " [ 141.55471802]]\n",
      "15000 Cost:  0.419762 \n",
      "Prediction:\n",
      " [[ 150.97242737]\n",
      " [ 184.91343689]\n",
      " [ 180.45869446]\n",
      " [ 196.78321838]\n",
      " [ 141.5400238 ]]\n",
      "16000 Cost:  0.406883 \n",
      "Prediction:\n",
      " [[ 151.00630188]\n",
      " [ 184.89250183]\n",
      " [ 180.47193909]\n",
      " [ 196.77027893]\n",
      " [ 141.53163147]]\n",
      "17000 Cost:  0.395354 \n",
      "Prediction:\n",
      " [[ 151.03434753]\n",
      " [ 184.87550354]\n",
      " [ 180.48335266]\n",
      " [ 196.7565155 ]\n",
      " [ 141.52793884]]\n",
      "18000 Cost:  0.384801 \n",
      "Prediction:\n",
      " [[ 151.05789185]\n",
      " [ 184.86154175]\n",
      " [ 180.49328613]\n",
      " [ 196.74224854]\n",
      " [ 141.527771  ]]\n",
      "19000 Cost:  0.375008 \n",
      "Prediction:\n",
      " [[ 151.07792664]\n",
      " [ 184.84991455]\n",
      " [ 180.50210571]\n",
      " [ 196.72767639]\n",
      " [ 141.53024292]]\n",
      "20000 Cost:  0.365812 \n",
      "Prediction:\n",
      " [[ 151.0953064 ]\n",
      " [ 184.84010315]\n",
      " [ 180.51005554]\n",
      " [ 196.71298218]\n",
      " [ 141.53468323]]\n"
     ]
    }
   ],
   "source": [
    "# start training\n",
    "with tf.Session() as sess:\n",
    "    sess.run(tf.global_variables_initializer())\n",
    "    for step in range(20001):\n",
    "        cost_val, hy_val, _ = sess.run([cost, hypothesis, train], feed_dict={X: x_data, Y: y_data})\n",
    "        if step % 1000 == 0:\n",
    "            print(step, \"Cost: \", cost_val, \"\\nPrediction:\\n\", hy_val)\n",
    "        \n"
   ]
  }
 ],
 "metadata": {
  "kernelspec": {
   "display_name": "Python 3",
   "language": "python",
   "name": "python3"
  },
  "language_info": {
   "codemirror_mode": {
    "name": "ipython",
    "version": 3
   },
   "file_extension": ".py",
   "mimetype": "text/x-python",
   "name": "python",
   "nbconvert_exporter": "python",
   "pygments_lexer": "ipython3",
   "version": "3.5.3"
  }
 },
 "nbformat": 4,
 "nbformat_minor": 2
}
