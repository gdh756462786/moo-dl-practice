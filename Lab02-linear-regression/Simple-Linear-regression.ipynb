{
 "cells": [
  {
   "cell_type": "markdown",
   "metadata": {},
   "source": [
    "# Linear regression"
   ]
  },
  {
   "cell_type": "code",
   "execution_count": 1,
   "metadata": {
    "collapsed": true
   },
   "outputs": [],
   "source": [
    "import tensorflow as tf"
   ]
  },
  {
   "cell_type": "code",
   "execution_count": 2,
   "metadata": {},
   "outputs": [],
   "source": [
    "# define feature & label\n",
    "x_feature = [float(x) for x in range(10)]\n",
    "y_label = [float(x*2) for x in range(10)]"
   ]
  },
  {
   "cell_type": "code",
   "execution_count": 3,
   "metadata": {},
   "outputs": [
    {
     "data": {
      "text/plain": [
       "[0.0, 1.0, 2.0, 3.0, 4.0, 5.0, 6.0, 7.0, 8.0, 9.0]"
      ]
     },
     "execution_count": 3,
     "metadata": {},
     "output_type": "execute_result"
    }
   ],
   "source": [
    "x_feature"
   ]
  },
  {
   "cell_type": "code",
   "execution_count": 4,
   "metadata": {},
   "outputs": [
    {
     "data": {
      "text/plain": [
       "[0.0, 2.0, 4.0, 6.0, 8.0, 10.0, 12.0, 14.0, 16.0, 18.0]"
      ]
     },
     "execution_count": 4,
     "metadata": {},
     "output_type": "execute_result"
    }
   ],
   "source": [
    "y_label"
   ]
  },
  {
   "cell_type": "code",
   "execution_count": 5,
   "metadata": {},
   "outputs": [],
   "source": [
    "# define weight & bias for linear regression\n",
    "W = tf.Variable(tf.truncated_normal([1], stddev=0.01))\n",
    "b = tf.zeros([1], tf.float32)"
   ]
  },
  {
   "cell_type": "code",
   "execution_count": 6,
   "metadata": {
    "collapsed": true
   },
   "outputs": [],
   "source": [
    "# define placeholder for feed_dict\n",
    "X = tf.placeholder(tf.float32, shape=[None])\n",
    "Y = tf.placeholder(tf.float32, shape=[None])"
   ]
  },
  {
   "cell_type": "code",
   "execution_count": 7,
   "metadata": {
    "collapsed": true
   },
   "outputs": [],
   "source": [
    "# our hypothesis\n",
    "hypothesis = X * W + b"
   ]
  },
  {
   "cell_type": "code",
   "execution_count": 8,
   "metadata": {
    "collapsed": true
   },
   "outputs": [],
   "source": [
    "# our loss(cost)\n",
    "cost = tf.reduce_mean(tf.square(hypothesis - Y))"
   ]
  },
  {
   "cell_type": "code",
   "execution_count": 9,
   "metadata": {
    "collapsed": true
   },
   "outputs": [],
   "source": [
    "# our optimizer\n",
    "optimizer = tf.train.GradientDescentOptimizer(learning_rate=0.01)"
   ]
  },
  {
   "cell_type": "code",
   "execution_count": 10,
   "metadata": {
    "collapsed": true
   },
   "outputs": [],
   "source": [
    "# our minimizer\n",
    "train = optimizer.minimize(cost)"
   ]
  },
  {
   "cell_type": "code",
   "execution_count": 12,
   "metadata": {},
   "outputs": [
    {
     "name": "stdout",
     "output_type": "stream",
     "text": [
      "0 114.504 [ 1.13810074] [ 0.]\n",
      "20 7.80176e-13 [ 2.] [ 0.]\n",
      "40 0.0 [ 2.] [ 0.]\n",
      "60 0.0 [ 2.] [ 0.]\n",
      "80 0.0 [ 2.] [ 0.]\n",
      "100 0.0 [ 2.] [ 0.]\n",
      "120 0.0 [ 2.] [ 0.]\n",
      "140 0.0 [ 2.] [ 0.]\n",
      "160 0.0 [ 2.] [ 0.]\n",
      "180 0.0 [ 2.] [ 0.]\n",
      "200 0.0 [ 2.] [ 0.]\n",
      "220 0.0 [ 2.] [ 0.]\n",
      "240 0.0 [ 2.] [ 0.]\n",
      "260 0.0 [ 2.] [ 0.]\n",
      "280 0.0 [ 2.] [ 0.]\n",
      "300 0.0 [ 2.] [ 0.]\n",
      "320 0.0 [ 2.] [ 0.]\n",
      "340 0.0 [ 2.] [ 0.]\n",
      "360 0.0 [ 2.] [ 0.]\n",
      "380 0.0 [ 2.] [ 0.]\n",
      "400 0.0 [ 2.] [ 0.]\n",
      "420 0.0 [ 2.] [ 0.]\n",
      "440 0.0 [ 2.] [ 0.]\n",
      "460 0.0 [ 2.] [ 0.]\n",
      "480 0.0 [ 2.] [ 0.]\n",
      "500 0.0 [ 2.] [ 0.]\n",
      "520 0.0 [ 2.] [ 0.]\n",
      "540 0.0 [ 2.] [ 0.]\n",
      "560 0.0 [ 2.] [ 0.]\n",
      "580 0.0 [ 2.] [ 0.]\n",
      "600 0.0 [ 2.] [ 0.]\n",
      "620 0.0 [ 2.] [ 0.]\n",
      "640 0.0 [ 2.] [ 0.]\n",
      "660 0.0 [ 2.] [ 0.]\n",
      "680 0.0 [ 2.] [ 0.]\n",
      "700 0.0 [ 2.] [ 0.]\n",
      "720 0.0 [ 2.] [ 0.]\n",
      "740 0.0 [ 2.] [ 0.]\n",
      "760 0.0 [ 2.] [ 0.]\n",
      "780 0.0 [ 2.] [ 0.]\n",
      "800 0.0 [ 2.] [ 0.]\n",
      "820 0.0 [ 2.] [ 0.]\n",
      "840 0.0 [ 2.] [ 0.]\n",
      "860 0.0 [ 2.] [ 0.]\n",
      "880 0.0 [ 2.] [ 0.]\n",
      "900 0.0 [ 2.] [ 0.]\n",
      "920 0.0 [ 2.] [ 0.]\n",
      "940 0.0 [ 2.] [ 0.]\n",
      "960 0.0 [ 2.] [ 0.]\n",
      "980 0.0 [ 2.] [ 0.]\n",
      "1000 0.0 [ 2.] [ 0.]\n",
      "1020 0.0 [ 2.] [ 0.]\n",
      "1040 0.0 [ 2.] [ 0.]\n",
      "1060 0.0 [ 2.] [ 0.]\n",
      "1080 0.0 [ 2.] [ 0.]\n",
      "1100 0.0 [ 2.] [ 0.]\n",
      "1120 0.0 [ 2.] [ 0.]\n",
      "1140 0.0 [ 2.] [ 0.]\n",
      "1160 0.0 [ 2.] [ 0.]\n",
      "1180 0.0 [ 2.] [ 0.]\n",
      "1200 0.0 [ 2.] [ 0.]\n",
      "1220 0.0 [ 2.] [ 0.]\n",
      "1240 0.0 [ 2.] [ 0.]\n",
      "1260 0.0 [ 2.] [ 0.]\n",
      "1280 0.0 [ 2.] [ 0.]\n",
      "1300 0.0 [ 2.] [ 0.]\n",
      "1320 0.0 [ 2.] [ 0.]\n",
      "1340 0.0 [ 2.] [ 0.]\n",
      "1360 0.0 [ 2.] [ 0.]\n",
      "1380 0.0 [ 2.] [ 0.]\n",
      "1400 0.0 [ 2.] [ 0.]\n",
      "1420 0.0 [ 2.] [ 0.]\n",
      "1440 0.0 [ 2.] [ 0.]\n",
      "1460 0.0 [ 2.] [ 0.]\n",
      "1480 0.0 [ 2.] [ 0.]\n",
      "1500 0.0 [ 2.] [ 0.]\n",
      "1520 0.0 [ 2.] [ 0.]\n",
      "1540 0.0 [ 2.] [ 0.]\n",
      "1560 0.0 [ 2.] [ 0.]\n",
      "1580 0.0 [ 2.] [ 0.]\n",
      "1600 0.0 [ 2.] [ 0.]\n",
      "1620 0.0 [ 2.] [ 0.]\n",
      "1640 0.0 [ 2.] [ 0.]\n",
      "1660 0.0 [ 2.] [ 0.]\n",
      "1680 0.0 [ 2.] [ 0.]\n",
      "1700 0.0 [ 2.] [ 0.]\n",
      "1720 0.0 [ 2.] [ 0.]\n",
      "1740 0.0 [ 2.] [ 0.]\n",
      "1760 0.0 [ 2.] [ 0.]\n",
      "1780 0.0 [ 2.] [ 0.]\n",
      "1800 0.0 [ 2.] [ 0.]\n",
      "1820 0.0 [ 2.] [ 0.]\n",
      "1840 0.0 [ 2.] [ 0.]\n",
      "1860 0.0 [ 2.] [ 0.]\n",
      "1880 0.0 [ 2.] [ 0.]\n",
      "1900 0.0 [ 2.] [ 0.]\n",
      "1920 0.0 [ 2.] [ 0.]\n",
      "1940 0.0 [ 2.] [ 0.]\n",
      "1960 0.0 [ 2.] [ 0.]\n",
      "1980 0.0 [ 2.] [ 0.]\n",
      "2000 0.0 [ 2.] [ 0.]\n",
      "[ 20.]\n"
     ]
    }
   ],
   "source": [
    "# lets start training\n",
    "with tf.Session() as sess:\n",
    "    # initialize tf.Variable\n",
    "    sess.run(tf.global_variables_initializer())\n",
    "    \n",
    "    # run many steps\n",
    "    for i in range(2001):\n",
    "        cost_val, w_val, b_val, _ = sess.run([cost, W, b, train], feed_dict={X: x_feature, Y: y_label})\n",
    "        \n",
    "        if i % 20 == 0:\n",
    "            print(i, cost_val, w_val, b_val)\n",
    "        \n",
    "        # test trained model\n",
    "        if i == 2000:\n",
    "            print(sess.run(hypothesis, feed_dict={X: [10]}))"
   ]
  }
 ],
 "metadata": {
  "kernelspec": {
   "display_name": "Python 3",
   "language": "python",
   "name": "python3"
  },
  "language_info": {
   "codemirror_mode": {
    "name": "ipython",
    "version": 3
   },
   "file_extension": ".py",
   "mimetype": "text/x-python",
   "name": "python",
   "nbconvert_exporter": "python",
   "pygments_lexer": "ipython3",
   "version": "3.5.3"
  }
 },
 "nbformat": 4,
 "nbformat_minor": 2
}
